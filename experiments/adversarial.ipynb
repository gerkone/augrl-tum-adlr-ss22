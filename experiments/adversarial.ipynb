{
 "cells": [
  {
   "cell_type": "code",
   "execution_count": 6,
   "metadata": {},
   "outputs": [
    {
     "name": "stdout",
     "output_type": "stream",
     "text": [
      "The autoreload extension is already loaded. To reload it, use:\n",
      "  %reload_ext autoreload\n"
     ]
    }
   ],
   "source": [
    "%load_ext autoreload\n",
    "%autoreload 2"
   ]
  },
  {
   "cell_type": "code",
   "execution_count": 7,
   "metadata": {},
   "outputs": [],
   "source": [
    "import d3rlpy\n",
    "import pandas as pd\n",
    "from d3rlpy.metrics.scorer import (\n",
    "    evaluate_on_environment,\n",
    ")\n",
    "\n",
    "import warnings\n",
    "\n",
    "warnings.filterwarnings(\"ignore\")\n",
    "import os\n",
    "\n",
    "os.chdir(\"..\")\n",
    "\n",
    "from augrl.algos import AugmentedDiscreteBCQ"
   ]
  },
  {
   "cell_type": "code",
   "execution_count": 8,
   "metadata": {},
   "outputs": [],
   "source": [
    "dataset, env = d3rlpy.datasets.get_dataset(\"cartpole-replay\")"
   ]
  },
  {
   "cell_type": "code",
   "execution_count": 13,
   "metadata": {},
   "outputs": [
    {
     "name": "stdout",
     "output_type": "stream",
     "text": [
      "2022-06-27 23:16.37 [info     ] Directory is created at d3rlpy_logs/AugmentedDiscreteBCQ_20220627231637\n"
     ]
    },
    {
     "name": "stderr",
     "output_type": "stream",
     "text": [
      "Epoch 1/3:   0%|          | 0/10 [00:00<?, ?it/s]"
     ]
    },
    {
     "name": "stdout",
     "output_type": "stream",
     "text": [
      "49866\n",
      "49866\n"
     ]
    },
    {
     "ename": "KeyboardInterrupt",
     "evalue": "",
     "output_type": "error",
     "traceback": [
      "\u001b[0;31m---------------------------------------------------------------------------\u001b[0m",
      "\u001b[0;31mKeyboardInterrupt\u001b[0m                         Traceback (most recent call last)",
      "\u001b[1;32m/home/gerkone/git/tum-adlr-ss22-3/experiments/adversarial.ipynb Cell 4'\u001b[0m in \u001b[0;36m<cell line: 10>\u001b[0;34m()\u001b[0m\n\u001b[1;32m      <a href='vscode-notebook-cell:/home/gerkone/git/tum-adlr-ss22-3/experiments/adversarial.ipynb#ch0000003?line=2'>3</a>\u001b[0m agent \u001b[39m=\u001b[39m AugmentedDiscreteBCQ(\n\u001b[1;32m      <a href='vscode-notebook-cell:/home/gerkone/git/tum-adlr-ss22-3/experiments/adversarial.ipynb#ch0000003?line=3'>4</a>\u001b[0m     use_gpu\u001b[39m=\u001b[39m\u001b[39mFalse\u001b[39;00m,\n\u001b[1;32m      <a href='vscode-notebook-cell:/home/gerkone/git/tum-adlr-ss22-3/experiments/adversarial.ipynb#ch0000003?line=4'>5</a>\u001b[0m     augmentations\u001b[39m=\u001b[39m[(\u001b[39m\"\u001b[39m\u001b[39mmixup\u001b[39m\u001b[39m\"\u001b[39m, {}), (\u001b[39m\"\u001b[39m\u001b[39madversarial\u001b[39m\u001b[39m\"\u001b[39m, {\u001b[39m\"\u001b[39m\u001b[39mnorm\u001b[39m\u001b[39m\"\u001b[39m: \u001b[39m\"\u001b[39m\u001b[39m2\u001b[39m\u001b[39m\"\u001b[39m, \u001b[39m\"\u001b[39m\u001b[39meps\u001b[39m\u001b[39m\"\u001b[39m: \u001b[39m1e-4\u001b[39m, \u001b[39m\"\u001b[39m\u001b[39mimpl\u001b[39m\u001b[39m\"\u001b[39m: \u001b[39mNone\u001b[39;00m})],\n\u001b[1;32m      <a href='vscode-notebook-cell:/home/gerkone/git/tum-adlr-ss22-3/experiments/adversarial.ipynb#ch0000003?line=5'>6</a>\u001b[0m     real_ratio\u001b[39m=\u001b[39m\u001b[39m0.5\u001b[39m,\n\u001b[1;32m      <a href='vscode-notebook-cell:/home/gerkone/git/tum-adlr-ss22-3/experiments/adversarial.ipynb#ch0000003?line=6'>7</a>\u001b[0m     scaler\u001b[39m=\u001b[39m\u001b[39m\"\u001b[39m\u001b[39mmin_max\u001b[39m\u001b[39m\"\u001b[39m,\n\u001b[1;32m      <a href='vscode-notebook-cell:/home/gerkone/git/tum-adlr-ss22-3/experiments/adversarial.ipynb#ch0000003?line=7'>8</a>\u001b[0m )\n\u001b[1;32m      <a href='vscode-notebook-cell:/home/gerkone/git/tum-adlr-ss22-3/experiments/adversarial.ipynb#ch0000003?line=8'>9</a>\u001b[0m agent\u001b[39m.\u001b[39mgenerated_maxlen \u001b[39m=\u001b[39m \u001b[39mlen\u001b[39m(dataset\u001b[39m.\u001b[39mobservations)\n\u001b[0;32m---> <a href='vscode-notebook-cell:/home/gerkone/git/tum-adlr-ss22-3/experiments/adversarial.ipynb#ch0000003?line=9'>10</a>\u001b[0m metrics \u001b[39m=\u001b[39m agent\u001b[39m.\u001b[39;49mfit(\n\u001b[1;32m     <a href='vscode-notebook-cell:/home/gerkone/git/tum-adlr-ss22-3/experiments/adversarial.ipynb#ch0000003?line=10'>11</a>\u001b[0m     dataset\u001b[39m=\u001b[39;49mdataset,\n\u001b[1;32m     <a href='vscode-notebook-cell:/home/gerkone/git/tum-adlr-ss22-3/experiments/adversarial.ipynb#ch0000003?line=11'>12</a>\u001b[0m     eval_episodes\u001b[39m=\u001b[39;49mdataset,\n\u001b[1;32m     <a href='vscode-notebook-cell:/home/gerkone/git/tum-adlr-ss22-3/experiments/adversarial.ipynb#ch0000003?line=12'>13</a>\u001b[0m     n_steps\u001b[39m=\u001b[39;49m\u001b[39m30\u001b[39;49m,\n\u001b[1;32m     <a href='vscode-notebook-cell:/home/gerkone/git/tum-adlr-ss22-3/experiments/adversarial.ipynb#ch0000003?line=13'>14</a>\u001b[0m     n_steps_per_epoch\u001b[39m=\u001b[39;49m\u001b[39m10\u001b[39;49m,\n\u001b[1;32m     <a href='vscode-notebook-cell:/home/gerkone/git/tum-adlr-ss22-3/experiments/adversarial.ipynb#ch0000003?line=14'>15</a>\u001b[0m     scorers\u001b[39m=\u001b[39;49m({\u001b[39m\"\u001b[39;49m\u001b[39menvironment_reward\u001b[39;49m\u001b[39m\"\u001b[39;49m: evaluate_on_environment(env, n_trials\u001b[39m=\u001b[39;49m\u001b[39m1\u001b[39;49m)}),\n\u001b[1;32m     <a href='vscode-notebook-cell:/home/gerkone/git/tum-adlr-ss22-3/experiments/adversarial.ipynb#ch0000003?line=15'>16</a>\u001b[0m     verbose\u001b[39m=\u001b[39;49m\u001b[39mFalse\u001b[39;49;00m,\n\u001b[1;32m     <a href='vscode-notebook-cell:/home/gerkone/git/tum-adlr-ss22-3/experiments/adversarial.ipynb#ch0000003?line=16'>17</a>\u001b[0m     show_progress\u001b[39m=\u001b[39;49m\u001b[39mTrue\u001b[39;49;00m\n\u001b[1;32m     <a href='vscode-notebook-cell:/home/gerkone/git/tum-adlr-ss22-3/experiments/adversarial.ipynb#ch0000003?line=17'>18</a>\u001b[0m )\n",
      "File \u001b[0;32m~/.local/lib/python3.10/site-packages/d3rlpy/base.py:406\u001b[0m, in \u001b[0;36mLearnableBase.fit\u001b[0;34m(self, dataset, n_epochs, n_steps, n_steps_per_epoch, save_metrics, experiment_name, with_timestamp, logdir, verbose, show_progress, tensorboard_dir, eval_episodes, save_interval, scorers, shuffle, callback)\u001b[0m\n\u001b[1;32m    <a href='file:///home/gerkone/.local/lib/python3.10/site-packages/d3rlpy/base.py?line=348'>349</a>\u001b[0m \u001b[39mdef\u001b[39;00m \u001b[39mfit\u001b[39m(\n\u001b[1;32m    <a href='file:///home/gerkone/.local/lib/python3.10/site-packages/d3rlpy/base.py?line=349'>350</a>\u001b[0m     \u001b[39mself\u001b[39m,\n\u001b[1;32m    <a href='file:///home/gerkone/.local/lib/python3.10/site-packages/d3rlpy/base.py?line=350'>351</a>\u001b[0m     dataset: Union[List[Episode], List[Transition], MDPDataset],\n\u001b[0;32m   (...)\u001b[0m\n\u001b[1;32m    <a href='file:///home/gerkone/.local/lib/python3.10/site-packages/d3rlpy/base.py?line=367'>368</a>\u001b[0m     callback: Optional[Callable[[\u001b[39m\"\u001b[39m\u001b[39mLearnableBase\u001b[39m\u001b[39m\"\u001b[39m, \u001b[39mint\u001b[39m, \u001b[39mint\u001b[39m], \u001b[39mNone\u001b[39;00m]] \u001b[39m=\u001b[39m \u001b[39mNone\u001b[39;00m,\n\u001b[1;32m    <a href='file:///home/gerkone/.local/lib/python3.10/site-packages/d3rlpy/base.py?line=368'>369</a>\u001b[0m ) \u001b[39m-\u001b[39m\u001b[39m>\u001b[39m List[Tuple[\u001b[39mint\u001b[39m, Dict[\u001b[39mstr\u001b[39m, \u001b[39mfloat\u001b[39m]]]:\n\u001b[1;32m    <a href='file:///home/gerkone/.local/lib/python3.10/site-packages/d3rlpy/base.py?line=369'>370</a>\u001b[0m     \u001b[39m\"\"\"Trains with the given dataset.\u001b[39;00m\n\u001b[1;32m    <a href='file:///home/gerkone/.local/lib/python3.10/site-packages/d3rlpy/base.py?line=370'>371</a>\u001b[0m \n\u001b[1;32m    <a href='file:///home/gerkone/.local/lib/python3.10/site-packages/d3rlpy/base.py?line=371'>372</a>\u001b[0m \u001b[39m    .. code-block:: python\u001b[39;00m\n\u001b[0;32m   (...)\u001b[0m\n\u001b[1;32m    <a href='file:///home/gerkone/.local/lib/python3.10/site-packages/d3rlpy/base.py?line=403'>404</a>\u001b[0m \n\u001b[1;32m    <a href='file:///home/gerkone/.local/lib/python3.10/site-packages/d3rlpy/base.py?line=404'>405</a>\u001b[0m \u001b[39m    \"\"\"\u001b[39;00m\n\u001b[0;32m--> <a href='file:///home/gerkone/.local/lib/python3.10/site-packages/d3rlpy/base.py?line=405'>406</a>\u001b[0m     results \u001b[39m=\u001b[39m \u001b[39mlist\u001b[39;49m(\n\u001b[1;32m    <a href='file:///home/gerkone/.local/lib/python3.10/site-packages/d3rlpy/base.py?line=406'>407</a>\u001b[0m         \u001b[39mself\u001b[39;49m\u001b[39m.\u001b[39;49mfitter(\n\u001b[1;32m    <a href='file:///home/gerkone/.local/lib/python3.10/site-packages/d3rlpy/base.py?line=407'>408</a>\u001b[0m             dataset,\n\u001b[1;32m    <a href='file:///home/gerkone/.local/lib/python3.10/site-packages/d3rlpy/base.py?line=408'>409</a>\u001b[0m             n_epochs,\n\u001b[1;32m    <a href='file:///home/gerkone/.local/lib/python3.10/site-packages/d3rlpy/base.py?line=409'>410</a>\u001b[0m             n_steps,\n\u001b[1;32m    <a href='file:///home/gerkone/.local/lib/python3.10/site-packages/d3rlpy/base.py?line=410'>411</a>\u001b[0m             n_steps_per_epoch,\n\u001b[1;32m    <a href='file:///home/gerkone/.local/lib/python3.10/site-packages/d3rlpy/base.py?line=411'>412</a>\u001b[0m             save_metrics,\n\u001b[1;32m    <a href='file:///home/gerkone/.local/lib/python3.10/site-packages/d3rlpy/base.py?line=412'>413</a>\u001b[0m             experiment_name,\n\u001b[1;32m    <a href='file:///home/gerkone/.local/lib/python3.10/site-packages/d3rlpy/base.py?line=413'>414</a>\u001b[0m             with_timestamp,\n\u001b[1;32m    <a href='file:///home/gerkone/.local/lib/python3.10/site-packages/d3rlpy/base.py?line=414'>415</a>\u001b[0m             logdir,\n\u001b[1;32m    <a href='file:///home/gerkone/.local/lib/python3.10/site-packages/d3rlpy/base.py?line=415'>416</a>\u001b[0m             verbose,\n\u001b[1;32m    <a href='file:///home/gerkone/.local/lib/python3.10/site-packages/d3rlpy/base.py?line=416'>417</a>\u001b[0m             show_progress,\n\u001b[1;32m    <a href='file:///home/gerkone/.local/lib/python3.10/site-packages/d3rlpy/base.py?line=417'>418</a>\u001b[0m             tensorboard_dir,\n\u001b[1;32m    <a href='file:///home/gerkone/.local/lib/python3.10/site-packages/d3rlpy/base.py?line=418'>419</a>\u001b[0m             eval_episodes,\n\u001b[1;32m    <a href='file:///home/gerkone/.local/lib/python3.10/site-packages/d3rlpy/base.py?line=419'>420</a>\u001b[0m             save_interval,\n\u001b[1;32m    <a href='file:///home/gerkone/.local/lib/python3.10/site-packages/d3rlpy/base.py?line=420'>421</a>\u001b[0m             scorers,\n\u001b[1;32m    <a href='file:///home/gerkone/.local/lib/python3.10/site-packages/d3rlpy/base.py?line=421'>422</a>\u001b[0m             shuffle,\n\u001b[1;32m    <a href='file:///home/gerkone/.local/lib/python3.10/site-packages/d3rlpy/base.py?line=422'>423</a>\u001b[0m             callback,\n\u001b[1;32m    <a href='file:///home/gerkone/.local/lib/python3.10/site-packages/d3rlpy/base.py?line=423'>424</a>\u001b[0m         )\n\u001b[1;32m    <a href='file:///home/gerkone/.local/lib/python3.10/site-packages/d3rlpy/base.py?line=424'>425</a>\u001b[0m     )\n\u001b[1;32m    <a href='file:///home/gerkone/.local/lib/python3.10/site-packages/d3rlpy/base.py?line=425'>426</a>\u001b[0m     \u001b[39mreturn\u001b[39;00m results\n",
      "File \u001b[0;32m~/git/tum-adlr-ss22-3/augrl/algos/base.py:187\u001b[0m, in \u001b[0;36mcustom_augmented_fitter\u001b[0;34m(cls, dataset, n_epochs, n_steps, n_steps_per_epoch, save_metrics, experiment_name, with_timestamp, logdir, verbose, show_progress, tensorboard_dir, eval_episodes, save_interval, scorers, shuffle, callback)\u001b[0m\n\u001b[1;32m    <a href='file:///home/gerkone/git/tum-adlr-ss22-3/augrl/algos/base.py?line=178'>179</a>\u001b[0m range_gen \u001b[39m=\u001b[39m tqdm(\n\u001b[1;32m    <a href='file:///home/gerkone/git/tum-adlr-ss22-3/augrl/algos/base.py?line=179'>180</a>\u001b[0m     \u001b[39mrange\u001b[39m(\u001b[39mlen\u001b[39m(iterator)),\n\u001b[1;32m    <a href='file:///home/gerkone/git/tum-adlr-ss22-3/augrl/algos/base.py?line=180'>181</a>\u001b[0m     disable\u001b[39m=\u001b[39m\u001b[39mnot\u001b[39;00m show_progress,\n\u001b[1;32m    <a href='file:///home/gerkone/git/tum-adlr-ss22-3/augrl/algos/base.py?line=181'>182</a>\u001b[0m     desc\u001b[39m=\u001b[39m\u001b[39mf\u001b[39m\u001b[39m\"\u001b[39m\u001b[39mEpoch \u001b[39m\u001b[39m{\u001b[39;00m\u001b[39mint\u001b[39m(epoch)\u001b[39m}\u001b[39;00m\u001b[39m/\u001b[39m\u001b[39m{\u001b[39;00mn_epochs\u001b[39m}\u001b[39;00m\u001b[39m\"\u001b[39m,\n\u001b[1;32m    <a href='file:///home/gerkone/git/tum-adlr-ss22-3/augrl/algos/base.py?line=182'>183</a>\u001b[0m )\n\u001b[1;32m    <a href='file:///home/gerkone/git/tum-adlr-ss22-3/augrl/algos/base.py?line=184'>185</a>\u001b[0m iterator\u001b[39m.\u001b[39mreset()\n\u001b[0;32m--> <a href='file:///home/gerkone/git/tum-adlr-ss22-3/augrl/algos/base.py?line=186'>187</a>\u001b[0m new_transitions \u001b[39m=\u001b[39m _augment(\n\u001b[1;32m    <a href='file:///home/gerkone/git/tum-adlr-ss22-3/augrl/algos/base.py?line=187'>188</a>\u001b[0m     augmentation_functions, transitions_, \u001b[39mcls\u001b[39;49m\u001b[39m.\u001b[39;49m_generated_maxlen, \u001b[39mcls\u001b[39;49m\u001b[39m.\u001b[39;49m_scaler\n\u001b[1;32m    <a href='file:///home/gerkone/git/tum-adlr-ss22-3/augrl/algos/base.py?line=188'>189</a>\u001b[0m )\n\u001b[1;32m    <a href='file:///home/gerkone/git/tum-adlr-ss22-3/augrl/algos/base.py?line=189'>190</a>\u001b[0m \u001b[39mif\u001b[39;00m new_transitions:\n\u001b[1;32m    <a href='file:///home/gerkone/git/tum-adlr-ss22-3/augrl/algos/base.py?line=190'>191</a>\u001b[0m     iterator\u001b[39m.\u001b[39madd_generated_transitions(new_transitions)\n",
      "File \u001b[0;32m~/git/tum-adlr-ss22-3/augrl/algos/base.py:265\u001b[0m, in \u001b[0;36m_augment\u001b[0;34m(augmentation_functions, transitions, maxlen, scaler)\u001b[0m\n\u001b[1;32m    <a href='file:///home/gerkone/git/tum-adlr-ss22-3/augrl/algos/base.py?line=262'>263</a>\u001b[0m \u001b[39mfor\u001b[39;00m (agmentation_fn, args), transitions_i \u001b[39min\u001b[39;00m \u001b[39mzip\u001b[39m(augmentation_functions, augmentable_portions):\n\u001b[1;32m    <a href='file:///home/gerkone/git/tum-adlr-ss22-3/augrl/algos/base.py?line=263'>264</a>\u001b[0m     \u001b[39mprint\u001b[39m(\u001b[39mlen\u001b[39m(transitions_i))\n\u001b[0;32m--> <a href='file:///home/gerkone/git/tum-adlr-ss22-3/augrl/algos/base.py?line=264'>265</a>\u001b[0m     new_transitions\u001b[39m.\u001b[39mextend(agmentation_fn(transitions_i, utils\u001b[39m.\u001b[39;49mget_scaling_factor(scaler), \u001b[39m*\u001b[39;49m\u001b[39m*\u001b[39;49margs)\n\u001b[1;32m    <a href='file:///home/gerkone/git/tum-adlr-ss22-3/augrl/algos/base.py?line=265'>266</a>\u001b[0m     )\n\u001b[1;32m    <a href='file:///home/gerkone/git/tum-adlr-ss22-3/augrl/algos/base.py?line=266'>267</a>\u001b[0m \u001b[39mreturn\u001b[39;00m new_transitions\n",
      "File \u001b[0;32m~/git/tum-adlr-ss22-3/augrl/augmentations/synth.py:139\u001b[0m, in \u001b[0;36madversarial\u001b[0;34m(transitions, scaling, norm, eps, impl, batch_size)\u001b[0m\n\u001b[1;32m    <a href='file:///home/gerkone/git/tum-adlr-ss22-3/augrl/augmentations/synth.py?line=130'>131</a>\u001b[0m \u001b[39mfor\u001b[39;00m batch \u001b[39min\u001b[39;00m adv_iterator:\n\u001b[1;32m    <a href='file:///home/gerkone/git/tum-adlr-ss22-3/augrl/augmentations/synth.py?line=131'>132</a>\u001b[0m     fake_batch \u001b[39m=\u001b[39m TorchMiniBatch(\n\u001b[1;32m    <a href='file:///home/gerkone/git/tum-adlr-ss22-3/augrl/augmentations/synth.py?line=132'>133</a>\u001b[0m         batch,\n\u001b[1;32m    <a href='file:///home/gerkone/git/tum-adlr-ss22-3/augrl/augmentations/synth.py?line=133'>134</a>\u001b[0m         device\u001b[39m=\u001b[39mimpl\u001b[39m.\u001b[39mdevice,\n\u001b[0;32m   (...)\u001b[0m\n\u001b[1;32m    <a href='file:///home/gerkone/git/tum-adlr-ss22-3/augrl/augmentations/synth.py?line=136'>137</a>\u001b[0m         reward_scaler\u001b[39m=\u001b[39mimpl\u001b[39m.\u001b[39mreward_scaler,\n\u001b[1;32m    <a href='file:///home/gerkone/git/tum-adlr-ss22-3/augrl/augmentations/synth.py?line=137'>138</a>\u001b[0m     )\n\u001b[0;32m--> <a href='file:///home/gerkone/git/tum-adlr-ss22-3/augrl/augmentations/synth.py?line=138'>139</a>\u001b[0m     augmented_transitions\u001b[39m.\u001b[39mextend(_adversarial(fake_batch, impl, norm, eps, batch_size, state_size\u001b[39m=\u001b[39;49mstate_size, action_size\u001b[39m=\u001b[39;49maction_size))\n\u001b[1;32m    <a href='file:///home/gerkone/git/tum-adlr-ss22-3/augrl/augmentations/synth.py?line=140'>141</a>\u001b[0m \u001b[39mreturn\u001b[39;00m augmented_transitions\n",
      "File \u001b[0;32m~/git/tum-adlr-ss22-3/augrl/augmentations/synth.py:96\u001b[0m, in \u001b[0;36madversarial.<locals>._adversarial\u001b[0;34m(batch, impl, norm, eps, batch_size, state_size, action_size)\u001b[0m\n\u001b[1;32m     <a href='file:///home/gerkone/git/tum-adlr-ss22-3/augrl/augmentations/synth.py?line=88'>89</a>\u001b[0m \u001b[39melse\u001b[39;00m:\n\u001b[1;32m     <a href='file:///home/gerkone/git/tum-adlr-ss22-3/augrl/augmentations/synth.py?line=89'>90</a>\u001b[0m     augmented_observations \u001b[39m=\u001b[39m (\n\u001b[1;32m     <a href='file:///home/gerkone/git/tum-adlr-ss22-3/augrl/augmentations/synth.py?line=90'>91</a>\u001b[0m         batch\u001b[39m.\u001b[39mobservations\u001b[39m.\u001b[39mgrad\n\u001b[1;32m     <a href='file:///home/gerkone/git/tum-adlr-ss22-3/augrl/augmentations/synth.py?line=91'>92</a>\u001b[0m         \u001b[39m+\u001b[39m eps\n\u001b[1;32m     <a href='file:///home/gerkone/git/tum-adlr-ss22-3/augrl/augmentations/synth.py?line=92'>93</a>\u001b[0m         \u001b[39m*\u001b[39m obs_grad\n\u001b[1;32m     <a href='file:///home/gerkone/git/tum-adlr-ss22-3/augrl/augmentations/synth.py?line=93'>94</a>\u001b[0m         \u001b[39m/\u001b[39m obs_grad\u001b[39m.\u001b[39mflatten(\u001b[39m1\u001b[39m, \u001b[39m-\u001b[39m\u001b[39m1\u001b[39m)\u001b[39m.\u001b[39mnorm(p\u001b[39m=\u001b[39m\u001b[39mint\u001b[39m(norm), dim\u001b[39m=\u001b[39m\u001b[39m-\u001b[39m\u001b[39m1\u001b[39m)\u001b[39m.\u001b[39mview(\u001b[39m-\u001b[39m\u001b[39m1\u001b[39m, \u001b[39m1\u001b[39m, \u001b[39m1\u001b[39m, \u001b[39m1\u001b[39m)\n\u001b[1;32m     <a href='file:///home/gerkone/git/tum-adlr-ss22-3/augrl/augmentations/synth.py?line=94'>95</a>\u001b[0m     ) \n\u001b[0;32m---> <a href='file:///home/gerkone/git/tum-adlr-ss22-3/augrl/augmentations/synth.py?line=95'>96</a>\u001b[0m np_augmented_observations \u001b[39m=\u001b[39m augmented_observations\u001b[39m.\u001b[39;49mnumpy()\n\u001b[1;32m     <a href='file:///home/gerkone/git/tum-adlr-ss22-3/augrl/augmentations/synth.py?line=96'>97</a>\u001b[0m np_actions \u001b[39m=\u001b[39m batch\u001b[39m.\u001b[39mactions\u001b[39m.\u001b[39mnumpy()\n\u001b[1;32m     <a href='file:///home/gerkone/git/tum-adlr-ss22-3/augrl/augmentations/synth.py?line=97'>98</a>\u001b[0m np_rewards \u001b[39m=\u001b[39m batch\u001b[39m.\u001b[39mrewards\u001b[39m.\u001b[39mnumpy()\n",
      "\u001b[0;31mKeyboardInterrupt\u001b[0m: "
     ]
    }
   ],
   "source": [
    "d3rlpy.seed(1338)\n",
    "env.reset(seed=1338)\n",
    "agent = AugmentedDiscreteBCQ(\n",
    "    use_gpu=False,\n",
    "    augmentations=[(\"adversarial\", {\"norm\": \"2\", \"eps\": 1e-4, \"impl\": None})],\n",
    "    real_ratio=0.5,\n",
    "    scaler=\"min_max\",\n",
    ")\n",
    "agent.generated_maxlen = len(dataset.observations)\n",
    "metrics = agent.fit(\n",
    "    dataset=dataset,\n",
    "    eval_episodes=dataset,\n",
    "    n_steps=30,\n",
    "    n_steps_per_epoch=10,\n",
    "    scorers=({\"environment_reward\": evaluate_on_environment(env, n_trials=1)}),\n",
    "    verbose=False,\n",
    "    show_progress=True\n",
    ")"
   ]
  },
  {
   "cell_type": "code",
   "execution_count": null,
   "metadata": {},
   "outputs": [],
   "source": []
  },
  {
   "cell_type": "code",
   "execution_count": null,
   "metadata": {},
   "outputs": [],
   "source": []
  }
 ],
 "metadata": {
  "kernelspec": {
   "display_name": "Python 3.10.5 64-bit",
   "language": "python",
   "name": "python3"
  },
  "language_info": {
   "codemirror_mode": {
    "name": "ipython",
    "version": 3
   },
   "file_extension": ".py",
   "mimetype": "text/x-python",
   "name": "python",
   "nbconvert_exporter": "python",
   "pygments_lexer": "ipython3",
   "version": "3.10.5"
  },
  "orig_nbformat": 4,
  "vscode": {
   "interpreter": {
    "hash": "e7370f93d1d0cde622a1f8e1c04877d8463912d04d973331ad4851f04de6915a"
   }
  }
 },
 "nbformat": 4,
 "nbformat_minor": 2
}
