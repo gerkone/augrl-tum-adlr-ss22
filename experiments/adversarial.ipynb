{
 "cells": [
  {
   "cell_type": "code",
   "execution_count": 5,
   "metadata": {},
   "outputs": [
    {
     "name": "stdout",
     "output_type": "stream",
     "text": [
      "The autoreload extension is already loaded. To reload it, use:\n",
      "  %reload_ext autoreload\n"
     ]
    }
   ],
   "source": [
    "%load_ext autoreload\n",
    "%autoreload 2"
   ]
  },
  {
   "cell_type": "code",
   "execution_count": 6,
   "metadata": {},
   "outputs": [],
   "source": [
    "import d3rlpy\n",
    "import pandas as pd\n",
    "from d3rlpy.metrics.scorer import (\n",
    "    evaluate_on_environment,\n",
    ")\n",
    "\n",
    "import warnings\n",
    "\n",
    "warnings.filterwarnings(\"ignore\")\n",
    "import os\n",
    "\n",
    "os.chdir(\"..\")\n",
    "\n",
    "from augrl.algos import AugmentedDiscreteBCQ, AugmentedBCQ, AugmentedDiscreteCQL"
   ]
  },
  {
   "cell_type": "code",
   "execution_count": 9,
   "metadata": {},
   "outputs": [],
   "source": [
    "dataset, env = d3rlpy.datasets.get_cartpole()"
   ]
  },
  {
   "cell_type": "code",
   "execution_count": 12,
   "metadata": {},
   "outputs": [
    {
     "name": "stdout",
     "output_type": "stream",
     "text": [
      "2022-06-29 11:34.26 [debug    ] RandomIterator is selected.\n",
      "2022-06-29 11:34.26 [info     ] Directory is created at d3rlpy_logs/AugmentedDiscreteCQL_20220629113426\n",
      "2022-06-29 11:34.26 [debug    ] Fitting scaler...              scaler=min_max\n",
      "2022-06-29 11:34.26 [debug    ] Building models...\n",
      "2022-06-29 11:34.26 [debug    ] Models have been built.\n",
      "2022-06-29 11:34.26 [info     ] Parameters are saved to d3rlpy_logs/AugmentedDiscreteCQL_20220629113426/params.json params={'action_scaler': None, 'alpha': 1.0, 'batch_size': 32, 'encoder_factory': {'type': 'default', 'params': {'activation': 'relu', 'use_batch_norm': False, 'dropout_rate': None}}, 'gamma': 0.99, 'generated_maxlen': 99866, 'learning_rate': 6.25e-05, 'n_critics': 1, 'n_frames': 1, 'n_steps': 1, 'optim_factory': {'optim_cls': 'Adam', 'betas': (0.9, 0.999), 'eps': 1e-08, 'weight_decay': 0, 'amsgrad': False}, 'q_func_factory': {'type': 'mean', 'params': {'share_encoder': False}}, 'real_ratio': 1.0, 'reward_scaler': None, 'scaler': {'type': 'min_max', 'params': {'maximum': array([[2.3997633 , 3.703974  , 0.20940818, 3.4338644 ]], dtype=float32), 'minimum': array([[-2.3996506 , -4.8805456 , -0.20942926, -2.8696675 ]],\n",
      "      dtype=float32)}}, 'target_update_interval': 8000, 'use_gpu': None, 'augmentations': [('adversarial', {'norm': '2', 'eps': 0.0001, 'impl': None})], 'algorithm': 'AugmentedDiscreteCQL', 'observation_shape': (4,), 'action_size': 2}\n"
     ]
    },
    {
     "name": "stderr",
     "output_type": "stream",
     "text": [
      "Epoch 1/5:   0%|          | 0/30 [00:00<?, ?it/s]"
     ]
    },
    {
     "name": "stdout",
     "output_type": "stream",
     "text": [
      "2022-06-29 11:34.29 [debug    ] 98304 transitions are augmented. fake_transitions=98304 real_transitions=99732\n"
     ]
    },
    {
     "name": "stderr",
     "output_type": "stream",
     "text": [
      "Epoch 1/5: 100%|██████████| 30/30 [00:02<00:00, 10.10it/s, loss=1.14]\n"
     ]
    },
    {
     "name": "stdout",
     "output_type": "stream",
     "text": [
      "2022-06-29 11:34.29 [info     ] AugmentedDiscreteCQL_20220629113426: epoch=1 step=30 epoch=1 metrics={'time_sample_batch': 0.0003235022226969401, 'loss': 1.110647157828013, 'time_algorithm_update': 0.006621527671813965, 'time_step': 0.006969324747721354, 'environment_reward': 183.0} step=30\n",
      "2022-06-29 11:34.29 [info     ] Model parameters are saved to d3rlpy_logs/AugmentedDiscreteCQL_20220629113426/model_30.pt\n"
     ]
    },
    {
     "name": "stderr",
     "output_type": "stream",
     "text": [
      "Epoch 2/5:   0%|          | 0/30 [00:00<?, ?it/s]"
     ]
    },
    {
     "name": "stdout",
     "output_type": "stream",
     "text": [
      "2022-06-29 11:34.32 [debug    ] 98304 transitions are augmented. fake_transitions=99866 real_transitions=99732\n"
     ]
    },
    {
     "name": "stderr",
     "output_type": "stream",
     "text": [
      "Epoch 2/5: 100%|██████████| 30/30 [00:03<00:00,  9.50it/s, loss=0.968]\n"
     ]
    },
    {
     "name": "stdout",
     "output_type": "stream",
     "text": [
      "2022-06-29 11:34.33 [info     ] AugmentedDiscreteCQL_20220629113426: epoch=2 step=60 epoch=2 metrics={'time_sample_batch': 0.0003158728281656901, 'loss': 0.9466631054878235, 'time_algorithm_update': 0.00678861935933431, 'time_step': 0.007127507527669271, 'environment_reward': 140.0} step=60\n",
      "2022-06-29 11:34.33 [info     ] Model parameters are saved to d3rlpy_logs/AugmentedDiscreteCQL_20220629113426/model_60.pt\n"
     ]
    },
    {
     "name": "stderr",
     "output_type": "stream",
     "text": [
      "Epoch 3/5:   0%|          | 0/30 [00:00<?, ?it/s]"
     ]
    },
    {
     "name": "stdout",
     "output_type": "stream",
     "text": [
      "2022-06-29 11:34.35 [debug    ] 98304 transitions are augmented. fake_transitions=99866 real_transitions=99732\n"
     ]
    },
    {
     "name": "stderr",
     "output_type": "stream",
     "text": [
      "Epoch 3/5: 100%|██████████| 30/30 [00:02<00:00, 10.35it/s, loss=0.839]\n"
     ]
    },
    {
     "name": "stdout",
     "output_type": "stream",
     "text": [
      "2022-06-29 11:34.36 [info     ] AugmentedDiscreteCQL_20220629113426: epoch=3 step=90 epoch=3 metrics={'time_sample_batch': 0.0003285566965738932, 'loss': 0.825229690472285, 'time_algorithm_update': 0.006677063306172689, 'time_step': 0.0070296525955200195, 'environment_reward': 200.0} step=90\n",
      "2022-06-29 11:34.36 [info     ] Model parameters are saved to d3rlpy_logs/AugmentedDiscreteCQL_20220629113426/model_90.pt\n"
     ]
    },
    {
     "name": "stderr",
     "output_type": "stream",
     "text": [
      "Epoch 4/5:   0%|          | 0/30 [00:00<?, ?it/s]"
     ]
    },
    {
     "name": "stdout",
     "output_type": "stream",
     "text": [
      "2022-06-29 11:34.39 [debug    ] 98304 transitions are augmented. fake_transitions=99866 real_transitions=99732\n"
     ]
    },
    {
     "name": "stderr",
     "output_type": "stream",
     "text": [
      "Epoch 4/5: 100%|██████████| 30/30 [00:03<00:00,  9.40it/s, loss=0.754]\n"
     ]
    },
    {
     "name": "stdout",
     "output_type": "stream",
     "text": [
      "2022-06-29 11:34.39 [info     ] AugmentedDiscreteCQL_20220629113426: epoch=4 step=120 epoch=4 metrics={'time_sample_batch': 0.0003040631612141927, 'loss': 0.7451951126257579, 'time_algorithm_update': 0.007007217407226563, 'time_step': 0.007333715756734212, 'environment_reward': 173.0} step=120\n",
      "2022-06-29 11:34.39 [info     ] Model parameters are saved to d3rlpy_logs/AugmentedDiscreteCQL_20220629113426/model_120.pt\n"
     ]
    },
    {
     "name": "stderr",
     "output_type": "stream",
     "text": [
      "Epoch 5/5:   0%|          | 0/30 [00:00<?, ?it/s]"
     ]
    },
    {
     "name": "stdout",
     "output_type": "stream",
     "text": [
      "2022-06-29 11:34.42 [debug    ] 98304 transitions are augmented. fake_transitions=99866 real_transitions=99732\n"
     ]
    },
    {
     "name": "stderr",
     "output_type": "stream",
     "text": [
      "Epoch 5/5: 100%|██████████| 30/30 [00:03<00:00,  9.72it/s, loss=0.708]\n"
     ]
    },
    {
     "name": "stdout",
     "output_type": "stream",
     "text": [
      "2022-06-29 11:34.42 [info     ] AugmentedDiscreteCQL_20220629113426: epoch=5 step=150 epoch=5 metrics={'time_sample_batch': 0.00030211607615152997, 'loss': 0.7052441239356995, 'time_algorithm_update': 0.0064144213994344074, 'time_step': 0.0067370971043904625, 'environment_reward': 200.0} step=150\n",
      "2022-06-29 11:34.42 [info     ] Model parameters are saved to d3rlpy_logs/AugmentedDiscreteCQL_20220629113426/model_150.pt\n"
     ]
    }
   ],
   "source": [
    "d3rlpy.seed(1338)\n",
    "env.reset(seed=1338)\n",
    "agent = AugmentedDiscreteCQL(\n",
    "    use_gpu=False,\n",
    "    augmentations=[(\"adversarial\", {\"norm\": \"2\", \"eps\": 1e-4, \"impl\": None})],\n",
    "    real_ratio=0.5,\n",
    "    scaler=\"min_max\",\n",
    ")\n",
    "agent.generated_maxlen = len(dataset.observations)\n",
    "metrics = agent.fit(\n",
    "    dataset=dataset,\n",
    "    eval_episodes=dataset,\n",
    "    n_steps=150,\n",
    "    n_steps_per_epoch=30,\n",
    "    scorers=({\"environment_reward\": evaluate_on_environment(env, n_trials=1)}),\n",
    "    verbose=True,\n",
    "    show_progress=True\n",
    ")"
   ]
  },
  {
   "cell_type": "code",
   "execution_count": null,
   "metadata": {},
   "outputs": [],
   "source": []
  },
  {
   "cell_type": "code",
   "execution_count": null,
   "metadata": {},
   "outputs": [],
   "source": []
  }
 ],
 "metadata": {
  "kernelspec": {
   "display_name": "Python 3.10.5 64-bit",
   "language": "python",
   "name": "python3"
  },
  "language_info": {
   "codemirror_mode": {
    "name": "ipython",
    "version": 3
   },
   "file_extension": ".py",
   "mimetype": "text/x-python",
   "name": "python",
   "nbconvert_exporter": "python",
   "pygments_lexer": "ipython3",
   "version": "3.10.5"
  },
  "orig_nbformat": 4,
  "vscode": {
   "interpreter": {
    "hash": "e7370f93d1d0cde622a1f8e1c04877d8463912d04d973331ad4851f04de6915a"
   }
  }
 },
 "nbformat": 4,
 "nbformat_minor": 2
}
