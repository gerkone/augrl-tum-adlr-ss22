{
 "cells": [
  {
   "cell_type": "code",
   "execution_count": 2,
   "metadata": {},
   "outputs": [],
   "source": [
    "%load_ext autoreload\n",
    "%autoreload 2\n",
    "import os\n",
    "os.chdir(\"..\")"
   ]
  },
  {
   "cell_type": "code",
   "execution_count": 3,
   "metadata": {},
   "outputs": [],
   "source": [
    "import torch\n",
    "import pandas as pd\n",
    "import d3rlpy\n",
    "import numpy as np\n",
    "\n",
    "import warnings\n",
    "\n",
    "warnings.filterwarnings(\"ignore\")\n",
    "\n",
    "from augrl.augmentations import exrp\n",
    "from augrl.augmentations.spin_cartpole.cartpole import CartPoleEnv"
   ]
  },
  {
   "cell_type": "code",
   "execution_count": 4,
   "metadata": {},
   "outputs": [],
   "source": [
    "env = CartPoleEnv(game=False) # parameter update starts after 1K steps"
   ]
  },
  {
   "cell_type": "markdown",
   "metadata": {},
   "source": [
    "## Train on manually collected data\n",
    "Because of what the model is trying to approximate it's hard to directly evaluate."
   ]
  },
  {
   "cell_type": "code",
   "execution_count": 5,
   "metadata": {},
   "outputs": [
    {
     "data": {
      "text/plain": [
       "device(type='cpu')"
      ]
     },
     "execution_count": 5,
     "metadata": {},
     "output_type": "execute_result"
    }
   ],
   "source": [
    "if torch.cuda.is_available():\n",
    "    device = torch.device(\"cuda:0\")\n",
    "else:\n",
    "    device = torch.device(\"cpu\")\n",
    "device"
   ]
  },
  {
   "cell_type": "code",
   "execution_count": 6,
   "metadata": {},
   "outputs": [],
   "source": [
    "predictor = exrp.ExplicitRewardPredictor.from_env(env, device, lr=7e-5)"
   ]
  },
  {
   "cell_type": "code",
   "execution_count": 12,
   "metadata": {},
   "outputs": [
    {
     "name": "stdout",
     "output_type": "stream",
     "text": [
      "Training on 436 segments (228 with spin, 208 without)\n",
      "Evaluating on 45 segments (20 with spin, 25 without)\n"
     ]
    }
   ],
   "source": [
    "user_rollouts = pd.read_pickle(\"augrl/augmentations/spin_cartpole/preferences/handmade_results_150.pickle\")\n",
    "segments = user_rollouts[\"segment\"].max() + 1\n",
    "eval_segments = np.random.choice(segments, size=int(0.1 * segments))\n",
    "\n",
    "train_rollouts = user_rollouts[~user_rollouts[\"segment\"].isin(eval_segments)]\n",
    "eval_rollouts = user_rollouts[user_rollouts[\"segment\"].isin(eval_segments)]\n",
    "user_rollouts_spin = train_rollouts[train_rollouts[\"preference\"] == 1]\n",
    "user_rollouts_no_spin = train_rollouts[train_rollouts[\"preference\"] == 0]\n",
    "user_rollouts_spin_eval = eval_rollouts[eval_rollouts[\"preference\"] == 1]\n",
    "user_rollouts_no_spin_eval = eval_rollouts[eval_rollouts[\"preference\"] == 0]\n",
    "\n",
    "print(\"Training on {} segments ({} with spin, {} without)\".format(len(train_rollouts), len(user_rollouts_spin), len(user_rollouts_no_spin)))\n",
    "print(\"Evaluating on {} segments ({} with spin, {} without)\".format(len(eval_rollouts), len(user_rollouts_spin_eval), len(user_rollouts_no_spin_eval)))\n",
    "\n",
    "obs_spin = torch.tensor(list(user_rollouts_spin[\"state\"].values), dtype=torch.float32)\n",
    "act_spin = torch.tensor(list(user_rollouts_spin[\"action\"].values), dtype=torch.float32)\n",
    "obs_no_spin = torch.tensor(list(user_rollouts_no_spin[\"state\"].values), dtype=torch.float32)\n",
    "act_no_spin = torch.tensor(list(user_rollouts_no_spin[\"action\"].values), dtype=torch.float32)\n",
    "\n",
    "obs_spin_eval = torch.tensor(list(user_rollouts_spin_eval[\"state\"].values), dtype=torch.float32)\n",
    "act_spin_eval = torch.tensor(list(user_rollouts_spin_eval[\"action\"].values), dtype=torch.float32)\n",
    "obs_no_spin_eval = torch.tensor(list(user_rollouts_no_spin_eval[\"state\"].values), dtype=torch.float32)\n",
    "act_no_spin_eval = torch.tensor(list(user_rollouts_no_spin_eval[\"action\"].values), dtype=torch.float32)"
   ]
  },
  {
   "cell_type": "markdown",
   "metadata": {},
   "source": [
    "### Collect segment tuples with preference"
   ]
  },
  {
   "cell_type": "code",
   "execution_count": 7,
   "metadata": {},
   "outputs": [
    {
     "name": "stdout",
     "output_type": "stream",
     "text": [
      "Training on 47632 actual sequences\n",
      "Evaluating on 475 actual sequences\n"
     ]
    }
   ],
   "source": [
    "segments = exrp.get_segments(obs_spin, act_spin, obs_no_spin, act_no_spin)\n",
    "segments_eval = exrp.get_segments(obs_spin_eval, act_spin_eval, obs_no_spin_eval, act_no_spin_eval)\n",
    "print(\"Training on {} actual sequences\".format(len(segments[\"obs_left\"])))\n",
    "print(\"Evaluating on {} actual sequences\".format(len(segments_eval[\"obs_left\"])))"
   ]
  },
  {
   "cell_type": "markdown",
   "metadata": {},
   "source": [
    "### Train"
   ]
  },
  {
   "cell_type": "code",
   "execution_count": 8,
   "metadata": {},
   "outputs": [
    {
     "name": "stderr",
     "output_type": "stream",
     "text": [
      "Epoch  8 Loss 0.175: 100%|██████████| 8/8 [37:30<00:00, 281.33s/it]\n"
     ]
    }
   ],
   "source": [
    "predictor.train(segments, show_pregress=True, epochs=8, batch_size=32)"
   ]
  },
  {
   "cell_type": "markdown",
   "metadata": {},
   "source": [
    "# Evaluate"
   ]
  },
  {
   "cell_type": "code",
   "execution_count": 13,
   "metadata": {},
   "outputs": [
    {
     "name": "stdout",
     "output_type": "stream",
     "text": [
      "Predicting preferences with an accuracy of 100.00%\n"
     ]
    }
   ],
   "source": [
    "acc = sum(predictor.prefer(segments_eval) - segments_eval[\"preferences\"] == 0) / len(segments_eval[\"preferences\"])\n",
    "print(\"Predicting preferences with an accuracy of {:.2f}%\".format(100 * acc))"
   ]
  },
  {
   "cell_type": "code",
   "execution_count": 7,
   "metadata": {},
   "outputs": [],
   "source": [
    "predictor.load(\"augrl/augmentations/spin_cartpole/predictors/predictor_150.pt\")"
   ]
  },
  {
   "cell_type": "markdown",
   "metadata": {},
   "source": [
    "## Generate exploratory data"
   ]
  },
  {
   "cell_type": "code",
   "execution_count": 8,
   "metadata": {},
   "outputs": [],
   "source": [
    "env = CartPoleEnv(game=False, reward_fn=predictor)"
   ]
  },
  {
   "cell_type": "code",
   "execution_count": null,
   "metadata": {},
   "outputs": [],
   "source": [
    "# TODO\n",
    "agent = None"
   ]
  },
  {
   "cell_type": "code",
   "execution_count": null,
   "metadata": {},
   "outputs": [],
   "source": [
    "state = env.reset()\n",
    "while True:\n",
    "    action = agent.predict(state.reshape(1, *state.shape))[0]\n",
    "    if action in (0, 1):\n",
    "        state, reward, terminal, _ = env.step(action)\n",
    "        env.render()\n",
    "        if terminal:\n",
    "            break"
   ]
  },
  {
   "cell_type": "code",
   "execution_count": null,
   "metadata": {},
   "outputs": [],
   "source": []
  }
 ],
 "metadata": {
  "kernelspec": {
   "display_name": "Python 3 (ipykernel)",
   "language": "python",
   "name": "python3"
  },
  "language_info": {
   "codemirror_mode": {
    "name": "ipython",
    "version": 3
   },
   "file_extension": ".py",
   "mimetype": "text/x-python",
   "name": "python",
   "nbconvert_exporter": "python",
   "pygments_lexer": "ipython3",
   "version": "3.10.5"
  },
  "vscode": {
   "interpreter": {
    "hash": "e7370f93d1d0cde622a1f8e1c04877d8463912d04d973331ad4851f04de6915a"
   }
  }
 },
 "nbformat": 4,
 "nbformat_minor": 2
}
