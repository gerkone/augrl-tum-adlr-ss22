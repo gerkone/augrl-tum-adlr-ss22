{
 "cells": [
  {
   "cell_type": "code",
   "execution_count": 1,
   "metadata": {},
   "outputs": [],
   "source": [
    "%load_ext autoreload\n",
    "%autoreload 2\n",
    "import os\n",
    "os.chdir(\"..\")"
   ]
  },
  {
   "cell_type": "code",
   "execution_count": 2,
   "metadata": {},
   "outputs": [],
   "source": [
    "import torch\n",
    "import pandas as pd\n",
    "\n",
    "import numpy as np\n",
    "\n",
    "import warnings\n",
    "\n",
    "warnings.filterwarnings(\"ignore\")\n",
    "\n",
    "from augrl.augmentations import exrp\n",
    "from augrl.augmentations.spin_cartpole.cartpole import CartPoleEnv"
   ]
  },
  {
   "cell_type": "code",
   "execution_count": 3,
   "metadata": {},
   "outputs": [],
   "source": [
    "env = CartPoleEnv(game=False)"
   ]
  },
  {
   "cell_type": "markdown",
   "metadata": {},
   "source": [
    "## Train on manually collected data\n",
    "Because of what the model is trying to approximate it's hard to directly evaluate."
   ]
  },
  {
   "cell_type": "code",
   "execution_count": 4,
   "metadata": {},
   "outputs": [],
   "source": [
    "predictor = exrp.ExplicitRewardPredictor.from_env(env)"
   ]
  },
  {
   "cell_type": "code",
   "execution_count": 92,
   "metadata": {},
   "outputs": [
    {
     "name": "stdout",
     "output_type": "stream",
     "text": [
      "Training on 145 segments (76 with spin, 69 without)\n",
      "Evaluating on 13 segments (5 with spin, 8 without)\n"
     ]
    }
   ],
   "source": [
    "user_rollouts = pd.read_pickle(\"augrl/augmentations/handmade_results_40.pickle\")\n",
    "segments = user_rollouts[\"segment\"].max() + 1\n",
    "eval_segments = np.random.choice(segments, size=int(0.1 * segments))\n",
    "\n",
    "train_rollouts = user_rollouts[~user_rollouts[\"segment\"].isin(eval_segments)]\n",
    "eval_rollouts = user_rollouts[user_rollouts[\"segment\"].isin(eval_segments)]\n",
    "user_rollouts_spin = train_rollouts[train_rollouts[\"preference\"] == 1]\n",
    "user_rollouts_no_spin = train_rollouts[train_rollouts[\"preference\"] == 0]\n",
    "user_rollouts_spin_eval = eval_rollouts[eval_rollouts[\"preference\"] == 1]\n",
    "user_rollouts_no_spin_eval = eval_rollouts[eval_rollouts[\"preference\"] == 0]\n",
    "\n",
    "print(\"Training on {} segments ({} with spin, {} without)\".format(len(train_rollouts), len(user_rollouts_spin), len(user_rollouts_no_spin)))\n",
    "print(\"Evaluating on {} segments ({} with spin, {} without)\".format(len(eval_rollouts), len(user_rollouts_spin_eval), len(user_rollouts_no_spin_eval)))\n",
    "\n",
    "obs_spin = torch.tensor(list(user_rollouts_spin[\"state\"].values), dtype=torch.float32)\n",
    "act_spin = torch.tensor(list(user_rollouts_spin[\"action\"].values), dtype=torch.float32)\n",
    "obs_no_spin = torch.tensor(list(user_rollouts_no_spin[\"state\"].values), dtype=torch.float32)\n",
    "act_no_spin = torch.tensor(list(user_rollouts_no_spin[\"action\"].values), dtype=torch.float32)\n",
    "\n",
    "obs_spin_eval = torch.tensor(list(user_rollouts_spin_eval[\"state\"].values), dtype=torch.float32)\n",
    "act_spin_eval = torch.tensor(list(user_rollouts_spin_eval[\"action\"].values), dtype=torch.float32)\n",
    "obs_no_spin_eval = torch.tensor(list(user_rollouts_no_spin_eval[\"state\"].values), dtype=torch.float32)\n",
    "act_no_spin_eval = torch.tensor(list(user_rollouts_no_spin_eval[\"action\"].values), dtype=torch.float32)"
   ]
  },
  {
   "cell_type": "markdown",
   "metadata": {},
   "source": [
    "### Collect segment tuples with preference"
   ]
  },
  {
   "cell_type": "code",
   "execution_count": 77,
   "metadata": {},
   "outputs": [
    {
     "name": "stdout",
     "output_type": "stream",
     "text": [
      "Training on 5256 actual sequences\n",
      "Evaluating on 40 actual sequences\n"
     ]
    }
   ],
   "source": [
    "segments = exrp.get_segments(obs_spin, act_spin, obs_no_spin, act_no_spin)\n",
    "segments_eval = exrp.get_segments(obs_spin_eval, act_spin_eval, obs_no_spin_eval, act_no_spin_eval)\n",
    "print(\"Training on {} actual sequences\".format(len(segments[\"obs_left\"])))\n",
    "print(\"Evaluating on {} actual sequences\".format(len(segments_eval[\"obs_left\"])))"
   ]
  },
  {
   "cell_type": "markdown",
   "metadata": {},
   "source": [
    "### Train"
   ]
  },
  {
   "cell_type": "code",
   "execution_count": null,
   "metadata": {},
   "outputs": [],
   "source": [
    "predictor.train(segments, show_pregress=True, epochs=50)"
   ]
  },
  {
   "cell_type": "markdown",
   "metadata": {},
   "source": [
    "# Evaluate"
   ]
  },
  {
   "cell_type": "code",
   "execution_count": 60,
   "metadata": {},
   "outputs": [
    {
     "name": "stdout",
     "output_type": "stream",
     "text": [
      "Predicting preferences with an accuracy of 75.00%\n"
     ]
    }
   ],
   "source": [
    "acc = sum(predictor.prefer(segments_eval) - segments_eval[\"preferences\"] == 0) / len(segments_eval[\"preferences\"])\n",
    "print(\"Predicting preferences with an accuracy of {:.2f}%\".format(100 * acc))"
   ]
  },
  {
   "cell_type": "markdown",
   "metadata": {},
   "source": [
    "## Generate exploratory data"
   ]
  },
  {
   "cell_type": "code",
   "execution_count": null,
   "metadata": {},
   "outputs": [],
   "source": [
    "env.reset()\n",
    "while True:\n",
    "    action = np.random.choice([1, 0])\n",
    "    if action in (0, 1):\n",
    "        state, _, terminal, _, _ = env.step(action)\n",
    "        reward = predictor(torch.tensor(state, dtype=torch.float32).reshape(1, *state.shape), torch.tensor(action, dtype=torch.float32).reshape(1, *action.shape))\n",
    "        print(reward)\n",
    "        if terminal:\n",
    "            break"
   ]
  },
  {
   "cell_type": "code",
   "execution_count": null,
   "metadata": {},
   "outputs": [],
   "source": []
  }
 ],
 "metadata": {
  "kernelspec": {
   "display_name": "Python 3.10.5 64-bit",
   "language": "python",
   "name": "python3"
  },
  "language_info": {
   "codemirror_mode": {
    "name": "ipython",
    "version": 3
   },
   "file_extension": ".py",
   "mimetype": "text/x-python",
   "name": "python",
   "nbconvert_exporter": "python",
   "pygments_lexer": "ipython3",
   "version": "3.10.5"
  },
  "orig_nbformat": 4,
  "vscode": {
   "interpreter": {
    "hash": "e7370f93d1d0cde622a1f8e1c04877d8463912d04d973331ad4851f04de6915a"
   }
  }
 },
 "nbformat": 4,
 "nbformat_minor": 2
}
