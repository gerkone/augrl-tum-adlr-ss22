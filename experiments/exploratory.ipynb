{
 "cells": [
  {
   "cell_type": "code",
   "execution_count": 1,
   "metadata": {},
   "outputs": [],
   "source": [
    "%load_ext autoreload\n",
    "%autoreload 2\n",
    "import os\n",
    "os.chdir(\"..\")"
   ]
  },
  {
   "cell_type": "code",
   "execution_count": 2,
   "metadata": {},
   "outputs": [],
   "source": [
    "import torch\n",
    "import pandas as pd\n",
    "import d3rlpy\n",
    "import numpy as np\n",
    "\n",
    "import warnings\n",
    "\n",
    "warnings.filterwarnings(\"ignore\")\n",
    "\n",
    "from augrl.augmentations import exrp\n",
    "from augrl.augmentations.spin_cartpole.cartpole import CartPoleEnv"
   ]
  },
  {
   "cell_type": "code",
   "execution_count": 3,
   "metadata": {},
   "outputs": [],
   "source": [
    "env = CartPoleEnv(game=False) # parameter update starts after 1K steps"
   ]
  },
  {
   "cell_type": "markdown",
   "metadata": {},
   "source": [
    "## Train on manually collected data\n",
    "Because of what the model is trying to approximate it's hard to directly evaluate."
   ]
  },
  {
   "cell_type": "code",
   "execution_count": 4,
   "metadata": {},
   "outputs": [
    {
     "data": {
      "text/plain": [
       "device(type='cuda', index=0)"
      ]
     },
     "execution_count": 4,
     "metadata": {},
     "output_type": "execute_result"
    }
   ],
   "source": [
    "if torch.cuda.is_available():\n",
    "    device = torch.device(\"cuda:0\")\n",
    "else:\n",
    "    device = torch.device(\"cpu\")\n",
    "device"
   ]
  },
  {
   "cell_type": "code",
   "execution_count": 5,
   "metadata": {},
   "outputs": [],
   "source": [
    "predictor = exrp.ExplicitRewardPredictor.from_env(env, device, lr=5e-5)"
   ]
  },
  {
   "cell_type": "code",
   "execution_count": null,
   "metadata": {},
   "outputs": [],
   "source": [
    "user_rollouts = pd.read_pickle(\"augrl/augmentations/spin_cartpole/preferences/handmade_results_170.pickle\")\n",
    "segments = user_rollouts[\"segment\"].max() + 1\n",
    "eval_segments = np.random.choice(segments, size=int(0.1 * segments))\n",
    "\n",
    "train_rollouts = user_rollouts[~user_rollouts[\"segment\"].isin(eval_segments)]\n",
    "eval_rollouts = user_rollouts[user_rollouts[\"segment\"].isin(eval_segments)]\n",
    "user_rollouts_spin = train_rollouts[train_rollouts[\"preference\"] == 1]\n",
    "user_rollouts_no_spin = train_rollouts[train_rollouts[\"preference\"] == 0]\n",
    "user_rollouts_spin_eval = eval_rollouts[eval_rollouts[\"preference\"] == 1]\n",
    "user_rollouts_no_spin_eval = eval_rollouts[eval_rollouts[\"preference\"] == 0]\n",
    "\n",
    "print(\"Training on {} segments ({} with spin, {} without)\".format(len(train_rollouts), len(user_rollouts_spin), len(user_rollouts_no_spin)))\n",
    "print(\"Evaluating on {} segments ({} with spin, {} without)\".format(len(eval_rollouts), len(user_rollouts_spin_eval), len(user_rollouts_no_spin_eval)))\n",
    "\n",
    "obs_spin = torch.tensor(list(user_rollouts_spin[\"state\"].values), dtype=torch.float32)\n",
    "act_spin = torch.tensor(list(user_rollouts_spin[\"action\"].values), dtype=torch.float32)\n",
    "obs_no_spin = torch.tensor(list(user_rollouts_no_spin[\"state\"].values), dtype=torch.float32)\n",
    "act_no_spin = torch.tensor(list(user_rollouts_no_spin[\"action\"].values), dtype=torch.float32)\n",
    "\n",
    "obs_spin_eval = torch.tensor(list(user_rollouts_spin_eval[\"state\"].values), dtype=torch.float32)\n",
    "act_spin_eval = torch.tensor(list(user_rollouts_spin_eval[\"action\"].values), dtype=torch.float32)\n",
    "obs_no_spin_eval = torch.tensor(list(user_rollouts_no_spin_eval[\"state\"].values), dtype=torch.float32)\n",
    "act_no_spin_eval = torch.tensor(list(user_rollouts_no_spin_eval[\"action\"].values), dtype=torch.float32)"
   ]
  },
  {
   "cell_type": "markdown",
   "metadata": {},
   "source": [
    "### Collect segment tuples with preference"
   ]
  },
  {
   "cell_type": "code",
   "execution_count": null,
   "metadata": {},
   "outputs": [],
   "source": [
    "segments = exrp.get_segments(obs_spin, act_spin, obs_no_spin, act_no_spin)\n",
    "segments_eval = exrp.get_segments(obs_spin_eval, act_spin_eval, obs_no_spin_eval, act_no_spin_eval)\n",
    "print(\"Training on {} actual sequences\".format(len(segments[\"obs_left\"])))\n",
    "print(\"Evaluating on {} actual sequences\".format(len(segments_eval[\"obs_left\"])))"
   ]
  },
  {
   "cell_type": "markdown",
   "metadata": {},
   "source": [
    "### Train"
   ]
  },
  {
   "cell_type": "code",
   "execution_count": null,
   "metadata": {},
   "outputs": [],
   "source": [
    "predictor.train(segments, show_pregress=True, epochs=6, batch_size=32)"
   ]
  },
  {
   "cell_type": "markdown",
   "metadata": {},
   "source": [
    "# Evaluate"
   ]
  },
  {
   "cell_type": "code",
   "execution_count": null,
   "metadata": {},
   "outputs": [],
   "source": [
    "acc = sum(predictor.prefer(segments_eval) - segments_eval[\"preferences\"] == 0) / len(segments_eval[\"preferences\"])\n",
    "print(\"Predicting preferences with an accuracy of {:.2f}%\".format(100 * acc))"
   ]
  },
  {
   "cell_type": "code",
   "execution_count": null,
   "metadata": {},
   "outputs": [],
   "source": [
    "predictor.save(\"augrl/augmentations/spin_cartpole/predictors/predictor_170.pt\")"
   ]
  },
  {
   "cell_type": "code",
   "execution_count": 6,
   "metadata": {},
   "outputs": [],
   "source": [
    "predictor.load(\"augrl/augmentations/spin_cartpole/predictors/predictor_150.pt\")"
   ]
  },
  {
   "cell_type": "markdown",
   "metadata": {},
   "source": [
    "## Try in online RL"
   ]
  },
  {
   "cell_type": "code",
   "execution_count": 7,
   "metadata": {},
   "outputs": [],
   "source": [
    "import d3rlpy\n",
    "\n",
    "from IPython.display import Video\n",
    "from gym.wrappers import RecordVideo\n",
    "import pygame\n",
    "\n",
    "def eval_with_env(env, algo):\n",
    "    s = env.reset()\n",
    "    reward = 0\n",
    "    steps = 0\n",
    "    while True:\n",
    "        a = algo.predict(s.reshape(1, *s.shape))\n",
    "        s, r, done, _ = env.step(a[0])\n",
    "        reward += r\n",
    "        steps += 1\n",
    "        env.render()\n",
    "        if done: break\n",
    "    print(\"{:.2f} {}\".format(reward, steps))\n",
    "\n",
    "class Spec:\n",
    "    def __init__(self):\n",
    "        self.id = \"\"\n",
    "        self.kwargs = {}\n",
    "\n",
    "screen = pygame.display.set_mode((600, 400))"
   ]
  },
  {
   "cell_type": "code",
   "execution_count": 8,
   "metadata": {},
   "outputs": [],
   "source": [
    "env_predictor = CartPoleEnv(game=False, reward_fn=predictor, timeout=500)\n",
    "env_predictor.spec = Spec()\n",
    "env_predictor_ = RecordVideo(env_predictor, \"./videos\",  name_prefix=\"DDQN\", episode_trigger= lambda x: True)"
   ]
  },
  {
   "cell_type": "code",
   "execution_count": 17,
   "metadata": {},
   "outputs": [],
   "source": [
    "def reward_angle(s, a):\n",
    "    return 0.9 * abs(s[3]) - 0.1 * abs(s[0])\n",
    "\n",
    "env_analytical = CartPoleEnv(game=False, reward_fn=reward_angle, timeout=500)\n",
    "env_analytical.spec = Spec()\n",
    "env_analytical_ = RecordVideo(env_analytical, \"./videos\",  name_prefix=\"DDQN\", episode_trigger= lambda x: True)"
   ]
  },
  {
   "cell_type": "markdown",
   "metadata": {},
   "source": [
    "### Learned reward"
   ]
  },
  {
   "cell_type": "code",
   "execution_count": 18,
   "metadata": {},
   "outputs": [],
   "source": [
    "buffer = d3rlpy.online.buffers.ReplayBuffer(maxlen=20000, env=env_predictor)\n",
    "explorer = d3rlpy.online.explorers.ConstantEpsilonGreedy(0.3)\n",
    "agent_preferences = d3rlpy.algos.DoubleDQN(\n",
    "    learning_rate=2e-4,\n",
    "    target_update_interval=1000,\n",
    "    use_gpu=True,\n",
    ")\n",
    "agent_preferences.build_with_env(env_predictor)"
   ]
  },
  {
   "cell_type": "code",
   "execution_count": 19,
   "metadata": {
    "scrolled": true
   },
   "outputs": [
    {
     "name": "stdout",
     "output_type": "stream",
     "text": [
      "2022-08-21 10:50.49 [info     ] Directory is created at d3rlpy_logs/DoubleDQN_online_20220821105049\n",
      "2022-08-21 10:50.49 [warning  ] Skip building models since they're already built.\n",
      "2022-08-21 10:50.49 [info     ] Parameters are saved to d3rlpy_logs/DoubleDQN_online_20220821105049/params.json params={'action_scaler': None, 'batch_size': 32, 'encoder_factory': {'type': 'default', 'params': {'activation': 'relu', 'use_batch_norm': False, 'dropout_rate': None}}, 'gamma': 0.99, 'generated_maxlen': 100000, 'learning_rate': 0.0002, 'n_critics': 1, 'n_frames': 1, 'n_steps': 1, 'optim_factory': {'optim_cls': 'Adam', 'betas': (0.9, 0.999), 'eps': 1e-08, 'weight_decay': 0, 'amsgrad': False}, 'q_func_factory': {'type': 'mean', 'params': {'share_encoder': False}}, 'real_ratio': 1.0, 'reward_scaler': None, 'scaler': None, 'target_update_interval': 1000, 'use_gpu': 0, 'algorithm': 'DoubleDQN', 'observation_shape': (4,), 'action_size': 2}\n",
      "2022-08-21 10:50.50 [info     ] Model parameters are saved to d3rlpy_logs/DoubleDQN_online_20220821105049/model_1000.pt\n",
      "2022-08-21 10:50.50 [info     ] DoubleDQN_online_20220821105049: epoch=1 step=1000 epoch=1 metrics={'time_inference': 0.0005437998771667481, 'time_environment_step': 0.0005992860794067383, 'time_step': 0.0011781067848205566, 'rollout_return': 6.018778901268628} step=1000\n",
      "2022-08-21 10:50.54 [info     ] Model parameters are saved to d3rlpy_logs/DoubleDQN_online_20220821105049/model_2000.pt\n",
      "2022-08-21 10:50.54 [info     ] DoubleDQN_online_20220821105049: epoch=2 step=2000 epoch=2 metrics={'time_inference': 0.0005610065460205078, 'time_environment_step': 0.0006038904190063477, 'time_sample_batch': 9.93337631225586e-05, 'time_algorithm_update': 0.0029771728515625, 'loss': 0.010006066295987694, 'time_step': 0.004295211791992187, 'rollout_return': 4.396213259269846} step=2000\n",
      "2022-08-21 10:50.59 [info     ] Model parameters are saved to d3rlpy_logs/DoubleDQN_online_20220821105049/model_3000.pt\n",
      "2022-08-21 10:50.59 [info     ] DoubleDQN_online_20220821105049: epoch=3 step=3000 epoch=3 metrics={'time_inference': 0.0005646698474884033, 'time_environment_step': 0.0006068973541259766, 'time_sample_batch': 0.00010064196586608886, 'time_algorithm_update': 0.002989304780960083, 'loss': 0.000651577793440083, 'time_step': 0.004316822052001953, 'rollout_return': 5.662491475809365} step=3000\n",
      "2022-08-21 10:51.03 [info     ] Model parameters are saved to d3rlpy_logs/DoubleDQN_online_20220821105049/model_4000.pt\n",
      "2022-08-21 10:51.03 [info     ] DoubleDQN_online_20220821105049: epoch=4 step=4000 epoch=4 metrics={'time_inference': 0.0005590066909790039, 'time_environment_step': 0.0006061184406280517, 'time_sample_batch': 0.00010089325904846192, 'time_algorithm_update': 0.0029169933795928954, 'loss': 0.0007017688896921755, 'time_step': 0.004237899780273438, 'rollout_return': 5.885137288365513} step=4000\n",
      "2022-08-21 10:51.07 [info     ] Model parameters are saved to d3rlpy_logs/DoubleDQN_online_20220821105049/model_5000.pt\n",
      "2022-08-21 10:51.07 [info     ] DoubleDQN_online_20220821105049: epoch=5 step=5000 epoch=5 metrics={'time_inference': 0.0005533936023712158, 'time_environment_step': 0.0005994486808776855, 'time_sample_batch': 0.0001004176139831543, 'time_algorithm_update': 0.00292151665687561, 'loss': 0.0017599855359003414, 'time_step': 0.004228796482086182, 'rollout_return': 6.433216215607346} step=5000\n",
      "2022-08-21 10:51.12 [info     ] Model parameters are saved to d3rlpy_logs/DoubleDQN_online_20220821105049/model_6000.pt\n",
      "2022-08-21 10:51.12 [info     ] DoubleDQN_online_20220821105049: epoch=6 step=6000 epoch=6 metrics={'time_inference': 0.0005548050403594971, 'time_environment_step': 0.0005984926223754883, 'time_sample_batch': 9.984230995178223e-05, 'time_algorithm_update': 0.0029087789058685302, 'loss': 0.0027450713368598373, 'time_step': 0.004215381145477295, 'rollout_return': 6.604925403797824} step=6000\n",
      "2022-08-21 10:51.16 [info     ] Model parameters are saved to d3rlpy_logs/DoubleDQN_online_20220821105049/model_7000.pt\n",
      "2022-08-21 10:51.16 [info     ] DoubleDQN_online_20220821105049: epoch=7 step=7000 epoch=7 metrics={'time_inference': 0.0005594770908355713, 'time_environment_step': 0.0006013653278350831, 'time_sample_batch': 0.0001008293628692627, 'time_algorithm_update': 0.002959547758102417, 'loss': 0.003027388533388148, 'time_step': 0.004275787353515625, 'rollout_return': 6.425926796005418} step=7000\n",
      "2022-08-21 10:51.20 [info     ] Model parameters are saved to d3rlpy_logs/DoubleDQN_online_20220821105049/model_8000.pt\n",
      "2022-08-21 10:51.20 [info     ] DoubleDQN_online_20220821105049: epoch=8 step=8000 epoch=8 metrics={'time_inference': 0.0005579044818878174, 'time_environment_step': 0.0005993468761444091, 'time_sample_batch': 0.00010069918632507324, 'time_algorithm_update': 0.0029498813152313234, 'loss': 0.002235834485400119, 'time_step': 0.004261812925338745, 'rollout_return': 6.084926258508598} step=8000\n",
      "2022-08-21 10:51.24 [info     ] Model parameters are saved to d3rlpy_logs/DoubleDQN_online_20220821105049/model_9000.pt\n",
      "2022-08-21 10:51.24 [info     ] DoubleDQN_online_20220821105049: epoch=9 step=9000 epoch=9 metrics={'time_inference': 0.0005606052875518799, 'time_environment_step': 0.0006033892631530761, 'time_sample_batch': 0.0001020197868347168, 'time_algorithm_update': 0.0030351061820983885, 'loss': 0.0020710505200477202, 'time_step': 0.0043553590774536135, 'rollout_return': 6.025764977602564} step=9000\n",
      "2022-08-21 10:51.29 [info     ] Model parameters are saved to d3rlpy_logs/DoubleDQN_online_20220821105049/model_10000.pt\n",
      "2022-08-21 10:51.29 [info     ] DoubleDQN_online_20220821105049: epoch=10 step=10000 epoch=10 metrics={'time_inference': 0.000561117172241211, 'time_environment_step': 0.0006026225090026855, 'time_sample_batch': 0.00010251855850219727, 'time_algorithm_update': 0.002971198320388794, 'loss': 0.0026103621706279226, 'time_step': 0.004292681217193604, 'rollout_return': 6.584834034655891} step=10000\n",
      "2022-08-21 10:51.33 [info     ] Model parameters are saved to d3rlpy_logs/DoubleDQN_online_20220821105049/model_11000.pt\n",
      "2022-08-21 10:51.33 [info     ] DoubleDQN_online_20220821105049: epoch=11 step=11000 epoch=11 metrics={'time_inference': 0.0005588991641998292, 'time_environment_step': 0.0005993592739105225, 'time_sample_batch': 0.00010213994979858399, 'time_algorithm_update': 0.002959173679351807, 'loss': 0.0026557443008423435, 'time_step': 0.004274600505828857, 'rollout_return': 6.041406259611163} step=11000\n",
      "2022-08-21 10:51.37 [info     ] Model parameters are saved to d3rlpy_logs/DoubleDQN_online_20220821105049/model_12000.pt\n",
      "2022-08-21 10:51.37 [info     ] DoubleDQN_online_20220821105049: epoch=12 step=12000 epoch=12 metrics={'time_inference': 0.0005589325428009033, 'time_environment_step': 0.0005971357822418213, 'time_sample_batch': 0.0001022629737854004, 'time_algorithm_update': 0.0029623231887817383, 'loss': 0.002366908512674854, 'time_step': 0.0042751400470733645, 'rollout_return': 6.076493646932283} step=12000\n",
      "2022-08-21 10:51.42 [info     ] Model parameters are saved to d3rlpy_logs/DoubleDQN_online_20220821105049/model_13000.pt\n",
      "2022-08-21 10:51.42 [info     ] DoubleDQN_online_20220821105049: epoch=13 step=13000 epoch=13 metrics={'time_inference': 0.0005596320629119873, 'time_environment_step': 0.000599945068359375, 'time_sample_batch': 0.00010274147987365722, 'time_algorithm_update': 0.0029626877307891847, 'loss': 0.002243926191411447, 'time_step': 0.004279550552368164, 'rollout_return': 7.092772900075596} step=13000\n",
      "2022-08-21 10:51.46 [info     ] Model parameters are saved to d3rlpy_logs/DoubleDQN_online_20220821105049/model_14000.pt\n",
      "2022-08-21 10:51.46 [info     ] DoubleDQN_online_20220821105049: epoch=14 step=14000 epoch=14 metrics={'time_inference': 0.0005592212677001953, 'time_environment_step': 0.0005983324050903321, 'time_sample_batch': 0.00010297679901123047, 'time_algorithm_update': 0.002962409734725952, 'loss': 0.002584318812325364, 'time_step': 0.004277349710464478, 'rollout_return': 6.379294131324224} step=14000\n",
      "2022-08-21 10:51.50 [info     ] Model parameters are saved to d3rlpy_logs/DoubleDQN_online_20220821105049/model_15000.pt\n",
      "2022-08-21 10:51.50 [info     ] DoubleDQN_online_20220821105049: epoch=15 step=15000 epoch=15 metrics={'time_inference': 0.000559814453125, 'time_environment_step': 0.0005998356342315674, 'time_sample_batch': 0.00010299396514892578, 'time_algorithm_update': 0.002970017433166504, 'loss': 0.0027179077690670963, 'time_step': 0.0042874238491058345, 'rollout_return': 6.110372787630358} step=15000\n"
     ]
    },
    {
     "name": "stdout",
     "output_type": "stream",
     "text": [
      "2022-08-21 10:51.55 [info     ] Model parameters are saved to d3rlpy_logs/DoubleDQN_online_20220821105049/model_16000.pt\n",
      "2022-08-21 10:51.55 [info     ] DoubleDQN_online_20220821105049: epoch=16 step=16000 epoch=16 metrics={'time_inference': 0.0005589728355407715, 'time_environment_step': 0.0005984787940979004, 'time_sample_batch': 0.00010277080535888672, 'time_algorithm_update': 0.0029579751491546633, 'loss': 0.0029158688566676572, 'time_step': 0.0042724616527557375, 'rollout_return': 6.297490271251826} step=16000\n",
      "2022-08-21 10:51.59 [info     ] Model parameters are saved to d3rlpy_logs/DoubleDQN_online_20220821105049/model_17000.pt\n",
      "2022-08-21 10:51.59 [info     ] DoubleDQN_online_20220821105049: epoch=17 step=17000 epoch=17 metrics={'time_inference': 0.0005638575553894042, 'time_environment_step': 0.0006029458045959473, 'time_sample_batch': 0.00010447454452514648, 'time_algorithm_update': 0.0029540801048278807, 'loss': 0.0035737427226704313, 'time_step': 0.004279881000518799, 'rollout_return': 8.188117103831246} step=17000\n",
      "2022-08-21 10:52.03 [info     ] Model parameters are saved to d3rlpy_logs/DoubleDQN_online_20220821105049/model_18000.pt\n",
      "2022-08-21 10:52.03 [info     ] DoubleDQN_online_20220821105049: epoch=18 step=18000 epoch=18 metrics={'time_inference': 0.0005618836879730224, 'time_environment_step': 0.0006023337841033936, 'time_sample_batch': 0.00010393619537353516, 'time_algorithm_update': 0.002975205898284912, 'loss': 0.004394833717749861, 'time_step': 0.004297894477844238, 'rollout_return': 7.140316200775227} step=18000\n",
      "2022-08-21 10:52.07 [info     ] Model parameters are saved to d3rlpy_logs/DoubleDQN_online_20220821105049/model_19000.pt\n",
      "2022-08-21 10:52.07 [info     ] DoubleDQN_online_20220821105049: epoch=19 step=19000 epoch=19 metrics={'time_inference': 0.0005605244636535645, 'time_environment_step': 0.0005990586280822754, 'time_sample_batch': 0.00010354733467102051, 'time_algorithm_update': 0.002963417053222656, 'loss': 0.006228024866170017, 'time_step': 0.004280802965164185, 'rollout_return': 7.094341729633743} step=19000\n",
      "2022-08-21 10:52.12 [info     ] Model parameters are saved to d3rlpy_logs/DoubleDQN_online_20220821105049/model_20000.pt\n",
      "2022-08-21 10:52.12 [info     ] DoubleDQN_online_20220821105049: epoch=20 step=20000 epoch=20 metrics={'time_inference': 0.0005633344650268554, 'time_environment_step': 0.0006029901504516601, 'time_sample_batch': 0.00010458040237426758, 'time_algorithm_update': 0.0029764556884765625, 'loss': 0.007562334797927179, 'time_step': 0.004301836252212524, 'rollout_return': 8.045016897058101} step=20000\n",
      "2022-08-21 10:52.16 [info     ] Model parameters are saved to d3rlpy_logs/DoubleDQN_online_20220821105049/model_21000.pt\n",
      "2022-08-21 10:52.16 [info     ] DoubleDQN_online_20220821105049: epoch=21 step=21000 epoch=21 metrics={'time_inference': 0.0005652532577514649, 'time_environment_step': 0.0006063022613525391, 'time_sample_batch': 0.00010525870323181153, 'time_algorithm_update': 0.0029746670722961424, 'loss': 0.007648327333285124, 'time_step': 0.004307623863220215, 'rollout_return': 7.901696586748585} step=21000\n",
      "2022-08-21 10:52.20 [info     ] Model parameters are saved to d3rlpy_logs/DoubleDQN_online_20220821105049/model_22000.pt\n",
      "2022-08-21 10:52.20 [info     ] DoubleDQN_online_20220821105049: epoch=22 step=22000 epoch=22 metrics={'time_inference': 0.0005662689208984375, 'time_environment_step': 0.0006040663719177246, 'time_sample_batch': 0.00010467171669006347, 'time_algorithm_update': 0.0029893672466278077, 'loss': 0.009145765176130225, 'time_step': 0.004320461750030518, 'rollout_return': 7.877844602022761} step=22000\n",
      "2022-08-21 10:52.25 [info     ] Model parameters are saved to d3rlpy_logs/DoubleDQN_online_20220821105049/model_23000.pt\n",
      "2022-08-21 10:52.25 [info     ] DoubleDQN_online_20220821105049: epoch=23 step=23000 epoch=23 metrics={'time_inference': 0.0005623891353607178, 'time_environment_step': 0.000602879285812378, 'time_sample_batch': 0.00010438275337219238, 'time_algorithm_update': 0.0029755563735961916, 'loss': 0.009464954005903565, 'time_step': 0.00430112886428833, 'rollout_return': 7.889025043618555} step=23000\n",
      "2022-08-21 10:52.29 [info     ] Model parameters are saved to d3rlpy_logs/DoubleDQN_online_20220821105049/model_24000.pt\n",
      "2022-08-21 10:52.29 [info     ] DoubleDQN_online_20220821105049: epoch=24 step=24000 epoch=24 metrics={'time_inference': 0.0005666089057922364, 'time_environment_step': 0.0006067011356353759, 'time_sample_batch': 0.00010520362854003906, 'time_algorithm_update': 0.002985000133514404, 'loss': 0.009590687418589369, 'time_step': 0.004319663047790527, 'rollout_return': 8.307903819568715} step=24000\n",
      "2022-08-21 10:52.33 [info     ] Model parameters are saved to d3rlpy_logs/DoubleDQN_online_20220821105049/model_25000.pt\n",
      "2022-08-21 10:52.33 [info     ] DoubleDQN_online_20220821105049: epoch=25 step=25000 epoch=25 metrics={'time_inference': 0.0005618338584899902, 'time_environment_step': 0.000600656509399414, 'time_sample_batch': 0.00010372185707092285, 'time_algorithm_update': 0.0029635210037231444, 'loss': 0.007231417184142629, 'time_step': 0.004285571575164795, 'rollout_return': 8.157818055604972} step=25000\n",
      "2022-08-21 10:52.38 [info     ] Model parameters are saved to d3rlpy_logs/DoubleDQN_online_20220821105049/model_26000.pt\n",
      "2022-08-21 10:52.38 [info     ] DoubleDQN_online_20220821105049: epoch=26 step=26000 epoch=26 metrics={'time_inference': 0.0005546422004699707, 'time_environment_step': 0.0005950944423675537, 'time_sample_batch': 0.00010245561599731446, 'time_algorithm_update': 0.002942147731781006, 'loss': 0.006742447823635303, 'time_step': 0.004249173402786255, 'rollout_return': 7.726877016747797} step=26000\n",
      "2022-08-21 10:52.42 [info     ] Model parameters are saved to d3rlpy_logs/DoubleDQN_online_20220821105049/model_27000.pt\n",
      "2022-08-21 10:52.42 [info     ] DoubleDQN_online_20220821105049: epoch=27 step=27000 epoch=27 metrics={'time_inference': 0.0005573160648345947, 'time_environment_step': 0.0005984404087066651, 'time_sample_batch': 0.00010310149192810059, 'time_algorithm_update': 0.0029580073356628416, 'loss': 0.007475461054767948, 'time_step': 0.00427261209487915, 'rollout_return': 7.839001581007752} step=27000\n",
      "2022-08-21 10:52.46 [info     ] Model parameters are saved to d3rlpy_logs/DoubleDQN_online_20220821105049/model_28000.pt\n",
      "2022-08-21 10:52.46 [info     ] DoubleDQN_online_20220821105049: epoch=28 step=28000 epoch=28 metrics={'time_inference': 0.0005618090629577637, 'time_environment_step': 0.0006040570735931397, 'time_sample_batch': 0.00010472702980041504, 'time_algorithm_update': 0.002969308853149414, 'loss': 0.006923471300164238, 'time_step': 0.004295960903167724, 'rollout_return': 7.493259392618711} step=28000\n",
      "2022-08-21 10:52.51 [info     ] Model parameters are saved to d3rlpy_logs/DoubleDQN_online_20220821105049/model_29000.pt\n",
      "2022-08-21 10:52.51 [info     ] DoubleDQN_online_20220821105049: epoch=29 step=29000 epoch=29 metrics={'time_inference': 0.0005606906414031982, 'time_environment_step': 0.0005997862815856934, 'time_sample_batch': 0.0001039113998413086, 'time_algorithm_update': 0.002961139440536499, 'loss': 0.006380269318411592, 'time_step': 0.004281048059463501, 'rollout_return': 7.044728587494319} step=29000\n",
      "2022-08-21 10:52.55 [info     ] Model parameters are saved to d3rlpy_logs/DoubleDQN_online_20220821105049/model_30000.pt\n",
      "2022-08-21 10:52.55 [info     ] DoubleDQN_online_20220821105049: epoch=30 step=30000 epoch=30 metrics={'time_inference': 0.0005614340305328369, 'time_environment_step': 0.0006031200885772705, 'time_sample_batch': 0.00010431289672851562, 'time_algorithm_update': 0.00297778058052063, 'loss': 0.005467877977935132, 'time_step': 0.004302566528320313, 'rollout_return': 6.911354792389708} step=30000\n",
      "2022-08-21 10:52.59 [info     ] Model parameters are saved to d3rlpy_logs/DoubleDQN_online_20220821105049/model_31000.pt\n",
      "2022-08-21 10:52.59 [info     ] DoubleDQN_online_20220821105049: epoch=31 step=31000 epoch=31 metrics={'time_inference': 0.0005641343593597412, 'time_environment_step': 0.0006049997806549072, 'time_sample_batch': 0.00010473132133483886, 'time_algorithm_update': 0.002978468418121338, 'loss': 0.005186893805395811, 'time_step': 0.004308032035827637, 'rollout_return': 8.758725510876891} step=31000\n"
     ]
    },
    {
     "name": "stdout",
     "output_type": "stream",
     "text": [
      "2022-08-21 10:53.03 [info     ] Model parameters are saved to d3rlpy_logs/DoubleDQN_online_20220821105049/model_32000.pt\n",
      "2022-08-21 10:53.03 [info     ] DoubleDQN_online_20220821105049: epoch=32 step=32000 epoch=32 metrics={'time_inference': 0.000558551549911499, 'time_environment_step': 0.0005982522964477539, 'time_sample_batch': 0.00010383224487304688, 'time_algorithm_update': 0.0029537267684936522, 'loss': 0.00536268044525059, 'time_step': 0.004269518136978149, 'rollout_return': 9.130738861278846} step=32000\n",
      "2022-08-21 10:53.08 [info     ] Model parameters are saved to d3rlpy_logs/DoubleDQN_online_20220821105049/model_33000.pt\n",
      "2022-08-21 10:53.08 [info     ] DoubleDQN_online_20220821105049: epoch=33 step=33000 epoch=33 metrics={'time_inference': 0.0005596327781677246, 'time_environment_step': 0.000600313663482666, 'time_sample_batch': 0.00010341119766235352, 'time_algorithm_update': 0.0029552578926086426, 'loss': 0.005311725050967653, 'time_step': 0.004273883819580078, 'rollout_return': 8.441665067360736} step=33000\n",
      "2022-08-21 10:53.12 [info     ] Model parameters are saved to d3rlpy_logs/DoubleDQN_online_20220821105049/model_34000.pt\n",
      "2022-08-21 10:53.12 [info     ] DoubleDQN_online_20220821105049: epoch=34 step=34000 epoch=34 metrics={'time_inference': 0.0005609376430511474, 'time_environment_step': 0.0006012203693389893, 'time_sample_batch': 0.00010404276847839355, 'time_algorithm_update': 0.0029683687686920166, 'loss': 0.005659868957824074, 'time_step': 0.004290190219879151, 'rollout_return': 9.577457806751436} step=34000\n",
      "2022-08-21 10:53.16 [info     ] Model parameters are saved to d3rlpy_logs/DoubleDQN_online_20220821105049/model_35000.pt\n",
      "2022-08-21 10:53.16 [info     ] DoubleDQN_online_20220821105049: epoch=35 step=35000 epoch=35 metrics={'time_inference': 0.000558459997177124, 'time_environment_step': 0.0005988969802856446, 'time_sample_batch': 0.00010343313217163086, 'time_algorithm_update': 0.0029537396430969237, 'loss': 0.005255449547839817, 'time_step': 0.004269774675369263, 'rollout_return': 9.315054740743317} step=35000\n",
      "2022-08-21 10:53.21 [info     ] Model parameters are saved to d3rlpy_logs/DoubleDQN_online_20220821105049/model_36000.pt\n",
      "2022-08-21 10:53.21 [info     ] DoubleDQN_online_20220821105049: epoch=36 step=36000 epoch=36 metrics={'time_inference': 0.0005609080791473389, 'time_environment_step': 0.00060135817527771, 'time_sample_batch': 0.00010413503646850586, 'time_algorithm_update': 0.0029665541648864744, 'loss': 0.0057093368586211, 'time_step': 0.004288271903991699, 'rollout_return': 9.395407671261077} step=36000\n",
      "2022-08-21 10:53.25 [info     ] Model parameters are saved to d3rlpy_logs/DoubleDQN_online_20220821105049/model_37000.pt\n",
      "2022-08-21 10:53.25 [info     ] DoubleDQN_online_20220821105049: epoch=37 step=37000 epoch=37 metrics={'time_inference': 0.000558295488357544, 'time_environment_step': 0.0005994236469268799, 'time_sample_batch': 0.0001040353775024414, 'time_algorithm_update': 0.0029624788761138917, 'loss': 0.005908320360642393, 'time_step': 0.004279424905776977, 'rollout_return': 11.58477931547095} step=37000\n",
      "2022-08-21 10:53.29 [info     ] Model parameters are saved to d3rlpy_logs/DoubleDQN_online_20220821105049/model_38000.pt\n",
      "2022-08-21 10:53.29 [info     ] DoubleDQN_online_20220821105049: epoch=38 step=38000 epoch=38 metrics={'time_inference': 0.0005593264102935791, 'time_environment_step': 0.0006022815704345703, 'time_sample_batch': 0.00010456633567810059, 'time_algorithm_update': 0.002963204622268677, 'loss': 0.005865595653653145, 'time_step': 0.004284692049026489, 'rollout_return': 10.130328600576226} step=38000\n",
      "2022-08-21 10:53.34 [info     ] Model parameters are saved to d3rlpy_logs/DoubleDQN_online_20220821105049/model_39000.pt\n",
      "2022-08-21 10:53.34 [info     ] DoubleDQN_online_20220821105049: epoch=39 step=39000 epoch=39 metrics={'time_inference': 0.0005567247867584228, 'time_environment_step': 0.0005988340377807617, 'time_sample_batch': 0.00010365724563598632, 'time_algorithm_update': 0.0029462673664093016, 'loss': 0.0063218419178738255, 'time_step': 0.004260412216186523, 'rollout_return': 10.445865270636904} step=39000\n",
      "2022-08-21 10:53.38 [info     ] Model parameters are saved to d3rlpy_logs/DoubleDQN_online_20220821105049/model_40000.pt\n",
      "2022-08-21 10:53.38 [info     ] DoubleDQN_online_20220821105049: epoch=40 step=40000 epoch=40 metrics={'time_inference': 0.000563035249710083, 'time_environment_step': 0.0006046974658966064, 'time_sample_batch': 0.00010399913787841797, 'time_algorithm_update': 0.0029702579975128176, 'loss': 0.005663439574767835, 'time_step': 0.004297225713729858, 'rollout_return': 9.18858001497782} step=40000\n",
      "2022-08-21 10:53.42 [info     ] Model parameters are saved to d3rlpy_logs/DoubleDQN_online_20220821105049/model_41000.pt\n",
      "2022-08-21 10:53.42 [info     ] DoubleDQN_online_20220821105049: epoch=41 step=41000 epoch=41 metrics={'time_inference': 0.0005645267963409424, 'time_environment_step': 0.0006068029403686523, 'time_sample_batch': 0.00010466647148132324, 'time_algorithm_update': 0.0029840641021728516, 'loss': 0.005562872038979549, 'time_step': 0.00431563925743103, 'rollout_return': 13.613279269743362} step=41000\n",
      "2022-08-21 10:53.47 [info     ] Model parameters are saved to d3rlpy_logs/DoubleDQN_online_20220821105049/model_42000.pt\n",
      "2022-08-21 10:53.47 [info     ] DoubleDQN_online_20220821105049: epoch=42 step=42000 epoch=42 metrics={'time_inference': 0.0005678055286407471, 'time_environment_step': 0.0006096513271331787, 'time_sample_batch': 0.0001056976318359375, 'time_algorithm_update': 0.0030094058513641356, 'loss': 0.006304841546574608, 'time_step': 0.004348183155059814, 'rollout_return': 14.00173573095526} step=42000\n",
      "2022-08-21 10:53.51 [info     ] Model parameters are saved to d3rlpy_logs/DoubleDQN_online_20220821105049/model_43000.pt\n",
      "2022-08-21 10:53.51 [info     ] DoubleDQN_online_20220821105049: epoch=43 step=43000 epoch=43 metrics={'time_inference': 0.0005669820308685302, 'time_environment_step': 0.0006083950996398925, 'time_sample_batch': 0.00010536313056945801, 'time_algorithm_update': 0.003002417802810669, 'loss': 0.007626166852423922, 'time_step': 0.004339004278182983, 'rollout_return': 12.338509194843937} step=43000\n",
      "2022-08-21 10:53.55 [info     ] Model parameters are saved to d3rlpy_logs/DoubleDQN_online_20220821105049/model_44000.pt\n",
      "2022-08-21 10:53.55 [info     ] DoubleDQN_online_20220821105049: epoch=44 step=44000 epoch=44 metrics={'time_inference': 0.0005641963481903076, 'time_environment_step': 0.0006060628890991211, 'time_sample_batch': 0.00010523200035095215, 'time_algorithm_update': 0.0029859068393707274, 'loss': 0.007490653165557888, 'time_step': 0.0043172926902771, 'rollout_return': 18.38069344968729} step=44000\n",
      "2022-08-21 10:54.00 [info     ] Model parameters are saved to d3rlpy_logs/DoubleDQN_online_20220821105049/model_45000.pt\n",
      "2022-08-21 10:54.00 [info     ] DoubleDQN_online_20220821105049: epoch=45 step=45000 epoch=45 metrics={'time_inference': 0.0005652809143066406, 'time_environment_step': 0.0006083650588989258, 'time_sample_batch': 0.00010571622848510742, 'time_algorithm_update': 0.0029739463329315186, 'loss': 0.009693604178144596, 'time_step': 0.004308746576309204, 'rollout_return': 13.021081500774017} step=45000\n",
      "2022-08-21 10:54.04 [info     ] Model parameters are saved to d3rlpy_logs/DoubleDQN_online_20220821105049/model_46000.pt\n",
      "2022-08-21 10:54.04 [info     ] DoubleDQN_online_20220821105049: epoch=46 step=46000 epoch=46 metrics={'time_inference': 0.0005663292407989502, 'time_environment_step': 0.000607151985168457, 'time_sample_batch': 0.00010578703880310058, 'time_algorithm_update': 0.002990931272506714, 'loss': 0.010254046191228553, 'time_step': 0.004325749635696411, 'rollout_return': 16.829041324584978} step=46000\n",
      "2022-08-21 10:54.08 [info     ] Model parameters are saved to d3rlpy_logs/DoubleDQN_online_20220821105049/model_47000.pt\n",
      "2022-08-21 10:54.08 [info     ] DoubleDQN_online_20220821105049: epoch=47 step=47000 epoch=47 metrics={'time_inference': 0.0005606744289398194, 'time_environment_step': 0.0006016652584075928, 'time_sample_batch': 0.00010430836677551269, 'time_algorithm_update': 0.0029677460193634035, 'loss': 0.0104610168102663, 'time_step': 0.004289057493209839, 'rollout_return': 16.40509946468228} step=47000\n"
     ]
    },
    {
     "name": "stdout",
     "output_type": "stream",
     "text": [
      "2022-08-21 10:54.12 [info     ] Model parameters are saved to d3rlpy_logs/DoubleDQN_online_20220821105049/model_48000.pt\n",
      "2022-08-21 10:54.12 [info     ] DoubleDQN_online_20220821105049: epoch=48 step=48000 epoch=48 metrics={'time_inference': 0.000559701919555664, 'time_environment_step': 0.0006012797355651855, 'time_sample_batch': 0.00010428357124328613, 'time_algorithm_update': 0.0029633378982543944, 'loss': 0.011227703651296906, 'time_step': 0.004283747434616089, 'rollout_return': 17.332793607301678} step=48000\n",
      "2022-08-21 10:54.17 [info     ] Model parameters are saved to d3rlpy_logs/DoubleDQN_online_20220821105049/model_49000.pt\n",
      "2022-08-21 10:54.17 [info     ] DoubleDQN_online_20220821105049: epoch=49 step=49000 epoch=49 metrics={'time_inference': 0.0005598194599151611, 'time_environment_step': 0.0006026773452758789, 'time_sample_batch': 0.00010479331016540528, 'time_algorithm_update': 0.002936204195022583, 'loss': 0.012890483717201277, 'time_step': 0.004258781433105469, 'rollout_return': 22.326919981647126} step=49000\n",
      "2022-08-21 10:54.21 [info     ] Model parameters are saved to d3rlpy_logs/DoubleDQN_online_20220821105049/model_50000.pt\n",
      "2022-08-21 10:54.21 [info     ] DoubleDQN_online_20220821105049: epoch=50 step=50000 epoch=50 metrics={'time_inference': 0.0005578870773315429, 'time_environment_step': 0.0006032466888427734, 'time_sample_batch': 0.0001046910285949707, 'time_algorithm_update': 0.0029182989597320557, 'loss': 0.015097146096581127, 'time_step': 0.004240268230438232, 'rollout_return': 14.895029208581295} step=50000\n",
      "2022-08-21 10:54.25 [info     ] Model parameters are saved to d3rlpy_logs/DoubleDQN_online_20220821105049/model_51000.pt\n",
      "2022-08-21 10:54.25 [info     ] DoubleDQN_online_20220821105049: epoch=51 step=51000 epoch=51 metrics={'time_inference': 0.000559347152709961, 'time_environment_step': 0.0006030418872833252, 'time_sample_batch': 0.00010458207130432129, 'time_algorithm_update': 0.002930095911026001, 'loss': 0.01574261583085172, 'time_step': 0.004251800537109375, 'rollout_return': 22.668132685139426} step=51000\n",
      "2022-08-21 10:54.30 [info     ] Model parameters are saved to d3rlpy_logs/DoubleDQN_online_20220821105049/model_52000.pt\n",
      "2022-08-21 10:54.30 [info     ] DoubleDQN_online_20220821105049: epoch=52 step=52000 epoch=52 metrics={'time_inference': 0.0005642309188842774, 'time_environment_step': 0.0006074850559234619, 'time_sample_batch': 0.00010573363304138183, 'time_algorithm_update': 0.0029394049644470214, 'loss': 0.016327152426703833, 'time_step': 0.004272508382797241, 'rollout_return': 20.948183021037647} step=52000\n",
      "2022-08-21 10:54.34 [info     ] Model parameters are saved to d3rlpy_logs/DoubleDQN_online_20220821105049/model_53000.pt\n",
      "2022-08-21 10:54.34 [info     ] DoubleDQN_online_20220821105049: epoch=53 step=53000 epoch=53 metrics={'time_inference': 0.0005629472732543945, 'time_environment_step': 0.0006053795814514161, 'time_sample_batch': 0.00010464954376220704, 'time_algorithm_update': 0.0029668056964874266, 'loss': 0.01844939402723685, 'time_step': 0.004295216560363769, 'rollout_return': 19.183234784833623} step=53000\n",
      "2022-08-21 10:54.38 [info     ] Model parameters are saved to d3rlpy_logs/DoubleDQN_online_20220821105049/model_54000.pt\n",
      "2022-08-21 10:54.38 [info     ] DoubleDQN_online_20220821105049: epoch=54 step=54000 epoch=54 metrics={'time_inference': 0.0005543310642242431, 'time_environment_step': 0.0005955593585968017, 'time_sample_batch': 0.00010306859016418457, 'time_algorithm_update': 0.002927713632583618, 'loss': 0.0198175736409612, 'time_step': 0.004235211133956909, 'rollout_return': 10.364449068438262} step=54000\n",
      "2022-08-21 10:54.42 [info     ] Model parameters are saved to d3rlpy_logs/DoubleDQN_online_20220821105049/model_55000.pt\n",
      "2022-08-21 10:54.42 [info     ] DoubleDQN_online_20220821105049: epoch=55 step=55000 epoch=55 metrics={'time_inference': 0.000557253122329712, 'time_environment_step': 0.0005995705127716064, 'time_sample_batch': 0.00010412764549255371, 'time_algorithm_update': 0.0029214913845062255, 'loss': 0.019816608460620045, 'time_step': 0.004237370491027832, 'rollout_return': 10.871389849932166} step=55000\n",
      "2022-08-21 10:54.47 [info     ] Model parameters are saved to d3rlpy_logs/DoubleDQN_online_20220821105049/model_56000.pt\n",
      "2022-08-21 10:54.47 [info     ] DoubleDQN_online_20220821105049: epoch=56 step=56000 epoch=56 metrics={'time_inference': 0.0005591678619384766, 'time_environment_step': 0.000600947618484497, 'time_sample_batch': 0.00010445928573608399, 'time_algorithm_update': 0.002940232038497925, 'loss': 0.025870417166734116, 'time_step': 0.004259633302688599, 'rollout_return': 28.83164347014584} step=56000\n",
      "2022-08-21 10:54.51 [info     ] Model parameters are saved to d3rlpy_logs/DoubleDQN_online_20220821105049/model_57000.pt\n",
      "2022-08-21 10:54.51 [info     ] DoubleDQN_online_20220821105049: epoch=57 step=57000 epoch=57 metrics={'time_inference': 0.0005584602355957031, 'time_environment_step': 0.0006018304824829102, 'time_sample_batch': 0.00010401558876037598, 'time_algorithm_update': 0.002941080093383789, 'loss': 0.02670597560144961, 'time_step': 0.0042603728771209715, 'rollout_return': 19.887295744905714} step=57000\n",
      "2022-08-21 10:54.55 [info     ] Model parameters are saved to d3rlpy_logs/DoubleDQN_online_20220821105049/model_58000.pt\n",
      "2022-08-21 10:54.55 [info     ] DoubleDQN_online_20220821105049: epoch=58 step=58000 epoch=58 metrics={'time_inference': 0.0005595753192901611, 'time_environment_step': 0.0006033976078033447, 'time_sample_batch': 0.00010479354858398438, 'time_algorithm_update': 0.0029531276226043702, 'loss': 0.03293626079661772, 'time_step': 0.004275705575942993, 'rollout_return': 18.90417704274296} step=58000\n",
      "2022-08-21 10:55.00 [info     ] Model parameters are saved to d3rlpy_logs/DoubleDQN_online_20220821105049/model_59000.pt\n",
      "2022-08-21 10:55.00 [info     ] DoubleDQN_online_20220821105049: epoch=59 step=59000 epoch=59 metrics={'time_inference': 0.0005650689601898193, 'time_environment_step': 0.0006077303886413574, 'time_sample_batch': 0.0001055760383605957, 'time_algorithm_update': 0.0029799468517303467, 'loss': 0.02681320397090167, 'time_step': 0.004314329385757446, 'rollout_return': 25.31917564709147} step=59000\n",
      "2022-08-21 10:55.04 [info     ] Model parameters are saved to d3rlpy_logs/DoubleDQN_online_20220821105049/model_60000.pt\n",
      "2022-08-21 10:55.04 [info     ] DoubleDQN_online_20220821105049: epoch=60 step=60000 epoch=60 metrics={'time_inference': 0.0005626459121704101, 'time_environment_step': 0.000603208065032959, 'time_sample_batch': 0.00010443639755249024, 'time_algorithm_update': 0.0029735264778137207, 'loss': 0.026906700141727923, 'time_step': 0.004298901081085205, 'rollout_return': 14.14109476779122} step=60000\n",
      "2022-08-21 10:55.08 [info     ] Model parameters are saved to d3rlpy_logs/DoubleDQN_online_20220821105049/model_61000.pt\n",
      "2022-08-21 10:55.08 [info     ] DoubleDQN_online_20220821105049: epoch=61 step=61000 epoch=61 metrics={'time_inference': 0.0005587136745452881, 'time_environment_step': 0.0006007709503173828, 'time_sample_batch': 0.00010403847694396973, 'time_algorithm_update': 0.0029624540805816653, 'loss': 0.026557648899732157, 'time_step': 0.004281104326248169, 'rollout_return': 24.082790433320042} step=61000\n",
      "2022-08-21 10:55.12 [info     ] Model parameters are saved to d3rlpy_logs/DoubleDQN_online_20220821105049/model_62000.pt\n",
      "2022-08-21 10:55.12 [info     ] DoubleDQN_online_20220821105049: epoch=62 step=62000 epoch=62 metrics={'time_inference': 0.0005588874816894531, 'time_environment_step': 0.0005989515781402588, 'time_sample_batch': 0.00010390806198120117, 'time_algorithm_update': 0.002965608358383179, 'loss': 0.03291441658698022, 'time_step': 0.004282291650772095, 'rollout_return': 19.699823042779464} step=62000\n",
      "2022-08-21 10:55.17 [info     ] Model parameters are saved to d3rlpy_logs/DoubleDQN_online_20220821105049/model_63000.pt\n",
      "2022-08-21 10:55.17 [info     ] DoubleDQN_online_20220821105049: epoch=63 step=63000 epoch=63 metrics={'time_inference': 0.0005582799911499023, 'time_environment_step': 0.0006016659736633301, 'time_sample_batch': 0.00010461711883544922, 'time_algorithm_update': 0.0029306888580322267, 'loss': 0.036535316875437276, 'time_step': 0.004250355005264282, 'rollout_return': 31.97313804733858} step=63000\n"
     ]
    },
    {
     "name": "stdout",
     "output_type": "stream",
     "text": [
      "2022-08-21 10:55.21 [info     ] Model parameters are saved to d3rlpy_logs/DoubleDQN_online_20220821105049/model_64000.pt\n",
      "2022-08-21 10:55.21 [info     ] DoubleDQN_online_20220821105049: epoch=64 step=64000 epoch=64 metrics={'time_inference': 0.000557593822479248, 'time_environment_step': 0.0005993402004241943, 'time_sample_batch': 0.00010387063026428223, 'time_algorithm_update': 0.0029408652782440185, 'loss': 0.0324309671621304, 'time_step': 0.004256298542022705, 'rollout_return': 26.04090190694842} step=64000\n",
      "2022-08-21 10:55.25 [info     ] Model parameters are saved to d3rlpy_logs/DoubleDQN_online_20220821105049/model_65000.pt\n",
      "2022-08-21 10:55.25 [info     ] DoubleDQN_online_20220821105049: epoch=65 step=65000 epoch=65 metrics={'time_inference': 0.0005553507804870605, 'time_environment_step': 0.0005973711013793945, 'time_sample_batch': 0.00010346698760986328, 'time_algorithm_update': 0.002944708824157715, 'loss': 0.03729680099850521, 'time_step': 0.00425477385520935, 'rollout_return': 15.120031387763447} step=65000\n",
      "2022-08-21 10:55.30 [info     ] Model parameters are saved to d3rlpy_logs/DoubleDQN_online_20220821105049/model_66000.pt\n",
      "2022-08-21 10:55.30 [info     ] DoubleDQN_online_20220821105049: epoch=66 step=66000 epoch=66 metrics={'time_inference': 0.0005628614425659179, 'time_environment_step': 0.0006051013469696044, 'time_sample_batch': 0.00010494756698608399, 'time_algorithm_update': 0.0029741833209991457, 'loss': 0.0382045452024322, 'time_step': 0.004302194833755493, 'rollout_return': 24.49401943866542} step=66000\n",
      "2022-08-21 10:55.34 [info     ] Model parameters are saved to d3rlpy_logs/DoubleDQN_online_20220821105049/model_67000.pt\n",
      "2022-08-21 10:55.34 [info     ] DoubleDQN_online_20220821105049: epoch=67 step=67000 epoch=67 metrics={'time_inference': 0.0005594642162322998, 'time_environment_step': 0.0006026906967163086, 'time_sample_batch': 0.00010455751419067383, 'time_algorithm_update': 0.002958047151565552, 'loss': 0.036006386883789675, 'time_step': 0.004279852390289307, 'rollout_return': 24.810738666637917} step=67000\n",
      "2022-08-21 10:55.38 [info     ] Model parameters are saved to d3rlpy_logs/DoubleDQN_online_20220821105049/model_68000.pt\n",
      "2022-08-21 10:55.38 [info     ] DoubleDQN_online_20220821105049: epoch=68 step=68000 epoch=68 metrics={'time_inference': 0.0005606317520141602, 'time_environment_step': 0.0006051011085510254, 'time_sample_batch': 0.00010528492927551269, 'time_algorithm_update': 0.0029783356189727783, 'loss': 0.03720803884696215, 'time_step': 0.004304109811782837, 'rollout_return': 13.70880144565308} step=68000\n",
      "2022-08-21 10:55.43 [info     ] Model parameters are saved to d3rlpy_logs/DoubleDQN_online_20220821105049/model_69000.pt\n",
      "2022-08-21 10:55.43 [info     ] DoubleDQN_online_20220821105049: epoch=69 step=69000 epoch=69 metrics={'time_inference': 0.0005645310878753662, 'time_environment_step': 0.0006074197292327881, 'time_sample_batch': 0.00010560250282287597, 'time_algorithm_update': 0.0029857568740844728, 'loss': 0.03710899423249066, 'time_step': 0.004318562269210816, 'rollout_return': 16.357920097740134} step=69000\n",
      "2022-08-21 10:55.47 [info     ] Model parameters are saved to d3rlpy_logs/DoubleDQN_online_20220821105049/model_70000.pt\n",
      "2022-08-21 10:55.47 [info     ] DoubleDQN_online_20220821105049: epoch=70 step=70000 epoch=70 metrics={'time_inference': 0.0005604090690612793, 'time_environment_step': 0.0006054954528808594, 'time_sample_batch': 0.00010491800308227539, 'time_algorithm_update': 0.002971843719482422, 'loss': 0.03619532593386248, 'time_step': 0.004297740221023559, 'rollout_return': 17.3598662570148} step=70000\n",
      "2022-08-21 10:55.51 [info     ] Model parameters are saved to d3rlpy_logs/DoubleDQN_online_20220821105049/model_71000.pt\n",
      "2022-08-21 10:55.51 [info     ] DoubleDQN_online_20220821105049: epoch=71 step=71000 epoch=71 metrics={'time_inference': 0.0005548512935638428, 'time_environment_step': 0.0005980887413024902, 'time_sample_batch': 0.00010419631004333496, 'time_algorithm_update': 0.0029491555690765382, 'loss': 0.03312917690398171, 'time_step': 0.004260489225387573, 'rollout_return': 14.109767775196815} step=71000\n",
      "2022-08-21 10:55.55 [info     ] Model parameters are saved to d3rlpy_logs/DoubleDQN_online_20220821105049/model_72000.pt\n",
      "2022-08-21 10:55.55 [info     ] DoubleDQN_online_20220821105049: epoch=72 step=72000 epoch=72 metrics={'time_inference': 0.0005574281215667725, 'time_environment_step': 0.0006000363826751709, 'time_sample_batch': 0.00010360360145568848, 'time_algorithm_update': 0.002948042154312134, 'loss': 0.04032379949418828, 'time_step': 0.004263739109039307, 'rollout_return': 15.993865897159724} step=72000\n",
      "2022-08-21 10:56.00 [info     ] Model parameters are saved to d3rlpy_logs/DoubleDQN_online_20220821105049/model_73000.pt\n",
      "2022-08-21 10:56.00 [info     ] DoubleDQN_online_20220821105049: epoch=73 step=73000 epoch=73 metrics={'time_inference': 0.0005666878223419189, 'time_environment_step': 0.0006089191436767579, 'time_sample_batch': 0.00010584878921508789, 'time_algorithm_update': 0.0029944307804107666, 'loss': 0.03721286914171651, 'time_step': 0.004331578493118286, 'rollout_return': 23.40316640993842} step=73000\n",
      "2022-08-21 10:56.04 [info     ] Model parameters are saved to d3rlpy_logs/DoubleDQN_online_20220821105049/model_74000.pt\n",
      "2022-08-21 10:56.04 [info     ] DoubleDQN_online_20220821105049: epoch=74 step=74000 epoch=74 metrics={'time_inference': 0.0005627202987670898, 'time_environment_step': 0.0006066617965698242, 'time_sample_batch': 0.00010545134544372559, 'time_algorithm_update': 0.0029812440872192384, 'loss': 0.035868164711166176, 'time_step': 0.004311326742172241, 'rollout_return': 14.781437532212294} step=74000\n",
      "2022-08-21 10:56.08 [info     ] Model parameters are saved to d3rlpy_logs/DoubleDQN_online_20220821105049/model_75000.pt\n",
      "2022-08-21 10:56.08 [info     ] DoubleDQN_online_20220821105049: epoch=75 step=75000 epoch=75 metrics={'time_inference': 0.000558361291885376, 'time_environment_step': 0.0006017723083496094, 'time_sample_batch': 0.00010429120063781738, 'time_algorithm_update': 0.002959841251373291, 'loss': 0.035043776683975014, 'time_step': 0.004278847694396973, 'rollout_return': 14.021283964510076} step=75000\n",
      "2022-08-21 10:56.13 [info     ] Model parameters are saved to d3rlpy_logs/DoubleDQN_online_20220821105049/model_76000.pt\n",
      "2022-08-21 10:56.13 [info     ] DoubleDQN_online_20220821105049: epoch=76 step=76000 epoch=76 metrics={'time_inference': 0.0005578751564025879, 'time_environment_step': 0.0006015832424163818, 'time_sample_batch': 0.00010445523262023926, 'time_algorithm_update': 0.0029656848907470704, 'loss': 0.03708352842973545, 'time_step': 0.00428403639793396, 'rollout_return': 3.9203199576683496} step=76000\n",
      "2022-08-21 10:56.17 [info     ] Model parameters are saved to d3rlpy_logs/DoubleDQN_online_20220821105049/model_77000.pt\n",
      "2022-08-21 10:56.17 [info     ] DoubleDQN_online_20220821105049: epoch=77 step=77000 epoch=77 metrics={'time_inference': 0.0005646698474884033, 'time_environment_step': 0.000607304573059082, 'time_sample_batch': 0.00010578441619873047, 'time_algorithm_update': 0.0029934473037719726, 'loss': 0.039735488320235164, 'time_step': 0.004326868534088135, 'rollout_return': 8.615640237995345} step=77000\n",
      "2022-08-21 10:56.21 [info     ] Model parameters are saved to d3rlpy_logs/DoubleDQN_online_20220821105049/model_78000.pt\n",
      "2022-08-21 10:56.21 [info     ] DoubleDQN_online_20220821105049: epoch=78 step=78000 epoch=78 metrics={'time_inference': 0.0005678486824035645, 'time_environment_step': 0.0006114230155944825, 'time_sample_batch': 0.0001063077449798584, 'time_algorithm_update': 0.003006155252456665, 'loss': 0.038258339538006114, 'time_step': 0.004347390413284301, 'rollout_return': 16.35687306737721} step=78000\n",
      "2022-08-21 10:56.26 [info     ] Model parameters are saved to d3rlpy_logs/DoubleDQN_online_20220821105049/model_79000.pt\n",
      "2022-08-21 10:56.26 [info     ] DoubleDQN_online_20220821105049: epoch=79 step=79000 epoch=79 metrics={'time_inference': 0.0005622293949127197, 'time_environment_step': 0.0006046798229217529, 'time_sample_batch': 0.00010499691963195801, 'time_algorithm_update': 0.00297019362449646, 'loss': 0.04103558949870057, 'time_step': 0.004297125816345215, 'rollout_return': 14.520247671733765} step=79000\n"
     ]
    },
    {
     "name": "stdout",
     "output_type": "stream",
     "text": [
      "2022-08-21 10:56.30 [info     ] Model parameters are saved to d3rlpy_logs/DoubleDQN_online_20220821105049/model_80000.pt\n",
      "2022-08-21 10:56.30 [info     ] DoubleDQN_online_20220821105049: epoch=80 step=80000 epoch=80 metrics={'time_inference': 0.000562077283859253, 'time_environment_step': 0.0006046087741851807, 'time_sample_batch': 0.00010488224029541016, 'time_algorithm_update': 0.002969735860824585, 'loss': 0.040138979281298816, 'time_step': 0.004296490430831909, 'rollout_return': 8.34275312673417} step=80000\n",
      "2022-08-21 10:56.34 [info     ] Model parameters are saved to d3rlpy_logs/DoubleDQN_online_20220821105049/model_81000.pt\n",
      "2022-08-21 10:56.34 [info     ] DoubleDQN_online_20220821105049: epoch=81 step=81000 epoch=81 metrics={'time_inference': 0.0005609242916107177, 'time_environment_step': 0.0006036829948425293, 'time_sample_batch': 0.00010461139678955078, 'time_algorithm_update': 0.0029692089557647704, 'loss': 0.0428991912426427, 'time_step': 0.00429333758354187, 'rollout_return': 11.628140930687854} step=81000\n",
      "2022-08-21 10:56.39 [info     ] Model parameters are saved to d3rlpy_logs/DoubleDQN_online_20220821105049/model_82000.pt\n",
      "2022-08-21 10:56.39 [info     ] DoubleDQN_online_20220821105049: epoch=82 step=82000 epoch=82 metrics={'time_inference': 0.000561657190322876, 'time_environment_step': 0.0006047558784484864, 'time_sample_batch': 0.00010478401184082031, 'time_algorithm_update': 0.0029788742065429688, 'loss': 0.04052264502784237, 'time_step': 0.0043048253059387205, 'rollout_return': 20.418360757365008} step=82000\n",
      "2022-08-21 10:56.43 [info     ] Model parameters are saved to d3rlpy_logs/DoubleDQN_online_20220821105049/model_83000.pt\n",
      "2022-08-21 10:56.43 [info     ] DoubleDQN_online_20220821105049: epoch=83 step=83000 epoch=83 metrics={'time_inference': 0.0005609743595123291, 'time_environment_step': 0.000604172945022583, 'time_sample_batch': 0.00010493564605712891, 'time_algorithm_update': 0.0029441583156585693, 'loss': 0.042751283334568145, 'time_step': 0.004269053697586059, 'rollout_return': -2.7104161306051537} step=83000\n",
      "2022-08-21 10:56.47 [info     ] Model parameters are saved to d3rlpy_logs/DoubleDQN_online_20220821105049/model_84000.pt\n",
      "2022-08-21 10:56.47 [info     ] DoubleDQN_online_20220821105049: epoch=84 step=84000 epoch=84 metrics={'time_inference': 0.0005637178421020508, 'time_environment_step': 0.0006083431243896484, 'time_sample_batch': 0.00010550594329833984, 'time_algorithm_update': 0.002981120586395264, 'loss': 0.04297501215618104, 'time_step': 0.0043141555786132815, 'rollout_return': 7.235006475879345} step=84000\n",
      "2022-08-21 10:56.52 [info     ] Model parameters are saved to d3rlpy_logs/DoubleDQN_online_20220821105049/model_85000.pt\n",
      "2022-08-21 10:56.52 [info     ] DoubleDQN_online_20220821105049: epoch=85 step=85000 epoch=85 metrics={'time_inference': 0.0005592041015625, 'time_environment_step': 0.0006025917530059814, 'time_sample_batch': 0.00010492086410522461, 'time_algorithm_update': 0.00297223162651062, 'loss': 0.037973570467904214, 'time_step': 0.004294069051742554, 'rollout_return': 5.125253220942493} step=85000\n",
      "2022-08-21 10:56.56 [info     ] Model parameters are saved to d3rlpy_logs/DoubleDQN_online_20220821105049/model_86000.pt\n",
      "2022-08-21 10:56.56 [info     ] DoubleDQN_online_20220821105049: epoch=86 step=86000 epoch=86 metrics={'time_inference': 0.000564305305480957, 'time_environment_step': 0.0006077337265014648, 'time_sample_batch': 0.00010543131828308106, 'time_algorithm_update': 0.002989748001098633, 'loss': 0.03875484051834792, 'time_step': 0.0043230454921722415, 'rollout_return': 18.148822770279367} step=86000\n",
      "2022-08-21 10:57.00 [info     ] Model parameters are saved to d3rlpy_logs/DoubleDQN_online_20220821105049/model_87000.pt\n",
      "2022-08-21 10:57.00 [info     ] DoubleDQN_online_20220821105049: epoch=87 step=87000 epoch=87 metrics={'time_inference': 0.0005621752738952637, 'time_environment_step': 0.0006063220500946045, 'time_sample_batch': 0.00010485363006591797, 'time_algorithm_update': 0.002974071741104126, 'loss': 0.0384116853424348, 'time_step': 0.004303073406219483, 'rollout_return': 17.166806330535717} step=87000\n",
      "2022-08-21 10:57.04 [info     ] Model parameters are saved to d3rlpy_logs/DoubleDQN_online_20220821105049/model_88000.pt\n",
      "2022-08-21 10:57.04 [info     ] DoubleDQN_online_20220821105049: epoch=88 step=88000 epoch=88 metrics={'time_inference': 0.0005605039596557617, 'time_environment_step': 0.0006029925346374512, 'time_sample_batch': 0.00010479569435119629, 'time_algorithm_update': 0.002969841718673706, 'loss': 0.043075556275900456, 'time_step': 0.0042929954528808595, 'rollout_return': 27.702072227344615} step=88000\n",
      "2022-08-21 10:57.09 [info     ] Model parameters are saved to d3rlpy_logs/DoubleDQN_online_20220821105049/model_89000.pt\n",
      "2022-08-21 10:57.09 [info     ] DoubleDQN_online_20220821105049: epoch=89 step=89000 epoch=89 metrics={'time_inference': 0.0005605330467224121, 'time_environment_step': 0.0006052601337432861, 'time_sample_batch': 0.00010476851463317871, 'time_algorithm_update': 0.0029518194198608397, 'loss': 0.046154277286026626, 'time_step': 0.004277218580245972, 'rollout_return': 16.640717902007356} step=89000\n",
      "2022-08-21 10:57.13 [info     ] Model parameters are saved to d3rlpy_logs/DoubleDQN_online_20220821105049/model_90000.pt\n",
      "2022-08-21 10:57.13 [info     ] DoubleDQN_online_20220821105049: epoch=90 step=90000 epoch=90 metrics={'time_inference': 0.0005580525398254394, 'time_environment_step': 0.000602327823638916, 'time_sample_batch': 0.00010436677932739257, 'time_algorithm_update': 0.0029589476585388185, 'loss': 0.049660305882804096, 'time_step': 0.004278234720230103, 'rollout_return': 19.337012035481166} step=90000\n",
      "2022-08-21 10:57.17 [info     ] Model parameters are saved to d3rlpy_logs/DoubleDQN_online_20220821105049/model_91000.pt\n",
      "2022-08-21 10:57.17 [info     ] DoubleDQN_online_20220821105049: epoch=91 step=91000 epoch=91 metrics={'time_inference': 0.0005631704330444336, 'time_environment_step': 0.0006061110496520996, 'time_sample_batch': 0.00010524916648864746, 'time_algorithm_update': 0.002978601932525635, 'loss': 0.047012692254502324, 'time_step': 0.004308892965316773, 'rollout_return': 15.306009135684386} step=91000\n",
      "2022-08-21 10:57.22 [info     ] Model parameters are saved to d3rlpy_logs/DoubleDQN_online_20220821105049/model_92000.pt\n",
      "2022-08-21 10:57.22 [info     ] DoubleDQN_online_20220821105049: epoch=92 step=92000 epoch=92 metrics={'time_inference': 0.0005597641468048095, 'time_environment_step': 0.000602872371673584, 'time_sample_batch': 0.00010409736633300781, 'time_algorithm_update': 0.0029555559158325195, 'loss': 0.05228869713516906, 'time_step': 0.004276934862136841, 'rollout_return': 6.196625611414977} step=92000\n",
      "2022-08-21 10:57.26 [info     ] Model parameters are saved to d3rlpy_logs/DoubleDQN_online_20220821105049/model_93000.pt\n",
      "2022-08-21 10:57.26 [info     ] DoubleDQN_online_20220821105049: epoch=93 step=93000 epoch=93 metrics={'time_inference': 0.0005600023269653321, 'time_environment_step': 0.0006048896312713623, 'time_sample_batch': 0.00010489869117736816, 'time_algorithm_update': 0.0029724695682525636, 'loss': 0.04647522983327508, 'time_step': 0.004297370672225952, 'rollout_return': 18.153999508889683} step=93000\n",
      "2022-08-21 10:57.30 [info     ] Model parameters are saved to d3rlpy_logs/DoubleDQN_online_20220821105049/model_94000.pt\n",
      "2022-08-21 10:57.30 [info     ] DoubleDQN_online_20220821105049: epoch=94 step=94000 epoch=94 metrics={'time_inference': 0.0005593955516815186, 'time_environment_step': 0.000602769136428833, 'time_sample_batch': 0.00010459089279174804, 'time_algorithm_update': 0.0029380476474761964, 'loss': 0.04967827135091647, 'time_step': 0.004259969711303711, 'rollout_return': 10.011631792687695} step=94000\n",
      "2022-08-21 10:57.35 [info     ] Model parameters are saved to d3rlpy_logs/DoubleDQN_online_20220821105049/model_95000.pt\n",
      "2022-08-21 10:57.35 [info     ] DoubleDQN_online_20220821105049: epoch=95 step=95000 epoch=95 metrics={'time_inference': 0.0005600545406341553, 'time_environment_step': 0.0006039018630981445, 'time_sample_batch': 0.00010548996925354004, 'time_algorithm_update': 0.0029535558223724367, 'loss': 0.04715846452116966, 'time_step': 0.004277895450592041, 'rollout_return': 15.51885002188889} step=95000\n"
     ]
    },
    {
     "name": "stdout",
     "output_type": "stream",
     "text": [
      "2022-08-21 10:57.39 [info     ] Model parameters are saved to d3rlpy_logs/DoubleDQN_online_20220821105049/model_96000.pt\n",
      "2022-08-21 10:57.39 [info     ] DoubleDQN_online_20220821105049: epoch=96 step=96000 epoch=96 metrics={'time_inference': 0.0005596742630004883, 'time_environment_step': 0.0006037428379058838, 'time_sample_batch': 0.00010488486289978027, 'time_algorithm_update': 0.0029621007442474363, 'loss': 0.04846719340514392, 'time_step': 0.004285364627838135, 'rollout_return': 17.361455139929603} step=96000\n",
      "2022-08-21 10:57.43 [info     ] Model parameters are saved to d3rlpy_logs/DoubleDQN_online_20220821105049/model_97000.pt\n",
      "2022-08-21 10:57.43 [info     ] DoubleDQN_online_20220821105049: epoch=97 step=97000 epoch=97 metrics={'time_inference': 0.0005624465942382813, 'time_environment_step': 0.000605431318283081, 'time_sample_batch': 0.00010502958297729492, 'time_algorithm_update': 0.002973371744155884, 'loss': 0.046504643791355195, 'time_step': 0.004300935506820679, 'rollout_return': 28.617120921524474} step=97000\n",
      "2022-08-21 10:57.47 [info     ] Model parameters are saved to d3rlpy_logs/DoubleDQN_online_20220821105049/model_98000.pt\n",
      "2022-08-21 10:57.47 [info     ] DoubleDQN_online_20220821105049: epoch=98 step=98000 epoch=98 metrics={'time_inference': 0.0005565474033355713, 'time_environment_step': 0.0006000268459320069, 'time_sample_batch': 0.00010420608520507813, 'time_algorithm_update': 0.002924593448638916, 'loss': 0.05612879111105576, 'time_step': 0.004239763975143433, 'rollout_return': 18.40966615238576} step=98000\n",
      "2022-08-21 10:57.52 [info     ] Model parameters are saved to d3rlpy_logs/DoubleDQN_online_20220821105049/model_99000.pt\n",
      "2022-08-21 10:57.52 [info     ] DoubleDQN_online_20220821105049: epoch=99 step=99000 epoch=99 metrics={'time_inference': 0.0005562524795532227, 'time_environment_step': 0.0005984585285186768, 'time_sample_batch': 0.00010410499572753907, 'time_algorithm_update': 0.002941577672958374, 'loss': 0.0502624670942314, 'time_step': 0.004255429744720459, 'rollout_return': 14.423593461387403} step=99000\n",
      "2022-08-21 10:57.56 [info     ] Model parameters are saved to d3rlpy_logs/DoubleDQN_online_20220821105049/model_100000.pt\n",
      "2022-08-21 10:57.56 [info     ] DoubleDQN_online_20220821105049: epoch=100 step=100000 epoch=100 metrics={'time_inference': 0.0005556020736694336, 'time_environment_step': 0.0005971109867095948, 'time_sample_batch': 0.00010406184196472168, 'time_algorithm_update': 0.002953784942626953, 'loss': 0.05104465146688744, 'time_step': 0.004264905452728272, 'rollout_return': 16.277209350536577} step=100000\n"
     ]
    }
   ],
   "source": [
    "agent_preferences.fit_online(\n",
    "    env_predictor,\n",
    "    buffer,\n",
    "    explorer,\n",
    "    n_steps=100000,\n",
    "    eval_env=None,\n",
    "    n_steps_per_epoch=1000,\n",
    "    update_start_step=1000,\n",
    "    show_progress=False\n",
    ")"
   ]
  },
  {
   "cell_type": "code",
   "execution_count": 28,
   "metadata": {},
   "outputs": [
    {
     "name": "stdout",
     "output_type": "stream",
     "text": [
      "713.99 212\n"
     ]
    }
   ],
   "source": [
    "agent_preferences.load_model(\"d3rlpy_logs/DoubleDQN_online_20220821105049/model_63000.pt\")\n",
    "eval_with_env(env_analytical_, agent_preferences)"
   ]
  },
  {
   "cell_type": "code",
   "execution_count": 21,
   "metadata": {
    "scrolled": true
   },
   "outputs": [
    {
     "name": "stdout",
     "output_type": "stream",
     "text": [
      "total 40\n",
      "-rw-rw-r-- 1 gianluca99galletti gianluca99galletti  2158 Aug 21 10:57 DDQN-episode-0.meta.json\n",
      "-rw-rw-r-- 1 gianluca99galletti gianluca99galletti 14154 Aug 21 10:57 DDQN-episode-0.mp4\n",
      "-rw-rw-r-- 1 gianluca99galletti gianluca99galletti  2164 Aug 21 10:45 DDQN-episode-67.meta.json\n",
      "-rw-rw-r-- 1 gianluca99galletti gianluca99galletti 14653 Aug 21 10:45 DDQN-episode-67.mp4\n"
     ]
    },
    {
     "data": {
      "text/plain": [
       "0"
      ]
     },
     "execution_count": 21,
     "metadata": {},
     "output_type": "execute_result"
    }
   ],
   "source": [
    "os.system(\"ls -l videos\")"
   ]
  },
  {
   "cell_type": "code",
   "execution_count": 22,
   "metadata": {},
   "outputs": [
    {
     "data": {
      "text/html": [
       "<video controls  >\n",
       " <source src=\"data:video/mp4;base64,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\" type=\"video/mp4\">\n",
       " Your browser does not support the video tag.\n",
       " </video>"
      ],
      "text/plain": [
       "<IPython.core.display.Video object>"
      ]
     },
     "execution_count": 22,
     "metadata": {},
     "output_type": "execute_result"
    }
   ],
   "source": [
    "Video(\"videos/DDQN-episode-0.mp4\", embed=True)"
   ]
  },
  {
   "cell_type": "markdown",
   "metadata": {},
   "source": [
    "### Handcrafted reward"
   ]
  },
  {
   "cell_type": "code",
   "execution_count": 23,
   "metadata": {},
   "outputs": [],
   "source": [
    "buffer = d3rlpy.online.buffers.ReplayBuffer(maxlen=20000, env=env_analytical)\n",
    "explorer = d3rlpy.online.explorers.ConstantEpsilonGreedy(0.3)\n",
    "agent_analytical = d3rlpy.algos.DoubleDQN(\n",
    "    learning_rate=2e-4,\n",
    "    target_update_interval=1000,\n",
    "    use_gpu=True,\n",
    ")\n",
    "agent_analytical.build_with_env(env_analytical)"
   ]
  },
  {
   "cell_type": "code",
   "execution_count": 24,
   "metadata": {
    "scrolled": true
   },
   "outputs": [
    {
     "name": "stdout",
     "output_type": "stream",
     "text": [
      "2022-08-21 10:57.56 [info     ] Directory is created at d3rlpy_logs/DoubleDQN_online_20220821105756\n",
      "2022-08-21 10:57.56 [warning  ] Skip building models since they're already built.\n",
      "2022-08-21 10:57.56 [info     ] Parameters are saved to d3rlpy_logs/DoubleDQN_online_20220821105756/params.json params={'action_scaler': None, 'batch_size': 32, 'encoder_factory': {'type': 'default', 'params': {'activation': 'relu', 'use_batch_norm': False, 'dropout_rate': None}}, 'gamma': 0.99, 'generated_maxlen': 100000, 'learning_rate': 0.0002, 'n_critics': 1, 'n_frames': 1, 'n_steps': 1, 'optim_factory': {'optim_cls': 'Adam', 'betas': (0.9, 0.999), 'eps': 1e-08, 'weight_decay': 0, 'amsgrad': False}, 'q_func_factory': {'type': 'mean', 'params': {'share_encoder': False}}, 'real_ratio': 1.0, 'reward_scaler': None, 'scaler': None, 'target_update_interval': 1000, 'use_gpu': 0, 'algorithm': 'DoubleDQN', 'observation_shape': (4,), 'action_size': 2}\n",
      "2022-08-21 10:57.57 [info     ] Model parameters are saved to d3rlpy_logs/DoubleDQN_online_20220821105756/model_1000.pt\n",
      "2022-08-21 10:57.57 [info     ] DoubleDQN_online_20220821105756: epoch=1 step=1000 epoch=1 metrics={'time_inference': 0.0006079275608062744, 'time_environment_step': 3.4872293472290036e-05, 'time_step': 0.0006693398952484131, 'rollout_return': 119.56550785232653} step=1000\n",
      "2022-08-21 10:58.01 [info     ] Model parameters are saved to d3rlpy_logs/DoubleDQN_online_20220821105756/model_2000.pt\n",
      "2022-08-21 10:58.01 [info     ] DoubleDQN_online_20220821105756: epoch=2 step=2000 epoch=2 metrics={'time_inference': 0.0005566203594207764, 'time_environment_step': 3.648662567138672e-05, 'time_sample_batch': 8.054804801940918e-05, 'time_algorithm_update': 0.0029244678020477295, 'loss': 0.08560187250515446, 'time_step': 0.003643895626068115, 'rollout_return': 294.8156170456005} step=2000\n",
      "2022-08-21 10:58.05 [info     ] Model parameters are saved to d3rlpy_logs/DoubleDQN_online_20220821105756/model_3000.pt\n",
      "2022-08-21 10:58.05 [info     ] DoubleDQN_online_20220821105756: epoch=3 step=3000 epoch=3 metrics={'time_inference': 0.0005605173110961914, 'time_environment_step': 3.704166412353516e-05, 'time_sample_batch': 8.266496658325195e-05, 'time_algorithm_update': 0.0029627859592437746, 'loss': 0.1540092143760994, 'time_step': 0.003689512252807617, 'rollout_return': 303.1206969919469} step=3000\n",
      "2022-08-21 10:58.08 [info     ] Model parameters are saved to d3rlpy_logs/DoubleDQN_online_20220821105756/model_4000.pt\n",
      "2022-08-21 10:58.08 [info     ] DoubleDQN_online_20220821105756: epoch=4 step=4000 epoch=4 metrics={'time_inference': 0.0005619542598724365, 'time_environment_step': 3.683018684387207e-05, 'time_sample_batch': 8.363604545593262e-05, 'time_algorithm_update': 0.0029731087684631346, 'loss': 0.2769378912653774, 'time_step': 0.0037019414901733397, 'rollout_return': 291.5484851084103} step=4000\n",
      "2022-08-21 10:58.12 [info     ] Model parameters are saved to d3rlpy_logs/DoubleDQN_online_20220821105756/model_5000.pt\n",
      "2022-08-21 10:58.12 [info     ] DoubleDQN_online_20220821105756: epoch=5 step=5000 epoch=5 metrics={'time_inference': 0.0005562598705291748, 'time_environment_step': 3.6766529083251955e-05, 'time_sample_batch': 8.405518531799316e-05, 'time_algorithm_update': 0.002953341484069824, 'loss': 0.4272218107432127, 'time_step': 0.0036766579151153566, 'rollout_return': 274.4454589658023} step=5000\n",
      "2022-08-21 10:58.16 [info     ] Model parameters are saved to d3rlpy_logs/DoubleDQN_online_20220821105756/model_6000.pt\n",
      "2022-08-21 10:58.16 [info     ] DoubleDQN_online_20220821105756: epoch=6 step=6000 epoch=6 metrics={'time_inference': 0.0005573599338531494, 'time_environment_step': 3.682875633239746e-05, 'time_sample_batch': 8.443069458007812e-05, 'time_algorithm_update': 0.0029191057682037354, 'loss': 0.6158114879876375, 'time_step': 0.00364404821395874, 'rollout_return': 305.0907258717343} step=6000\n",
      "2022-08-21 10:58.19 [info     ] Model parameters are saved to d3rlpy_logs/DoubleDQN_online_20220821105756/model_7000.pt\n",
      "2022-08-21 10:58.19 [info     ] DoubleDQN_online_20220821105756: epoch=7 step=7000 epoch=7 metrics={'time_inference': 0.0005610668659210205, 'time_environment_step': 3.701543807983398e-05, 'time_sample_batch': 8.483028411865234e-05, 'time_algorithm_update': 0.002891282796859741, 'loss': 0.7387693846970796, 'time_step': 0.003620540618896484, 'rollout_return': 326.8510863611937} step=7000\n",
      "2022-08-21 10:58.23 [info     ] Model parameters are saved to d3rlpy_logs/DoubleDQN_online_20220821105756/model_8000.pt\n",
      "2022-08-21 10:58.23 [info     ] DoubleDQN_online_20220821105756: epoch=8 step=8000 epoch=8 metrics={'time_inference': 0.0005579171180725098, 'time_environment_step': 3.6869287490844724e-05, 'time_sample_batch': 8.506464958190917e-05, 'time_algorithm_update': 0.0029441444873809816, 'loss': 0.9183596746623516, 'time_step': 0.003670311689376831, 'rollout_return': 304.9881937831321} step=8000\n",
      "2022-08-21 10:58.27 [info     ] Model parameters are saved to d3rlpy_logs/DoubleDQN_online_20220821105756/model_9000.pt\n",
      "2022-08-21 10:58.27 [info     ] DoubleDQN_online_20220821105756: epoch=9 step=9000 epoch=9 metrics={'time_inference': 0.00055849289894104, 'time_environment_step': 3.692436218261719e-05, 'time_sample_batch': 8.55083465576172e-05, 'time_algorithm_update': 0.0029471964836120606, 'loss': 1.0753194821625949, 'time_step': 0.0036743619441986083, 'rollout_return': 326.15636810256893} step=9000\n",
      "2022-08-21 10:58.30 [info     ] Model parameters are saved to d3rlpy_logs/DoubleDQN_online_20220821105756/model_10000.pt\n",
      "2022-08-21 10:58.30 [info     ] DoubleDQN_online_20220821105756: epoch=10 step=10000 epoch=10 metrics={'time_inference': 0.0005566573143005371, 'time_environment_step': 3.691363334655762e-05, 'time_sample_batch': 8.516240119934082e-05, 'time_algorithm_update': 0.002935684680938721, 'loss': 1.2870543943047523, 'time_step': 0.003660630464553833, 'rollout_return': 347.55801021052844} step=10000\n",
      "2022-08-21 10:58.34 [info     ] Model parameters are saved to d3rlpy_logs/DoubleDQN_online_20220821105756/model_11000.pt\n",
      "2022-08-21 10:58.34 [info     ] DoubleDQN_online_20220821105756: epoch=11 step=11000 epoch=11 metrics={'time_inference': 0.0005566813945770264, 'time_environment_step': 3.705286979675293e-05, 'time_sample_batch': 8.566951751708985e-05, 'time_algorithm_update': 0.0029409101009368896, 'loss': 1.4013079379498958, 'time_step': 0.0036663286685943604, 'rollout_return': 363.69939720671897} step=11000\n",
      "2022-08-21 10:58.38 [info     ] Model parameters are saved to d3rlpy_logs/DoubleDQN_online_20220821105756/model_12000.pt\n",
      "2022-08-21 10:58.38 [info     ] DoubleDQN_online_20220821105756: epoch=12 step=12000 epoch=12 metrics={'time_inference': 0.0005604619979858399, 'time_environment_step': 3.716039657592773e-05, 'time_sample_batch': 8.594536781311035e-05, 'time_algorithm_update': 0.0029374194145202637, 'loss': 1.5296294188797475, 'time_step': 0.003667313575744629, 'rollout_return': 344.889052092107} step=12000\n",
      "2022-08-21 10:58.41 [info     ] Model parameters are saved to d3rlpy_logs/DoubleDQN_online_20220821105756/model_13000.pt\n",
      "2022-08-21 10:58.41 [info     ] DoubleDQN_online_20220821105756: epoch=13 step=13000 epoch=13 metrics={'time_inference': 0.0005534512996673584, 'time_environment_step': 3.679633140563965e-05, 'time_sample_batch': 8.529758453369141e-05, 'time_algorithm_update': 0.0029388680458068846, 'loss': 1.7309363138377667, 'time_step': 0.0036604082584381103, 'rollout_return': 383.4028717155383} step=13000\n",
      "2022-08-21 10:58.45 [info     ] Model parameters are saved to d3rlpy_logs/DoubleDQN_online_20220821105756/model_14000.pt\n",
      "2022-08-21 10:58.45 [info     ] DoubleDQN_online_20220821105756: epoch=14 step=14000 epoch=14 metrics={'time_inference': 0.0005551629066467285, 'time_environment_step': 3.676581382751465e-05, 'rollout_return': 345.89498237887966, 'time_sample_batch': 8.479714393615723e-05, 'time_algorithm_update': 0.0029215116500854493, 'loss': 1.8278471187949181, 'time_step': 0.003644195795059204} step=14000\n",
      "2022-08-21 10:58.49 [info     ] Model parameters are saved to d3rlpy_logs/DoubleDQN_online_20220821105756/model_15000.pt\n",
      "2022-08-21 10:58.49 [info     ] DoubleDQN_online_20220821105756: epoch=15 step=15000 epoch=15 metrics={'time_inference': 0.0005577657222747802, 'time_environment_step': 3.675341606140137e-05, 'time_sample_batch': 8.536076545715332e-05, 'time_algorithm_update': 0.0029280710220336913, 'loss': 2.0143990273624657, 'time_step': 0.0036537675857543947, 'rollout_return': 346.85298969499655} step=15000\n"
     ]
    },
    {
     "name": "stdout",
     "output_type": "stream",
     "text": [
      "2022-08-21 10:58.52 [info     ] Model parameters are saved to d3rlpy_logs/DoubleDQN_online_20220821105756/model_16000.pt\n",
      "2022-08-21 10:58.52 [info     ] DoubleDQN_online_20220821105756: epoch=16 step=16000 epoch=16 metrics={'time_inference': 0.0005641376972198486, 'time_environment_step': 3.7349462509155274e-05, 'time_sample_batch': 8.645987510681153e-05, 'time_algorithm_update': 0.0029731197357177734, 'loss': 2.090922241896391, 'time_step': 0.003707923412322998, 'rollout_return': 319.04194307733394} step=16000\n",
      "2022-08-21 10:58.56 [info     ] Model parameters are saved to d3rlpy_logs/DoubleDQN_online_20220821105756/model_17000.pt\n",
      "2022-08-21 10:58.56 [info     ] DoubleDQN_online_20220821105756: epoch=17 step=17000 epoch=17 metrics={'time_inference': 0.0005614445209503174, 'time_environment_step': 3.707098960876465e-05, 'time_sample_batch': 8.677411079406738e-05, 'time_algorithm_update': 0.0029900155067443847, 'loss': 2.1412644590735437, 'time_step': 0.003721771240234375, 'rollout_return': 367.7145433565097} step=17000\n",
      "2022-08-21 10:59.00 [info     ] Model parameters are saved to d3rlpy_logs/DoubleDQN_online_20220821105756/model_18000.pt\n",
      "2022-08-21 10:59.00 [info     ] DoubleDQN_online_20220821105756: epoch=18 step=18000 epoch=18 metrics={'time_inference': 0.0005646328926086426, 'time_environment_step': 3.732752799987793e-05, 'time_sample_batch': 8.645129203796387e-05, 'time_algorithm_update': 0.003004817247390747, 'loss': 2.394159259170294, 'time_step': 0.0037401957511901856, 'rollout_return': 327.2672891270399} step=18000\n",
      "2022-08-21 10:59.04 [info     ] Model parameters are saved to d3rlpy_logs/DoubleDQN_online_20220821105756/model_19000.pt\n",
      "2022-08-21 10:59.04 [info     ] DoubleDQN_online_20220821105756: epoch=19 step=19000 epoch=19 metrics={'time_inference': 0.0005711231231689453, 'time_environment_step': 3.798890113830566e-05, 'time_sample_batch': 8.827114105224609e-05, 'time_algorithm_update': 0.0030078423023223878, 'loss': 2.499756822139025, 'time_step': 0.003752501964569092, 'rollout_return': 374.9774181269498} step=19000\n",
      "2022-08-21 10:59.07 [info     ] Model parameters are saved to d3rlpy_logs/DoubleDQN_online_20220821105756/model_20000.pt\n",
      "2022-08-21 10:59.07 [info     ] DoubleDQN_online_20220821105756: epoch=20 step=20000 epoch=20 metrics={'time_inference': 0.0005636851787567138, 'time_environment_step': 3.74000072479248e-05, 'time_sample_batch': 8.7310791015625e-05, 'time_algorithm_update': 0.0029800922870635987, 'loss': 2.574180695950985, 'time_step': 0.0037151806354522704, 'rollout_return': 326.8435041513855} step=20000\n",
      "2022-08-21 10:59.11 [info     ] Model parameters are saved to d3rlpy_logs/DoubleDQN_online_20220821105756/model_21000.pt\n",
      "2022-08-21 10:59.11 [info     ] DoubleDQN_online_20220821105756: epoch=21 step=21000 epoch=21 metrics={'time_inference': 0.000555600643157959, 'time_environment_step': 3.6730527877807617e-05, 'time_sample_batch': 8.603858947753907e-05, 'time_algorithm_update': 0.0029523375034332276, 'loss': 2.629011986464262, 'time_step': 0.003677795648574829, 'rollout_return': 351.89504443315747} step=21000\n",
      "2022-08-21 10:59.15 [info     ] Model parameters are saved to d3rlpy_logs/DoubleDQN_online_20220821105756/model_22000.pt\n",
      "2022-08-21 10:59.15 [info     ] DoubleDQN_online_20220821105756: epoch=22 step=22000 epoch=22 metrics={'time_inference': 0.0005582876205444336, 'time_environment_step': 3.695297241210937e-05, 'time_sample_batch': 8.6273193359375e-05, 'time_algorithm_update': 0.0029578495025634768, 'loss': 2.6836188714802267, 'time_step': 0.0036867897510528564, 'rollout_return': 347.028157646292} step=22000\n",
      "2022-08-21 10:59.18 [info     ] Model parameters are saved to d3rlpy_logs/DoubleDQN_online_20220821105756/model_23000.pt\n",
      "2022-08-21 10:59.18 [info     ] DoubleDQN_online_20220821105756: epoch=23 step=23000 epoch=23 metrics={'time_inference': 0.000559861421585083, 'time_environment_step': 3.692364692687988e-05, 'time_sample_batch': 8.706116676330566e-05, 'time_algorithm_update': 0.002952954053878784, 'loss': 2.853473755121231, 'time_step': 0.0036842541694641112, 'rollout_return': 412.9274843595558} step=23000\n",
      "2022-08-21 10:59.22 [info     ] Model parameters are saved to d3rlpy_logs/DoubleDQN_online_20220821105756/model_24000.pt\n",
      "2022-08-21 10:59.22 [info     ] DoubleDQN_online_20220821105756: epoch=24 step=24000 epoch=24 metrics={'time_inference': 0.0005582735538482666, 'time_environment_step': 3.696632385253906e-05, 'time_sample_batch': 8.661580085754395e-05, 'time_algorithm_update': 0.002964783430099487, 'loss': 2.8717200787067414, 'time_step': 0.0036943948268890383, 'rollout_return': 445.91898271002424} step=24000\n",
      "2022-08-21 10:59.26 [info     ] Model parameters are saved to d3rlpy_logs/DoubleDQN_online_20220821105756/model_25000.pt\n",
      "2022-08-21 10:59.26 [info     ] DoubleDQN_online_20220821105756: epoch=25 step=25000 epoch=25 metrics={'time_inference': 0.0005569853782653809, 'time_environment_step': 3.690290451049805e-05, 'time_sample_batch': 8.655452728271484e-05, 'time_algorithm_update': 0.002965830326080322, 'loss': 2.952287905216217, 'time_step': 0.0036934494972229006, 'rollout_return': 419.6517121975919} step=25000\n",
      "2022-08-21 10:59.30 [info     ] Model parameters are saved to d3rlpy_logs/DoubleDQN_online_20220821105756/model_26000.pt\n",
      "2022-08-21 10:59.30 [info     ] DoubleDQN_online_20220821105756: epoch=26 step=26000 epoch=26 metrics={'time_inference': 0.0005617408752441406, 'time_environment_step': 3.696441650390625e-05, 'time_sample_batch': 8.67919921875e-05, 'time_algorithm_update': 0.002960928440093994, 'loss': 3.0842087404727936, 'time_step': 0.003694211959838867, 'rollout_return': 430.8865675834196} step=26000\n",
      "2022-08-21 10:59.33 [info     ] Model parameters are saved to d3rlpy_logs/DoubleDQN_online_20220821105756/model_27000.pt\n",
      "2022-08-21 10:59.33 [info     ] DoubleDQN_online_20220821105756: epoch=27 step=27000 epoch=27 metrics={'time_inference': 0.0005643959045410156, 'time_environment_step': 3.724527359008789e-05, 'time_sample_batch': 8.72948169708252e-05, 'time_algorithm_update': 0.0029617793560028074, 'loss': 3.1333871841430665, 'time_step': 0.0036982789039611817, 'rollout_return': 453.9214893632008} step=27000\n",
      "2022-08-21 10:59.37 [info     ] Model parameters are saved to d3rlpy_logs/DoubleDQN_online_20220821105756/model_28000.pt\n",
      "2022-08-21 10:59.37 [info     ] DoubleDQN_online_20220821105756: epoch=28 step=28000 epoch=28 metrics={'time_inference': 0.0005629634857177734, 'time_environment_step': 3.733968734741211e-05, 'time_sample_batch': 8.690381050109863e-05, 'time_algorithm_update': 0.0029478724002838133, 'loss': 3.1841578895151614, 'time_step': 0.003682635307312012, 'rollout_return': 538.0021242266413} step=28000\n",
      "2022-08-21 10:59.41 [info     ] Model parameters are saved to d3rlpy_logs/DoubleDQN_online_20220821105756/model_29000.pt\n",
      "2022-08-21 10:59.41 [info     ] DoubleDQN_online_20220821105756: epoch=29 step=29000 epoch=29 metrics={'time_inference': 0.0005611636638641357, 'time_environment_step': 3.718423843383789e-05, 'time_sample_batch': 8.690428733825683e-05, 'time_algorithm_update': 0.0029181613922119143, 'loss': 3.2994309438467027, 'time_step': 0.0036508889198303223, 'rollout_return': 322.7137635721301} step=29000\n",
      "2022-08-21 10:59.44 [info     ] Model parameters are saved to d3rlpy_logs/DoubleDQN_online_20220821105756/model_30000.pt\n",
      "2022-08-21 10:59.44 [info     ] DoubleDQN_online_20220821105756: epoch=30 step=30000 epoch=30 metrics={'time_inference': 0.0005592937469482422, 'time_environment_step': 3.6737680435180664e-05, 'time_sample_batch': 8.692646026611328e-05, 'time_algorithm_update': 0.0029368088245391847, 'loss': 3.3475395048856735, 'time_step': 0.0036670305728912353, 'rollout_return': 522.1527320809429} step=30000\n",
      "2022-08-21 10:59.48 [info     ] Model parameters are saved to d3rlpy_logs/DoubleDQN_online_20220821105756/model_31000.pt\n",
      "2022-08-21 10:59.48 [info     ] DoubleDQN_online_20220821105756: epoch=31 step=31000 epoch=31 metrics={'time_inference': 0.0005595533847808838, 'time_environment_step': 3.71248722076416e-05, 'time_sample_batch': 8.670473098754883e-05, 'time_algorithm_update': 0.0029509894847869872, 'loss': 3.476781279504299, 'time_step': 0.0036820812225341797, 'rollout_return': 480.5086458553153} step=31000\n"
     ]
    },
    {
     "name": "stdout",
     "output_type": "stream",
     "text": [
      "2022-08-21 10:59.52 [info     ] Model parameters are saved to d3rlpy_logs/DoubleDQN_online_20220821105756/model_32000.pt\n",
      "2022-08-21 10:59.52 [info     ] DoubleDQN_online_20220821105756: epoch=32 step=32000 epoch=32 metrics={'time_inference': 0.0005616354942321778, 'time_environment_step': 3.7314891815185545e-05, 'time_sample_batch': 8.638858795166015e-05, 'time_algorithm_update': 0.0029529454708099364, 'loss': 3.517882876634598, 'time_step': 0.0036857998371124267, 'rollout_return': 516.0958866566303} step=32000\n",
      "2022-08-21 10:59.55 [info     ] Model parameters are saved to d3rlpy_logs/DoubleDQN_online_20220821105756/model_33000.pt\n",
      "2022-08-21 10:59.55 [info     ] DoubleDQN_online_20220821105756: epoch=33 step=33000 epoch=33 metrics={'time_inference': 0.0005551528930664063, 'time_environment_step': 3.698253631591797e-05, 'time_sample_batch': 8.681917190551758e-05, 'time_algorithm_update': 0.0029383742809295653, 'loss': 3.5735247147083284, 'time_step': 0.003664762020111084, 'rollout_return': 625.660916766114} step=33000\n",
      "2022-08-21 10:59.59 [info     ] Model parameters are saved to d3rlpy_logs/DoubleDQN_online_20220821105756/model_34000.pt\n",
      "2022-08-21 10:59.59 [info     ] DoubleDQN_online_20220821105756: epoch=34 step=34000 epoch=34 metrics={'time_inference': 0.0005607602596282958, 'time_environment_step': 3.730368614196777e-05, 'time_sample_batch': 8.698749542236328e-05, 'time_algorithm_update': 0.002940847158432007, 'loss': 3.7211176978349685, 'time_step': 0.00367374849319458, 'rollout_return': 403.56218133449664} step=34000\n",
      "2022-08-21 11:00.03 [info     ] Model parameters are saved to d3rlpy_logs/DoubleDQN_online_20220821105756/model_35000.pt\n",
      "2022-08-21 11:00.03 [info     ] DoubleDQN_online_20220821105756: epoch=35 step=35000 epoch=35 metrics={'time_inference': 0.000558582067489624, 'time_environment_step': 3.694319725036621e-05, 'time_sample_batch': 8.70060920715332e-05, 'time_algorithm_update': 0.0029335775375366213, 'loss': 3.946913766026497, 'time_step': 0.003663930892944336, 'rollout_return': 385.307280838581} step=35000\n",
      "2022-08-21 11:00.06 [info     ] Model parameters are saved to d3rlpy_logs/DoubleDQN_online_20220821105756/model_36000.pt\n",
      "2022-08-21 11:00.06 [info     ] DoubleDQN_online_20220821105756: epoch=36 step=36000 epoch=36 metrics={'time_inference': 0.0005591635704040528, 'time_environment_step': 3.690791130065918e-05, 'time_sample_batch': 8.730888366699218e-05, 'time_algorithm_update': 0.00293640398979187, 'loss': 4.038054904460907, 'time_step': 0.003667309284210205, 'rollout_return': 548.6680359599038} step=36000\n",
      "2022-08-21 11:00.10 [info     ] Model parameters are saved to d3rlpy_logs/DoubleDQN_online_20220821105756/model_37000.pt\n",
      "2022-08-21 11:00.10 [info     ] DoubleDQN_online_20220821105756: epoch=37 step=37000 epoch=37 metrics={'time_inference': 0.0005577447414398194, 'time_environment_step': 3.681039810180664e-05, 'time_sample_batch': 8.733940124511718e-05, 'time_algorithm_update': 0.0029321439266204834, 'loss': 4.054066554903984, 'time_step': 0.0036612861156463624, 'rollout_return': 847.2580005317591} step=37000\n",
      "2022-08-21 11:00.14 [info     ] Model parameters are saved to d3rlpy_logs/DoubleDQN_online_20220821105756/model_38000.pt\n",
      "2022-08-21 11:00.14 [info     ] DoubleDQN_online_20220821105756: epoch=38 step=38000 epoch=38 metrics={'time_inference': 0.0005583012104034424, 'time_environment_step': 3.662991523742676e-05, 'time_sample_batch': 8.669924736022949e-05, 'time_algorithm_update': 0.0029430720806121824, 'loss': 4.117845396518708, 'time_step': 0.003671900033950806, 'rollout_return': 466.54207900873763} step=38000\n",
      "2022-08-21 11:00.18 [info     ] Model parameters are saved to d3rlpy_logs/DoubleDQN_online_20220821105756/model_39000.pt\n",
      "2022-08-21 11:00.18 [info     ] DoubleDQN_online_20220821105756: epoch=39 step=39000 epoch=39 metrics={'time_inference': 0.0005650875568389892, 'time_environment_step': 3.7353277206420897e-05, 'time_sample_batch': 8.776283264160156e-05, 'time_algorithm_update': 0.0029634017944335936, 'loss': 4.204818791866303, 'time_step': 0.003701819181442261, 'rollout_return': 387.59372372079883} step=39000\n",
      "2022-08-21 11:00.21 [info     ] Model parameters are saved to d3rlpy_logs/DoubleDQN_online_20220821105756/model_40000.pt\n",
      "2022-08-21 11:00.21 [info     ] DoubleDQN_online_20220821105756: epoch=40 step=40000 epoch=40 metrics={'time_inference': 0.0005595903396606446, 'time_environment_step': 3.712153434753418e-05, 'time_sample_batch': 8.724713325500488e-05, 'time_algorithm_update': 0.0029513213634490966, 'loss': 4.280995881557464, 'time_step': 0.003682779550552368, 'rollout_return': 465.465877067607} step=40000\n",
      "2022-08-21 11:00.25 [info     ] Model parameters are saved to d3rlpy_logs/DoubleDQN_online_20220821105756/model_41000.pt\n",
      "2022-08-21 11:00.25 [info     ] DoubleDQN_online_20220821105756: epoch=41 step=41000 epoch=41 metrics={'time_inference': 0.0005610489845275879, 'time_environment_step': 3.731822967529297e-05, 'time_sample_batch': 8.76016616821289e-05, 'time_algorithm_update': 0.002954465389251709, 'loss': 4.3721183006763455, 'time_step': 0.0036881520748138427, 'rollout_return': 837.0185084230384} step=41000\n",
      "2022-08-21 11:00.29 [info     ] Model parameters are saved to d3rlpy_logs/DoubleDQN_online_20220821105756/model_42000.pt\n",
      "2022-08-21 11:00.29 [info     ] DoubleDQN_online_20220821105756: epoch=42 step=42000 epoch=42 metrics={'time_inference': 0.0005566046237945557, 'time_environment_step': 3.678441047668457e-05, 'time_sample_batch': 8.634829521179199e-05, 'time_algorithm_update': 0.002917147397994995, 'loss': 4.411678894281387, 'time_step': 0.0036444354057312014, 'rollout_return': 365.72204749479766} step=42000\n",
      "2022-08-21 11:00.32 [info     ] Model parameters are saved to d3rlpy_logs/DoubleDQN_online_20220821105756/model_43000.pt\n",
      "2022-08-21 11:00.32 [info     ] DoubleDQN_online_20220821105756: epoch=43 step=43000 epoch=43 metrics={'time_inference': 0.0005657954216003418, 'time_environment_step': 3.7407636642456055e-05, 'time_sample_batch': 8.750677108764648e-05, 'time_algorithm_update': 0.002937926769256592, 'loss': 4.434277023434639, 'time_step': 0.003676538944244385, 'rollout_return': 470.27017429785553} step=43000\n",
      "2022-08-21 11:00.36 [info     ] Model parameters are saved to d3rlpy_logs/DoubleDQN_online_20220821105756/model_44000.pt\n",
      "2022-08-21 11:00.36 [info     ] DoubleDQN_online_20220821105756: epoch=44 step=44000 epoch=44 metrics={'time_inference': 0.0005653948783874512, 'time_environment_step': 3.760004043579101e-05, 'time_sample_batch': 8.72201919555664e-05, 'time_algorithm_update': 0.0029711294174194335, 'loss': 4.6101232016086575, 'time_step': 0.003709367036819458, 'rollout_return': 272.5242850530776} step=44000\n",
      "2022-08-21 11:00.40 [info     ] Model parameters are saved to d3rlpy_logs/DoubleDQN_online_20220821105756/model_45000.pt\n",
      "2022-08-21 11:00.40 [info     ] DoubleDQN_online_20220821105756: epoch=45 step=45000 epoch=45 metrics={'time_inference': 0.0005577971935272217, 'time_environment_step': 3.6707639694213866e-05, 'time_sample_batch': 8.62278938293457e-05, 'time_algorithm_update': 0.0029297258853912354, 'loss': 4.569161909580231, 'time_step': 0.0036573452949523926, 'rollout_return': 492.47841216977287} step=45000\n",
      "2022-08-21 11:00.43 [info     ] Model parameters are saved to d3rlpy_logs/DoubleDQN_online_20220821105756/model_46000.pt\n",
      "2022-08-21 11:00.43 [info     ] DoubleDQN_online_20220821105756: epoch=46 step=46000 epoch=46 metrics={'time_inference': 0.0005547707080841064, 'time_environment_step': 3.6612033843994143e-05, 'time_sample_batch': 8.573412895202637e-05, 'time_algorithm_update': 0.00291775107383728, 'loss': 4.550146186113357, 'time_step': 0.00364261531829834, 'rollout_return': 277.7474313933344} step=46000\n",
      "2022-08-21 11:00.47 [info     ] Model parameters are saved to d3rlpy_logs/DoubleDQN_online_20220821105756/model_47000.pt\n",
      "2022-08-21 11:00.47 [info     ] DoubleDQN_online_20220821105756: epoch=47 step=47000 epoch=47 metrics={'time_inference': 0.0005614173412322998, 'time_environment_step': 3.725075721740723e-05, 'time_sample_batch': 8.711743354797363e-05, 'time_algorithm_update': 0.0029522621631622313, 'loss': 4.48515850174427, 'time_step': 0.0036852824687957763, 'rollout_return': 441.0756877272505} step=47000\n"
     ]
    },
    {
     "name": "stdout",
     "output_type": "stream",
     "text": [
      "2022-08-21 11:00.51 [info     ] Model parameters are saved to d3rlpy_logs/DoubleDQN_online_20220821105756/model_48000.pt\n",
      "2022-08-21 11:00.51 [info     ] DoubleDQN_online_20220821105756: epoch=48 step=48000 epoch=48 metrics={'time_inference': 0.0005593857765197754, 'time_environment_step': 3.679800033569336e-05, 'time_sample_batch': 8.644199371337891e-05, 'time_algorithm_update': 0.002937267780303955, 'loss': 4.4131822943687435, 'time_step': 0.0036674065589904787, 'rollout_return': 606.4699025945483} step=48000\n",
      "2022-08-21 11:00.54 [info     ] Model parameters are saved to d3rlpy_logs/DoubleDQN_online_20220821105756/model_49000.pt\n",
      "2022-08-21 11:00.54 [info     ] DoubleDQN_online_20220821105756: epoch=49 step=49000 epoch=49 metrics={'time_inference': 0.0005605680942535401, 'time_environment_step': 3.69417667388916e-05, 'time_sample_batch': 8.701062202453614e-05, 'time_algorithm_update': 0.0029446520805358886, 'loss': 4.468394647121429, 'time_step': 0.003677037000656128, 'rollout_return': 406.9131709132011} step=49000\n",
      "2022-08-21 11:00.58 [info     ] Model parameters are saved to d3rlpy_logs/DoubleDQN_online_20220821105756/model_50000.pt\n",
      "2022-08-21 11:00.58 [info     ] DoubleDQN_online_20220821105756: epoch=50 step=50000 epoch=50 metrics={'time_inference': 0.000565718650817871, 'time_environment_step': 3.7706136703491213e-05, 'time_sample_batch': 8.753752708435058e-05, 'time_algorithm_update': 0.002967669486999512, 'loss': 4.645178554773331, 'time_step': 0.0037068655490875243, 'rollout_return': 448.62303077583925} step=50000\n",
      "2022-08-21 11:01.02 [info     ] Model parameters are saved to d3rlpy_logs/DoubleDQN_online_20220821105756/model_51000.pt\n",
      "2022-08-21 11:01.02 [info     ] DoubleDQN_online_20220821105756: epoch=51 step=51000 epoch=51 metrics={'time_inference': 0.0005701258182525635, 'time_environment_step': 3.7611246109008786e-05, 'time_sample_batch': 8.801150321960449e-05, 'time_algorithm_update': 0.0029814984798431396, 'loss': 4.638304466366768, 'time_step': 0.0037258567810058594, 'rollout_return': 420.6455478371907} step=51000\n",
      "2022-08-21 11:01.06 [info     ] Model parameters are saved to d3rlpy_logs/DoubleDQN_online_20220821105756/model_52000.pt\n",
      "2022-08-21 11:01.06 [info     ] DoubleDQN_online_20220821105756: epoch=52 step=52000 epoch=52 metrics={'time_inference': 0.0005586860179901123, 'time_environment_step': 3.657627105712891e-05, 'time_sample_batch': 8.542752265930176e-05, 'time_algorithm_update': 0.0029582483768463134, 'loss': 4.559189496159553, 'time_step': 0.0036862373352050783, 'rollout_return': 737.8299732382562} step=52000\n",
      "2022-08-21 11:01.09 [info     ] Model parameters are saved to d3rlpy_logs/DoubleDQN_online_20220821105756/model_53000.pt\n",
      "2022-08-21 11:01.09 [info     ] DoubleDQN_online_20220821105756: epoch=53 step=53000 epoch=53 metrics={'time_inference': 0.0005638818740844727, 'time_environment_step': 3.6992311477661135e-05, 'time_sample_batch': 8.648538589477539e-05, 'time_algorithm_update': 0.002968251943588257, 'loss': 4.559730110406876, 'time_step': 0.00370290470123291, 'rollout_return': 310.53600433133204} step=53000\n",
      "2022-08-21 11:01.13 [info     ] Model parameters are saved to d3rlpy_logs/DoubleDQN_online_20220821105756/model_54000.pt\n",
      "2022-08-21 11:01.13 [info     ] DoubleDQN_online_20220821105756: epoch=54 step=54000 epoch=54 metrics={'time_inference': 0.0005545830726623536, 'time_environment_step': 3.645563125610352e-05, 'time_sample_batch': 8.47022533416748e-05, 'time_algorithm_update': 0.0029459974765777587, 'loss': 4.512776858091354, 'time_step': 0.0036693010330200197, 'rollout_return': 374.37797836704254} step=54000\n",
      "2022-08-21 11:01.17 [info     ] Model parameters are saved to d3rlpy_logs/DoubleDQN_online_20220821105756/model_55000.pt\n",
      "2022-08-21 11:01.17 [info     ] DoubleDQN_online_20220821105756: epoch=55 step=55000 epoch=55 metrics={'time_inference': 0.0005604779720306397, 'time_environment_step': 3.67584228515625e-05, 'time_sample_batch': 8.546686172485351e-05, 'time_algorithm_update': 0.0029649958610534666, 'loss': 4.6482778496742245, 'time_step': 0.0036953179836273194, 'rollout_return': 358.9234616853693} step=55000\n",
      "2022-08-21 11:01.20 [info     ] Model parameters are saved to d3rlpy_logs/DoubleDQN_online_20220821105756/model_56000.pt\n",
      "2022-08-21 11:01.20 [info     ] DoubleDQN_online_20220821105756: epoch=56 step=56000 epoch=56 metrics={'time_inference': 0.0005558083057403564, 'time_environment_step': 3.680419921875e-05, 'time_sample_batch': 8.477902412414551e-05, 'time_algorithm_update': 0.00294022536277771, 'loss': 4.711864638090134, 'time_step': 0.003665111780166626, 'rollout_return': 391.1032052957764} step=56000\n",
      "2022-08-21 11:01.24 [info     ] Model parameters are saved to d3rlpy_logs/DoubleDQN_online_20220821105756/model_57000.pt\n",
      "2022-08-21 11:01.24 [info     ] DoubleDQN_online_20220821105756: epoch=57 step=57000 epoch=57 metrics={'time_inference': 0.0005554664134979248, 'time_environment_step': 3.629922866821289e-05, 'time_sample_batch': 8.464455604553222e-05, 'time_algorithm_update': 0.0029420084953308105, 'loss': 4.69566236448288, 'time_step': 0.003665619134902954, 'rollout_return': 347.5420935246465} step=57000\n",
      "2022-08-21 11:01.28 [info     ] Model parameters are saved to d3rlpy_logs/DoubleDQN_online_20220821105756/model_58000.pt\n",
      "2022-08-21 11:01.28 [info     ] DoubleDQN_online_20220821105756: epoch=58 step=58000 epoch=58 metrics={'time_inference': 0.000553016185760498, 'time_environment_step': 3.6467313766479495e-05, 'time_sample_batch': 8.412075042724609e-05, 'time_algorithm_update': 0.0029345083236694334, 'loss': 4.793503662824631, 'time_step': 0.003655126094818115, 'rollout_return': 579.1984141793926} step=58000\n",
      "2022-08-21 11:01.31 [info     ] Model parameters are saved to d3rlpy_logs/DoubleDQN_online_20220821105756/model_59000.pt\n",
      "2022-08-21 11:01.31 [info     ] DoubleDQN_online_20220821105756: epoch=59 step=59000 epoch=59 metrics={'time_inference': 0.0005534939765930176, 'time_environment_step': 3.6277532577514646e-05, 'time_sample_batch': 8.483552932739258e-05, 'time_algorithm_update': 0.0029367356300354004, 'loss': 4.8750330067873, 'time_step': 0.003658512592315674, 'rollout_return': 387.67221257383443} step=59000\n",
      "2022-08-21 11:01.35 [info     ] Model parameters are saved to d3rlpy_logs/DoubleDQN_online_20220821105756/model_60000.pt\n",
      "2022-08-21 11:01.35 [info     ] DoubleDQN_online_20220821105756: epoch=60 step=60000 epoch=60 metrics={'time_inference': 0.0005585248470306397, 'time_environment_step': 3.658533096313476e-05, 'time_sample_batch': 8.509063720703125e-05, 'time_algorithm_update': 0.002962483644485474, 'loss': 5.08792937040329, 'time_step': 0.0036902425289154052, 'rollout_return': 418.8428335074878} step=60000\n",
      "2022-08-21 11:01.39 [info     ] Model parameters are saved to d3rlpy_logs/DoubleDQN_online_20220821105756/model_61000.pt\n",
      "2022-08-21 11:01.39 [info     ] DoubleDQN_online_20220821105756: epoch=61 step=61000 epoch=61 metrics={'time_inference': 0.0005632960796356202, 'time_environment_step': 3.70023250579834e-05, 'time_sample_batch': 8.559775352478028e-05, 'time_algorithm_update': 0.002959968090057373, 'loss': 4.967061470866203, 'time_step': 0.0036932783126831055, 'rollout_return': 432.25734329489364} step=61000\n",
      "2022-08-21 11:01.42 [info     ] Model parameters are saved to d3rlpy_logs/DoubleDQN_online_20220821105756/model_62000.pt\n",
      "2022-08-21 11:01.42 [info     ] DoubleDQN_online_20220821105756: epoch=62 step=62000 epoch=62 metrics={'time_inference': 0.0005585236549377441, 'time_environment_step': 3.679990768432617e-05, 'time_sample_batch': 8.55851173400879e-05, 'time_algorithm_update': 0.0029507887363433836, 'loss': 5.249479264497757, 'time_step': 0.0036793763637542726, 'rollout_return': 531.1323640907607} step=62000\n",
      "2022-08-21 11:01.46 [info     ] Model parameters are saved to d3rlpy_logs/DoubleDQN_online_20220821105756/model_63000.pt\n",
      "2022-08-21 11:01.46 [info     ] DoubleDQN_online_20220821105756: epoch=63 step=63000 epoch=63 metrics={'time_inference': 0.0005571653842926025, 'time_environment_step': 3.695082664489746e-05, 'time_sample_batch': 8.519887924194336e-05, 'time_algorithm_update': 0.002937840700149536, 'loss': 5.12688602912426, 'time_step': 0.0036645772457122804, 'rollout_return': 742.5917938090234} step=63000\n"
     ]
    },
    {
     "name": "stdout",
     "output_type": "stream",
     "text": [
      "2022-08-21 11:01.50 [info     ] Model parameters are saved to d3rlpy_logs/DoubleDQN_online_20220821105756/model_64000.pt\n",
      "2022-08-21 11:01.50 [info     ] DoubleDQN_online_20220821105756: epoch=64 step=64000 epoch=64 metrics={'time_inference': 0.0005569941997528076, 'time_environment_step': 3.667187690734863e-05, 'time_sample_batch': 8.47625732421875e-05, 'time_algorithm_update': 0.002932533264160156, 'loss': 5.350506774961948, 'time_step': 0.0036580235958099364, 'rollout_return': 469.224211943564} step=64000\n",
      "2022-08-21 11:01.53 [info     ] Model parameters are saved to d3rlpy_logs/DoubleDQN_online_20220821105756/model_65000.pt\n",
      "2022-08-21 11:01.53 [info     ] DoubleDQN_online_20220821105756: epoch=65 step=65000 epoch=65 metrics={'time_inference': 0.0005518445968627929, 'time_environment_step': 3.6298036575317384e-05, 'time_sample_batch': 8.467674255371094e-05, 'time_algorithm_update': 0.002913485050201416, 'loss': 5.301417937278748, 'time_step': 0.0036331439018249512, 'rollout_return': 482.5743504469923} step=65000\n",
      "2022-08-21 11:01.57 [info     ] Model parameters are saved to d3rlpy_logs/DoubleDQN_online_20220821105756/model_66000.pt\n",
      "2022-08-21 11:01.57 [info     ] DoubleDQN_online_20220821105756: epoch=66 step=66000 epoch=66 metrics={'time_inference': 0.00055483078956604, 'time_environment_step': 3.653907775878906e-05, 'time_sample_batch': 8.524370193481446e-05, 'time_algorithm_update': 0.0029232020378112795, 'loss': 5.11609097468853, 'time_step': 0.003647301435470581, 'rollout_return': 506.3220462045862} step=66000\n",
      "2022-08-21 11:02.01 [info     ] Model parameters are saved to d3rlpy_logs/DoubleDQN_online_20220821105756/model_67000.pt\n",
      "2022-08-21 11:02.01 [info     ] DoubleDQN_online_20220821105756: epoch=67 step=67000 epoch=67 metrics={'time_inference': 0.0005571107864379883, 'time_environment_step': 3.685760498046875e-05, 'time_sample_batch': 8.649706840515137e-05, 'time_algorithm_update': 0.0029134414196014405, 'loss': 5.0253937703371045, 'time_step': 0.003641155004501343, 'rollout_return': 527.6681797727027} step=67000\n",
      "2022-08-21 11:02.05 [info     ] Model parameters are saved to d3rlpy_logs/DoubleDQN_online_20220821105756/model_68000.pt\n",
      "2022-08-21 11:02.05 [info     ] DoubleDQN_online_20220821105756: epoch=68 step=68000 epoch=68 metrics={'time_inference': 0.0005626242160797119, 'time_environment_step': 3.7149667739868166e-05, 'time_sample_batch': 8.729052543640136e-05, 'time_algorithm_update': 0.002942842721939087, 'loss': 5.16325403547287, 'time_step': 0.003677621364593506, 'rollout_return': 698.4732681952453} step=68000\n",
      "2022-08-21 11:02.08 [info     ] Model parameters are saved to d3rlpy_logs/DoubleDQN_online_20220821105756/model_69000.pt\n",
      "2022-08-21 11:02.08 [info     ] DoubleDQN_online_20220821105756: epoch=69 step=69000 epoch=69 metrics={'time_inference': 0.0005642914772033691, 'time_environment_step': 3.755927085876465e-05, 'time_sample_batch': 8.779287338256836e-05, 'time_algorithm_update': 0.002978661298751831, 'loss': 5.287682892680168, 'time_step': 0.00371659255027771, 'rollout_return': 503.64178276803943} step=69000\n",
      "2022-08-21 11:02.12 [info     ] Model parameters are saved to d3rlpy_logs/DoubleDQN_online_20220821105756/model_70000.pt\n",
      "2022-08-21 11:02.12 [info     ] DoubleDQN_online_20220821105756: epoch=70 step=70000 epoch=70 metrics={'time_inference': 0.0005575079917907715, 'time_environment_step': 3.677916526794434e-05, 'time_sample_batch': 8.624386787414551e-05, 'time_algorithm_update': 0.002929288148880005, 'loss': 4.926535217761994, 'time_step': 0.0036570451259613037, 'rollout_return': 528.4347862477731} step=70000\n",
      "2022-08-21 11:02.16 [info     ] Model parameters are saved to d3rlpy_logs/DoubleDQN_online_20220821105756/model_71000.pt\n",
      "2022-08-21 11:02.16 [info     ] DoubleDQN_online_20220821105756: epoch=71 step=71000 epoch=71 metrics={'time_inference': 0.0005578858852386475, 'time_environment_step': 3.673958778381348e-05, 'time_sample_batch': 8.598899841308593e-05, 'time_algorithm_update': 0.0029225540161132812, 'loss': 5.085685625910759, 'time_step': 0.0036504178047180175, 'rollout_return': 765.6428179826457} step=71000\n",
      "2022-08-21 11:02.19 [info     ] Model parameters are saved to d3rlpy_logs/DoubleDQN_online_20220821105756/model_72000.pt\n",
      "2022-08-21 11:02.19 [info     ] DoubleDQN_online_20220821105756: epoch=72 step=72000 epoch=72 metrics={'time_inference': 0.0005541183948516846, 'time_environment_step': 3.6689996719360354e-05, 'time_sample_batch': 8.681535720825195e-05, 'time_algorithm_update': 0.0029122252464294433, 'loss': 5.0465015950202945, 'time_step': 0.0036364374160766603, 'rollout_return': 543.6864059358294} step=72000\n",
      "2022-08-21 11:02.23 [info     ] Model parameters are saved to d3rlpy_logs/DoubleDQN_online_20220821105756/model_73000.pt\n",
      "2022-08-21 11:02.23 [info     ] DoubleDQN_online_20220821105756: epoch=73 step=73000 epoch=73 metrics={'time_inference': 0.0005569503307342529, 'time_environment_step': 3.6854743957519534e-05, 'time_sample_batch': 8.662033081054688e-05, 'time_algorithm_update': 0.002923197031021118, 'loss': 5.03453386759758, 'time_step': 0.0036510770320892336, 'rollout_return': 677.6885032816967} step=73000\n",
      "2022-08-21 11:02.27 [info     ] Model parameters are saved to d3rlpy_logs/DoubleDQN_online_20220821105756/model_74000.pt\n",
      "2022-08-21 11:02.27 [info     ] DoubleDQN_online_20220821105756: epoch=74 step=74000 epoch=74 metrics={'time_inference': 0.0005596253871917725, 'time_environment_step': 3.68802547454834e-05, 'time_sample_batch': 8.659648895263672e-05, 'time_algorithm_update': 0.0029158024787902834, 'loss': 4.582031927168369, 'time_step': 0.003646289348602295, 'rollout_return': 733.2546722557163} step=74000\n",
      "2022-08-21 11:02.30 [info     ] Model parameters are saved to d3rlpy_logs/DoubleDQN_online_20220821105756/model_75000.pt\n",
      "2022-08-21 11:02.30 [info     ] DoubleDQN_online_20220821105756: epoch=75 step=75000 epoch=75 metrics={'time_inference': 0.000557513952255249, 'time_environment_step': 3.680849075317383e-05, 'time_sample_batch': 8.645343780517579e-05, 'time_algorithm_update': 0.0029288897514343263, 'loss': 4.851991749584675, 'time_step': 0.0036570143699645994, 'rollout_return': 634.8256881378068} step=75000\n",
      "2022-08-21 11:02.34 [info     ] Model parameters are saved to d3rlpy_logs/DoubleDQN_online_20220821105756/model_76000.pt\n",
      "2022-08-21 11:02.34 [info     ] DoubleDQN_online_20220821105756: epoch=76 step=76000 epoch=76 metrics={'time_inference': 0.0005608150959014892, 'time_environment_step': 3.697967529296875e-05, 'time_sample_batch': 8.626174926757812e-05, 'time_algorithm_update': 0.0029303655624389646, 'loss': 4.868679184496402, 'time_step': 0.0036621387004852294, 'rollout_return': 520.0264585692534} step=76000\n",
      "2022-08-21 11:02.38 [info     ] Model parameters are saved to d3rlpy_logs/DoubleDQN_online_20220821105756/model_77000.pt\n",
      "2022-08-21 11:02.38 [info     ] DoubleDQN_online_20220821105756: epoch=77 step=77000 epoch=77 metrics={'time_inference': 0.0005570342540740967, 'time_environment_step': 3.680229187011719e-05, 'time_sample_batch': 8.644843101501465e-05, 'time_algorithm_update': 0.0029430627822875977, 'loss': 4.797463986992836, 'time_step': 0.0036706793308258056, 'rollout_return': 507.12010928953237} step=77000\n",
      "2022-08-21 11:02.41 [info     ] Model parameters are saved to d3rlpy_logs/DoubleDQN_online_20220821105756/model_78000.pt\n",
      "2022-08-21 11:02.41 [info     ] DoubleDQN_online_20220821105756: epoch=78 step=78000 epoch=78 metrics={'time_inference': 0.0005598356723785401, 'time_environment_step': 3.7045001983642575e-05, 'time_sample_batch': 8.637022972106933e-05, 'time_algorithm_update': 0.0029491353034973144, 'loss': 4.962780672311783, 'time_step': 0.0036798803806304932, 'rollout_return': 519.584038432103} step=78000\n",
      "2022-08-21 11:02.45 [info     ] Model parameters are saved to d3rlpy_logs/DoubleDQN_online_20220821105756/model_79000.pt\n",
      "2022-08-21 11:02.45 [info     ] DoubleDQN_online_20220821105756: epoch=79 step=79000 epoch=79 metrics={'time_inference': 0.000553499698638916, 'time_environment_step': 3.6641597747802736e-05, 'time_sample_batch': 8.534455299377442e-05, 'time_algorithm_update': 0.002927708625793457, 'loss': 5.295288355946541, 'time_step': 0.0036496870517730715, 'rollout_return': 478.96345722858103} step=79000\n"
     ]
    },
    {
     "name": "stdout",
     "output_type": "stream",
     "text": [
      "2022-08-21 11:02.49 [info     ] Model parameters are saved to d3rlpy_logs/DoubleDQN_online_20220821105756/model_80000.pt\n",
      "2022-08-21 11:02.49 [info     ] DoubleDQN_online_20220821105756: epoch=80 step=80000 epoch=80 metrics={'time_inference': 0.0005618197917938233, 'time_environment_step': 3.7165641784667965e-05, 'time_sample_batch': 8.6273193359375e-05, 'time_algorithm_update': 0.0029104382991790773, 'loss': 5.174024652481079, 'time_step': 0.003643324136734009, 'rollout_return': 478.4448313051121} step=80000\n",
      "2022-08-21 11:02.52 [info     ] Model parameters are saved to d3rlpy_logs/DoubleDQN_online_20220821105756/model_81000.pt\n",
      "2022-08-21 11:02.52 [info     ] DoubleDQN_online_20220821105756: epoch=81 step=81000 epoch=81 metrics={'time_inference': 0.0005602607727050781, 'time_environment_step': 3.752493858337402e-05, 'time_sample_batch': 8.670544624328613e-05, 'time_algorithm_update': 0.0030303316116333007, 'loss': 5.21940882652998, 'time_step': 0.0037621424198150634, 'rollout_return': 511.249462579778} step=81000\n",
      "2022-08-21 11:02.56 [info     ] Model parameters are saved to d3rlpy_logs/DoubleDQN_online_20220821105756/model_82000.pt\n",
      "2022-08-21 11:02.56 [info     ] DoubleDQN_online_20220821105756: epoch=82 step=82000 epoch=82 metrics={'time_inference': 0.0005672421455383301, 'time_environment_step': 3.7617206573486326e-05, 'time_sample_batch': 8.741283416748047e-05, 'time_algorithm_update': 0.002984910011291504, 'loss': 4.845602137446403, 'time_step': 0.003724935293197632, 'rollout_return': 524.5992674135147} step=82000\n",
      "2022-08-21 11:03.00 [info     ] Model parameters are saved to d3rlpy_logs/DoubleDQN_online_20220821105756/model_83000.pt\n",
      "2022-08-21 11:03.00 [info     ] DoubleDQN_online_20220821105756: epoch=83 step=83000 epoch=83 metrics={'time_inference': 0.0005662264823913574, 'time_environment_step': 3.740429878234863e-05, 'time_sample_batch': 8.749818801879883e-05, 'time_algorithm_update': 0.002978966236114502, 'loss': 5.027417035877705, 'time_step': 0.0037188308238983152, 'rollout_return': 570.1490140236584} step=83000\n",
      "2022-08-21 11:03.04 [info     ] Model parameters are saved to d3rlpy_logs/DoubleDQN_online_20220821105756/model_84000.pt\n",
      "2022-08-21 11:03.04 [info     ] DoubleDQN_online_20220821105756: epoch=84 step=84000 epoch=84 metrics={'time_inference': 0.0005647797584533692, 'time_environment_step': 3.717565536499023e-05, 'time_sample_batch': 8.71434211730957e-05, 'time_algorithm_update': 0.002950329065322876, 'loss': 5.266839942812919, 'time_step': 0.0036874794960021972, 'rollout_return': 475.5661812654347} step=84000\n",
      "2022-08-21 11:03.07 [info     ] Model parameters are saved to d3rlpy_logs/DoubleDQN_online_20220821105756/model_85000.pt\n",
      "2022-08-21 11:03.07 [info     ] DoubleDQN_online_20220821105756: epoch=85 step=85000 epoch=85 metrics={'time_inference': 0.0005562851428985595, 'time_environment_step': 3.698229789733887e-05, 'time_sample_batch': 8.628082275390624e-05, 'time_algorithm_update': 0.0028906333446502685, 'loss': 5.145653550207615, 'time_step': 0.003617889404296875, 'rollout_return': 597.7260441388846} step=85000\n",
      "2022-08-21 11:03.11 [info     ] Model parameters are saved to d3rlpy_logs/DoubleDQN_online_20220821105756/model_86000.pt\n",
      "2022-08-21 11:03.11 [info     ] DoubleDQN_online_20220821105756: epoch=86 step=86000 epoch=86 metrics={'time_inference': 0.0005537812709808349, 'time_environment_step': 3.667759895324707e-05, 'time_sample_batch': 8.6334228515625e-05, 'time_algorithm_update': 0.002932639122009277, 'loss': 5.315459884464741, 'time_step': 0.0036572368144989014, 'rollout_return': 540.5277201928893} step=86000\n",
      "2022-08-21 11:03.15 [info     ] Model parameters are saved to d3rlpy_logs/DoubleDQN_online_20220821105756/model_87000.pt\n",
      "2022-08-21 11:03.15 [info     ] DoubleDQN_online_20220821105756: epoch=87 step=87000 epoch=87 metrics={'time_inference': 0.0005561423301696778, 'time_environment_step': 3.677225112915039e-05, 'time_sample_batch': 8.599829673767089e-05, 'time_algorithm_update': 0.00292418909072876, 'loss': 5.802844554364682, 'time_step': 0.0036500248908996583, 'rollout_return': 485.21752718317214} step=87000\n",
      "2022-08-21 11:03.18 [info     ] Model parameters are saved to d3rlpy_logs/DoubleDQN_online_20220821105756/model_88000.pt\n",
      "2022-08-21 11:03.18 [info     ] DoubleDQN_online_20220821105756: epoch=88 step=88000 epoch=88 metrics={'time_inference': 0.0005568866729736328, 'time_environment_step': 3.6992311477661135e-05, 'time_sample_batch': 8.647656440734863e-05, 'time_algorithm_update': 0.0029274957180023195, 'loss': 5.779585269570351, 'time_step': 0.003655120611190796, 'rollout_return': 555.0215014923255} step=88000\n",
      "2022-08-21 11:03.22 [info     ] Model parameters are saved to d3rlpy_logs/DoubleDQN_online_20220821105756/model_89000.pt\n",
      "2022-08-21 11:03.22 [info     ] DoubleDQN_online_20220821105756: epoch=89 step=89000 epoch=89 metrics={'time_inference': 0.0005616738796234131, 'time_environment_step': 3.7117958068847656e-05, 'time_sample_batch': 8.636021614074707e-05, 'time_algorithm_update': 0.002926398515701294, 'loss': 5.762308925151825, 'time_step': 0.0036589014530181885, 'rollout_return': 538.8585336997149} step=89000\n",
      "2022-08-21 11:03.26 [info     ] Model parameters are saved to d3rlpy_logs/DoubleDQN_online_20220821105756/model_90000.pt\n",
      "2022-08-21 11:03.26 [info     ] DoubleDQN_online_20220821105756: epoch=90 step=90000 epoch=90 metrics={'time_inference': 0.0005580191612243652, 'time_environment_step': 3.6939144134521484e-05, 'time_sample_batch': 8.669447898864746e-05, 'time_algorithm_update': 0.002913036584854126, 'loss': 5.820879677534103, 'time_step': 0.00364184832572937, 'rollout_return': 352.9310736498731} step=90000\n",
      "2022-08-21 11:03.29 [info     ] Model parameters are saved to d3rlpy_logs/DoubleDQN_online_20220821105756/model_91000.pt\n",
      "2022-08-21 11:03.29 [info     ] DoubleDQN_online_20220821105756: epoch=91 step=91000 epoch=91 metrics={'time_inference': 0.0005587983131408691, 'time_environment_step': 3.7101030349731445e-05, 'time_sample_batch': 8.610701560974121e-05, 'time_algorithm_update': 0.002929883003234863, 'loss': 6.239884725093842, 'time_step': 0.0036590685844421385, 'rollout_return': 488.48364583968447} step=91000\n",
      "2022-08-21 11:03.33 [info     ] Model parameters are saved to d3rlpy_logs/DoubleDQN_online_20220821105756/model_92000.pt\n",
      "2022-08-21 11:03.33 [info     ] DoubleDQN_online_20220821105756: epoch=92 step=92000 epoch=92 metrics={'time_inference': 0.0005637340545654297, 'time_environment_step': 3.755640983581543e-05, 'time_sample_batch': 8.656144142150879e-05, 'time_algorithm_update': 0.00294904899597168, 'loss': 6.191150818943977, 'time_step': 0.0036843111515045164, 'rollout_return': 546.6574613422656} step=92000\n",
      "2022-08-21 11:03.37 [info     ] Model parameters are saved to d3rlpy_logs/DoubleDQN_online_20220821105756/model_93000.pt\n",
      "2022-08-21 11:03.37 [info     ] DoubleDQN_online_20220821105756: epoch=93 step=93000 epoch=93 metrics={'time_inference': 0.000556697130203247, 'time_environment_step': 3.6790847778320315e-05, 'time_sample_batch': 8.606600761413575e-05, 'time_algorithm_update': 0.002939840078353882, 'loss': 6.8741045588254925, 'time_step': 0.003666616439819336, 'rollout_return': 400.0971963553493} step=93000\n",
      "2022-08-21 11:03.40 [info     ] Model parameters are saved to d3rlpy_logs/DoubleDQN_online_20220821105756/model_94000.pt\n",
      "2022-08-21 11:03.40 [info     ] DoubleDQN_online_20220821105756: epoch=94 step=94000 epoch=94 metrics={'time_inference': 0.0005590181350708008, 'time_environment_step': 3.6791324615478514e-05, 'time_sample_batch': 8.597803115844726e-05, 'time_algorithm_update': 0.0029303648471832276, 'loss': 6.886722467422485, 'time_step': 0.0036593198776245115, 'rollout_return': 464.0390752255762} step=94000\n",
      "2022-08-21 11:03.44 [info     ] Model parameters are saved to d3rlpy_logs/DoubleDQN_online_20220821105756/model_95000.pt\n",
      "2022-08-21 11:03.44 [info     ] DoubleDQN_online_20220821105756: epoch=95 step=95000 epoch=95 metrics={'time_inference': 0.0005547451972961426, 'time_environment_step': 3.65748405456543e-05, 'time_sample_batch': 8.559155464172364e-05, 'time_algorithm_update': 0.0029181690216064453, 'loss': 6.623036520779133, 'time_step': 0.0036416118144989014, 'rollout_return': 431.5569134701567} step=95000\n"
     ]
    },
    {
     "name": "stdout",
     "output_type": "stream",
     "text": [
      "2022-08-21 11:03.48 [info     ] Model parameters are saved to d3rlpy_logs/DoubleDQN_online_20220821105756/model_96000.pt\n",
      "2022-08-21 11:03.48 [info     ] DoubleDQN_online_20220821105756: epoch=96 step=96000 epoch=96 metrics={'time_inference': 0.0005582706928253173, 'time_environment_step': 3.664088249206543e-05, 'time_sample_batch': 8.562850952148437e-05, 'time_algorithm_update': 0.002939398765563965, 'loss': 6.945534284353256, 'time_step': 0.0036667945384979248, 'rollout_return': 401.1051525186183} step=96000\n",
      "2022-08-21 11:03.51 [info     ] Model parameters are saved to d3rlpy_logs/DoubleDQN_online_20220821105756/model_97000.pt\n",
      "2022-08-21 11:03.51 [info     ] DoubleDQN_online_20220821105756: epoch=97 step=97000 epoch=97 metrics={'time_inference': 0.00056325364112854, 'time_environment_step': 3.726911544799805e-05, 'time_sample_batch': 8.691596984863282e-05, 'time_algorithm_update': 0.0029537584781646727, 'loss': 7.005337695300579, 'time_step': 0.0036888298988342286, 'rollout_return': 580.8153555690242} step=97000\n",
      "2022-08-21 11:03.55 [info     ] Model parameters are saved to d3rlpy_logs/DoubleDQN_online_20220821105756/model_98000.pt\n",
      "2022-08-21 11:03.55 [info     ] DoubleDQN_online_20220821105756: epoch=98 step=98000 epoch=98 metrics={'time_inference': 0.0005598559379577637, 'time_environment_step': 3.739094734191895e-05, 'time_sample_batch': 8.653831481933594e-05, 'time_algorithm_update': 0.0029516150951385497, 'loss': 7.185264641821385, 'time_step': 0.0036829507350921633, 'rollout_return': 424.6888075154445} step=98000\n",
      "2022-08-21 11:03.59 [info     ] Model parameters are saved to d3rlpy_logs/DoubleDQN_online_20220821105756/model_99000.pt\n",
      "2022-08-21 11:03.59 [info     ] DoubleDQN_online_20220821105756: epoch=99 step=99000 epoch=99 metrics={'time_inference': 0.0005582749843597412, 'time_environment_step': 3.6831140518188475e-05, 'time_sample_batch': 8.535218238830566e-05, 'time_algorithm_update': 0.0029335954189300536, 'loss': 6.728922237157821, 'time_step': 0.003660902976989746, 'rollout_return': 414.2064628699057} step=99000\n",
      "2022-08-21 11:04.02 [info     ] Model parameters are saved to d3rlpy_logs/DoubleDQN_online_20220821105756/model_100000.pt\n",
      "2022-08-21 11:04.02 [info     ] DoubleDQN_online_20220821105756: epoch=100 step=100000 epoch=100 metrics={'time_inference': 0.0005678951740264893, 'time_environment_step': 3.7367820739746094e-05, 'time_sample_batch': 8.63649845123291e-05, 'time_algorithm_update': 0.0029915640354156495, 'loss': 7.166737353563309, 'time_step': 0.0037310006618499754, 'rollout_return': 474.68325328701945} step=100000\n"
     ]
    }
   ],
   "source": [
    "agent_analytical.fit_online(\n",
    "    env_analytical,\n",
    "    buffer,\n",
    "    explorer,\n",
    "    n_steps=100000,\n",
    "    eval_env=None,\n",
    "    n_steps_per_epoch=1000,\n",
    "    update_start_step=1000,\n",
    "    show_progress=False\n",
    ")"
   ]
  },
  {
   "cell_type": "code",
   "execution_count": 33,
   "metadata": {},
   "outputs": [
    {
     "name": "stdout",
     "output_type": "stream",
     "text": [
      "416.71 152\n"
     ]
    }
   ],
   "source": [
    "agent_preferences.load_model(\"d3rlpy_logs/DoubleDQN_online_20220821105756/model_71000.pt\")\n",
    "eval_with_env(env_analytical, agent_analytical)"
   ]
  },
  {
   "cell_type": "code",
   "execution_count": 26,
   "metadata": {},
   "outputs": [
    {
     "name": "stdout",
     "output_type": "stream",
     "text": [
      "total 40\n",
      "-rw-rw-r-- 1 gianluca99galletti gianluca99galletti  2158 Aug 21 10:57 DDQN-episode-0.meta.json\n",
      "-rw-rw-r-- 1 gianluca99galletti gianluca99galletti 14154 Aug 21 10:57 DDQN-episode-0.mp4\n",
      "-rw-rw-r-- 1 gianluca99galletti gianluca99galletti  2164 Aug 21 10:45 DDQN-episode-67.meta.json\n",
      "-rw-rw-r-- 1 gianluca99galletti gianluca99galletti 14653 Aug 21 10:45 DDQN-episode-67.mp4\n"
     ]
    },
    {
     "data": {
      "text/plain": [
       "0"
      ]
     },
     "execution_count": 26,
     "metadata": {},
     "output_type": "execute_result"
    }
   ],
   "source": [
    "os.system(\"ls -l videos\")"
   ]
  },
  {
   "cell_type": "code",
   "execution_count": 27,
   "metadata": {},
   "outputs": [
    {
     "data": {
      "text/html": [
       "<video controls  >\n",
       " <source src=\"data:None;base64,videos/DDQN-episode-1.mp4\" type=\"None\">\n",
       " Your browser does not support the video tag.\n",
       " </video>"
      ],
      "text/plain": [
       "<IPython.core.display.Video object>"
      ]
     },
     "execution_count": 27,
     "metadata": {},
     "output_type": "execute_result"
    }
   ],
   "source": [
    "Video(\"videos/DDQN-episode-1.mp4\", embed=True)"
   ]
  },
  {
   "cell_type": "markdown",
   "metadata": {},
   "source": [
    "## Try in offline RL"
   ]
  },
  {
   "cell_type": "markdown",
   "metadata": {},
   "source": [
    "### Build the dataset"
   ]
  },
  {
   "cell_type": "code",
   "execution_count": 34,
   "metadata": {},
   "outputs": [],
   "source": [
    "N_STEPS = 10000\n",
    "env_predictor_ = RecordVideo(env_predictor, \"./videos\",  name_prefix=\"CQL\", episode_trigger= lambda x: True)\n",
    "env_analytical_ = RecordVideo(env_analytical, \"./videos\",  name_prefix=\"CQL\", episode_trigger= lambda x: True)"
   ]
  },
  {
   "cell_type": "code",
   "execution_count": 35,
   "metadata": {
    "scrolled": false
   },
   "outputs": [
    {
     "name": "stdout",
     "output_type": "stream",
     "text": [
      "2022-08-21 11:07.29 [warning  ] Skip building models since they're already built.\n"
     ]
    }
   ],
   "source": [
    "ds_buffer = d3rlpy.online.buffers.ReplayBuffer(maxlen=N_STEPS, env=env_predictor)\n",
    "# use trained policy from before\n",
    "agent_preferences.collect(env_predictor, ds_buffer, n_steps=N_STEPS, show_progress=False)\n",
    "\n",
    "dataset_learned = ds_buffer.to_mdp_dataset()\n",
    "dataset_learned.dump(\"augrl/augmentations/spin_cartpole/datasets/ddqn_150_medium_learned_dataset.h5\")"
   ]
  },
  {
   "cell_type": "code",
   "execution_count": 36,
   "metadata": {},
   "outputs": [
    {
     "name": "stdout",
     "output_type": "stream",
     "text": [
      "2022-08-21 11:07.40 [warning  ] Skip building models since they're already built.\n"
     ]
    }
   ],
   "source": [
    "ds_buffer = d3rlpy.online.buffers.ReplayBuffer(maxlen=N_STEPS, env=env_analytical)\n",
    "# use trained policy from before\n",
    "agent_preferences.collect(env_analytical, ds_buffer, n_steps=N_STEPS, show_progress=False)\n",
    "\n",
    "dataset_analytical = ds_buffer.to_mdp_dataset()\n",
    "dataset_analytical.dump(\"augrl/augmentations/spin_cartpole/datasets/ddqn_medium_designed_dataset.h5\")"
   ]
  },
  {
   "cell_type": "code",
   "execution_count": 37,
   "metadata": {},
   "outputs": [
    {
     "data": {
      "text/plain": [
       "(9999,)"
      ]
     },
     "execution_count": 37,
     "metadata": {},
     "output_type": "execute_result"
    }
   ],
   "source": [
    "dataset_learned = d3rlpy.datasets.MDPDataset.load(\"augrl/augmentations/spin_cartpole/datasets/ddqn_150_medium_learned_dataset.h5\")\n",
    "dataset_learned.rewards.shape"
   ]
  },
  {
   "cell_type": "code",
   "execution_count": 38,
   "metadata": {},
   "outputs": [
    {
     "name": "stdout",
     "output_type": "stream",
     "text": [
      "2022-08-21 11:07.59 [debug    ] RoundIterator is selected.\n",
      "2022-08-21 11:07.59 [info     ] Directory is created at d3rlpy_logs/DiscreteCQL_20220821110759\n",
      "2022-08-21 11:07.59 [debug    ] Building models...\n",
      "2022-08-21 11:07.59 [debug    ] Models have been built.\n",
      "2022-08-21 11:08.01 [info     ] Model parameters are saved to d3rlpy_logs/DiscreteCQL_20220821110759/model_312.pt\n",
      "2022-08-21 11:08.02 [info     ] Model parameters are saved to d3rlpy_logs/DiscreteCQL_20220821110759/model_624.pt\n",
      "2022-08-21 11:08.04 [info     ] Model parameters are saved to d3rlpy_logs/DiscreteCQL_20220821110759/model_936.pt\n",
      "2022-08-21 11:08.05 [info     ] Model parameters are saved to d3rlpy_logs/DiscreteCQL_20220821110759/model_1248.pt\n",
      "2022-08-21 11:08.06 [info     ] Model parameters are saved to d3rlpy_logs/DiscreteCQL_20220821110759/model_1560.pt\n",
      "2022-08-21 11:08.08 [info     ] Model parameters are saved to d3rlpy_logs/DiscreteCQL_20220821110759/model_1872.pt\n",
      "2022-08-21 11:08.09 [info     ] Model parameters are saved to d3rlpy_logs/DiscreteCQL_20220821110759/model_2184.pt\n",
      "2022-08-21 11:08.11 [info     ] Model parameters are saved to d3rlpy_logs/DiscreteCQL_20220821110759/model_2496.pt\n"
     ]
    }
   ],
   "source": [
    "cql_preferences = d3rlpy.algos.DiscreteCQL(use_gpu=True)\n",
    "\n",
    "_ = cql_preferences.fit(\n",
    "    dataset_learned,\n",
    "    n_epochs=8,\n",
    "    show_progress=False,\n",
    "    verbose=False\n",
    ")"
   ]
  },
  {
   "cell_type": "code",
   "execution_count": 39,
   "metadata": {},
   "outputs": [
    {
     "name": "stdout",
     "output_type": "stream",
     "text": [
      "total 88\n",
      "-rw-rw-r-- 1 gianluca99galletti gianluca99galletti  2158 Aug 21 10:57 DDQN-episode-0.meta.json\n",
      "-rw-rw-r-- 1 gianluca99galletti gianluca99galletti 14154 Aug 21 10:57 DDQN-episode-0.mp4\n",
      "-rw-rw-r-- 1 gianluca99galletti gianluca99galletti  2159 Aug 21 11:04 DDQN-episode-1.meta.json\n",
      "-rw-rw-r-- 1 gianluca99galletti gianluca99galletti 42536 Aug 21 11:04 DDQN-episode-1.mp4\n",
      "-rw-rw-r-- 1 gianluca99galletti gianluca99galletti  2164 Aug 21 10:45 DDQN-episode-67.meta.json\n",
      "-rw-rw-r-- 1 gianluca99galletti gianluca99galletti 14653 Aug 21 10:45 DDQN-episode-67.mp4\n"
     ]
    },
    {
     "data": {
      "text/plain": [
       "0"
      ]
     },
     "execution_count": 39,
     "metadata": {},
     "output_type": "execute_result"
    }
   ],
   "source": [
    "os.system(\"ls -l videos\")"
   ]
  },
  {
   "cell_type": "code",
   "execution_count": 40,
   "metadata": {},
   "outputs": [
    {
     "name": "stdout",
     "output_type": "stream",
     "text": [
      "441.68 100\n"
     ]
    },
    {
     "data": {
      "text/html": [
       "<video controls  >\n",
       " <source src=\"data:video/mp4;base64,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\" type=\"video/mp4\">\n",
       " Your browser does not support the video tag.\n",
       " </video>"
      ],
      "text/plain": [
       "<IPython.core.display.Video object>"
      ]
     },
     "execution_count": 40,
     "metadata": {},
     "output_type": "execute_result"
    }
   ],
   "source": [
    "eval_with_env(env_analytical_, cql_preferences)\n",
    "Video(\"videos/CQL-episode-0.mp4\", embed=True)"
   ]
  },
  {
   "cell_type": "code",
   "execution_count": 41,
   "metadata": {},
   "outputs": [
    {
     "data": {
      "text/plain": [
       "(9999,)"
      ]
     },
     "execution_count": 41,
     "metadata": {},
     "output_type": "execute_result"
    }
   ],
   "source": [
    "dataset_analytical = d3rlpy.datasets.MDPDataset.load(\"augrl/augmentations/spin_cartpole/datasets/ddqn_medium_designed_dataset.h5\")\n",
    "dataset_analytical.rewards.shape"
   ]
  },
  {
   "cell_type": "code",
   "execution_count": 42,
   "metadata": {},
   "outputs": [
    {
     "name": "stdout",
     "output_type": "stream",
     "text": [
      "2022-08-21 11:08.36 [debug    ] RoundIterator is selected.\n",
      "2022-08-21 11:08.36 [info     ] Directory is created at d3rlpy_logs/DiscreteCQL_20220821110836\n",
      "2022-08-21 11:08.36 [debug    ] Building models...\n",
      "2022-08-21 11:08.36 [debug    ] Models have been built.\n",
      "2022-08-21 11:08.37 [info     ] Model parameters are saved to d3rlpy_logs/DiscreteCQL_20220821110836/model_312.pt\n",
      "2022-08-21 11:08.39 [info     ] Model parameters are saved to d3rlpy_logs/DiscreteCQL_20220821110836/model_624.pt\n",
      "2022-08-21 11:08.40 [info     ] Model parameters are saved to d3rlpy_logs/DiscreteCQL_20220821110836/model_936.pt\n",
      "2022-08-21 11:08.41 [info     ] Model parameters are saved to d3rlpy_logs/DiscreteCQL_20220821110836/model_1248.pt\n",
      "2022-08-21 11:08.43 [info     ] Model parameters are saved to d3rlpy_logs/DiscreteCQL_20220821110836/model_1560.pt\n",
      "2022-08-21 11:08.44 [info     ] Model parameters are saved to d3rlpy_logs/DiscreteCQL_20220821110836/model_1872.pt\n",
      "2022-08-21 11:08.46 [info     ] Model parameters are saved to d3rlpy_logs/DiscreteCQL_20220821110836/model_2184.pt\n",
      "2022-08-21 11:08.47 [info     ] Model parameters are saved to d3rlpy_logs/DiscreteCQL_20220821110836/model_2496.pt\n"
     ]
    }
   ],
   "source": [
    "cql_analytical = d3rlpy.algos.DiscreteCQL(use_gpu=True)\n",
    "\n",
    "_ = cql_analytical.fit(\n",
    "    dataset_analytical,\n",
    "    n_epochs=8,\n",
    "    show_progress=False,\n",
    "    verbose=False\n",
    ")"
   ]
  },
  {
   "cell_type": "code",
   "execution_count": 43,
   "metadata": {},
   "outputs": [
    {
     "name": "stdout",
     "output_type": "stream",
     "text": [
      "457.15 146\n"
     ]
    },
    {
     "data": {
      "text/html": [
       "<video controls  >\n",
       " <source src=\"data:video/mp4;base64,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\" type=\"video/mp4\">\n",
       " Your browser does not support the video tag.\n",
       " </video>"
      ],
      "text/plain": [
       "<IPython.core.display.Video object>"
      ]
     },
     "execution_count": 43,
     "metadata": {},
     "output_type": "execute_result"
    }
   ],
   "source": [
    "eval_with_env(env_analytical_, cql_analytical)\n",
    "Video(\"videos/CQL-episode-1.mp4\", embed=True)"
   ]
  },
  {
   "cell_type": "code",
   "execution_count": null,
   "metadata": {},
   "outputs": [],
   "source": []
  }
 ],
 "metadata": {
  "kernelspec": {
   "display_name": "Python 3 (ipykernel)",
   "language": "python",
   "name": "python3"
  },
  "language_info": {
   "codemirror_mode": {
    "name": "ipython",
    "version": 3
   },
   "file_extension": ".py",
   "mimetype": "text/x-python",
   "name": "python",
   "nbconvert_exporter": "python",
   "pygments_lexer": "ipython3",
   "version": "3.10.4"
  },
  "vscode": {
   "interpreter": {
    "hash": "e7370f93d1d0cde622a1f8e1c04877d8463912d04d973331ad4851f04de6915a"
   }
  }
 },
 "nbformat": 4,
 "nbformat_minor": 2
}
