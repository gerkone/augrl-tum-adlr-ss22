{
 "cells": [
  {
   "cell_type": "code",
   "execution_count": 2,
   "metadata": {},
   "outputs": [],
   "source": [
    "import d3rlpy\n",
    "from d3rlpy.metrics.scorer import average_value_estimation_scorer"
   ]
  },
  {
   "cell_type": "code",
   "execution_count": 4,
   "metadata": {},
   "outputs": [
    {
     "name": "stderr",
     "output_type": "stream",
     "text": [
      "/home/gerkone/.local/lib/python3.10/site-packages/gym/envs/registration.py:505: UserWarning: \u001b[33mWARN: The environment CartPole-v0 is out of date. You should consider upgrading to version `v1` with the environment ID `CartPole-v1`.\u001b[0m\n",
      "  logger.warn(\n"
     ]
    },
    {
     "name": "stdout",
     "output_type": "stream",
     "text": [
      "2022-05-21 12:01.27 [debug    ] RoundIterator is selected.\n",
      "2022-05-21 12:01.27 [info     ] Directory is created at d3rlpy_logs/DiscreteCQL_20220521120127\n",
      "2022-05-21 12:01.27 [debug    ] Building models...\n",
      "2022-05-21 12:01.27 [debug    ] Models have been built.\n",
      "2022-05-21 12:01.27 [info     ] Parameters are saved to d3rlpy_logs/DiscreteCQL_20220521120127/params.json params={'action_scaler': None, 'alpha': 1.0, 'batch_size': 32, 'encoder_factory': {'type': 'default', 'params': {'activation': 'relu', 'use_batch_norm': False, 'dropout_rate': None}}, 'gamma': 0.99, 'generated_maxlen': 100000, 'learning_rate': 6.25e-05, 'n_critics': 1, 'n_frames': 1, 'n_steps': 1, 'optim_factory': {'optim_cls': 'Adam', 'betas': (0.9, 0.999), 'eps': 1e-08, 'weight_decay': 0, 'amsgrad': False}, 'q_func_factory': {'type': 'mean', 'params': {'share_encoder': False}}, 'real_ratio': 1.0, 'reward_scaler': None, 'scaler': None, 'target_update_interval': 8000, 'use_gpu': None, 'algorithm': 'DiscreteCQL', 'observation_shape': (4,), 'action_size': 2}\n"
     ]
    },
    {
     "data": {
      "application/vnd.jupyter.widget-view+json": {
       "model_id": "9096c04ce8a84c469cdaddd5d181dff5",
       "version_major": 2,
       "version_minor": 0
      },
      "text/plain": [
       "Epoch 1/4:   0%|          | 0/3116 [00:00<?, ?it/s]"
      ]
     },
     "metadata": {},
     "output_type": "display_data"
    },
    {
     "name": "stdout",
     "output_type": "stream",
     "text": [
      "2022-05-21 12:01.47 [info     ] DiscreteCQL_20220521120127: epoch=1 step=3116 epoch=1 metrics={'time_sample_batch': 0.00012520755209573885, 'time_algorithm_update': 0.005205226801479276, 'loss': 0.6818004528847218, 'time_step': 0.005451069257684789, 'environment': 200.0, 'value_scale': 1.1341090008550108} step=3116\n",
      "2022-05-21 12:01.47 [info     ] Model parameters are saved to d3rlpy_logs/DiscreteCQL_20220521120127/model_3116.pt\n"
     ]
    },
    {
     "data": {
      "application/vnd.jupyter.widget-view+json": {
       "model_id": "8df24ba692f5418ebe18bc799473c69f",
       "version_major": 2,
       "version_minor": 0
      },
      "text/plain": [
       "Epoch 2/4:   0%|          | 0/3116 [00:00<?, ?it/s]"
      ]
     },
     "metadata": {},
     "output_type": "display_data"
    },
    {
     "name": "stdout",
     "output_type": "stream",
     "text": [
      "2022-05-21 12:02.05 [info     ] DiscreteCQL_20220521120127: epoch=2 step=6232 epoch=2 metrics={'time_sample_batch': 0.00011427082666536657, 'time_algorithm_update': 0.004478700812882116, 'loss': 0.6667024297149557, 'time_step': 0.004697857527432913, 'environment': 200.0, 'value_scale': 1.1412515775249576} step=6232\n",
      "2022-05-21 12:02.05 [info     ] Model parameters are saved to d3rlpy_logs/DiscreteCQL_20220521120127/model_6232.pt\n"
     ]
    },
    {
     "data": {
      "application/vnd.jupyter.widget-view+json": {
       "model_id": "b55d5963d9ac4a608cd5def77cc7216b",
       "version_major": 2,
       "version_minor": 0
      },
      "text/plain": [
       "Epoch 3/4:   0%|          | 0/3116 [00:00<?, ?it/s]"
      ]
     },
     "metadata": {},
     "output_type": "display_data"
    },
    {
     "name": "stdout",
     "output_type": "stream",
     "text": [
      "2022-05-21 12:02.22 [info     ] DiscreteCQL_20220521120127: epoch=3 step=9348 epoch=3 metrics={'time_sample_batch': 0.00011136488981822336, 'time_algorithm_update': 0.004292575324453958, 'loss': 0.6722742996449954, 'time_step': 0.004509588567222037, 'environment': 200.0, 'value_scale': 2.204359918819631} step=9348\n",
      "2022-05-21 12:02.22 [info     ] Model parameters are saved to d3rlpy_logs/DiscreteCQL_20220521120127/model_9348.pt\n"
     ]
    },
    {
     "data": {
      "application/vnd.jupyter.widget-view+json": {
       "model_id": "955720a2b8ff4ff5a98f5d17e1ad1ad5",
       "version_major": 2,
       "version_minor": 0
      },
      "text/plain": [
       "Epoch 4/4:   0%|          | 0/3116 [00:00<?, ?it/s]"
      ]
     },
     "metadata": {},
     "output_type": "display_data"
    },
    {
     "name": "stdout",
     "output_type": "stream",
     "text": [
      "2022-05-21 12:02.39 [info     ] DiscreteCQL_20220521120127: epoch=4 step=12464 epoch=4 metrics={'time_sample_batch': 0.00011070571906759436, 'time_algorithm_update': 0.004219037500976445, 'loss': 0.6747848059843379, 'time_step': 0.0044315815431009665, 'environment': 200.0, 'value_scale': 2.191811161701685} step=12464\n",
      "2022-05-21 12:02.39 [info     ] Model parameters are saved to d3rlpy_logs/DiscreteCQL_20220521120127/model_12464.pt\n"
     ]
    },
    {
     "data": {
      "text/plain": [
       "[(1,\n",
       "  {'time_sample_batch': 0.00012520755209573885,\n",
       "   'time_algorithm_update': 0.005205226801479276,\n",
       "   'loss': 0.6818004528847218,\n",
       "   'time_step': 0.005451069257684789,\n",
       "   'environment': 200.0,\n",
       "   'value_scale': 1.1341090008550108}),\n",
       " (2,\n",
       "  {'time_sample_batch': 0.00011427082666536657,\n",
       "   'time_algorithm_update': 0.004478700812882116,\n",
       "   'loss': 0.6667024297149557,\n",
       "   'time_step': 0.004697857527432913,\n",
       "   'environment': 200.0,\n",
       "   'value_scale': 1.1412515775249576}),\n",
       " (3,\n",
       "  {'time_sample_batch': 0.00011136488981822336,\n",
       "   'time_algorithm_update': 0.004292575324453958,\n",
       "   'loss': 0.6722742996449954,\n",
       "   'time_step': 0.004509588567222037,\n",
       "   'environment': 200.0,\n",
       "   'value_scale': 2.204359918819631}),\n",
       " (4,\n",
       "  {'time_sample_batch': 0.00011070571906759436,\n",
       "   'time_algorithm_update': 0.004219037500976445,\n",
       "   'loss': 0.6747848059843379,\n",
       "   'time_step': 0.0044315815431009665,\n",
       "   'environment': 200.0,\n",
       "   'value_scale': 2.191811161701685})]"
      ]
     },
     "execution_count": 4,
     "metadata": {},
     "output_type": "execute_result"
    }
   ],
   "source": [
    "dataset, env = d3rlpy.datasets.get_cartpole()\n",
    "\n",
    "agent = d3rlpy.algos.DiscreteCQL(use_gpu=False)\n",
    "\n",
    "agent.fit(\n",
    "    dataset,\n",
    "    eval_episodes=dataset,\n",
    "    n_epochs=4,\n",
    "    scorers={\n",
    "        \"environment\": d3rlpy.metrics.evaluate_on_environment(env, render=False),\n",
    "        'value_scale': average_value_estimation_scorer\n",
    "    }\n",
    ")\n"
   ]
  },
  {
   "cell_type": "code",
   "execution_count": null,
   "metadata": {},
   "outputs": [],
   "source": []
  }
 ],
 "metadata": {
  "interpreter": {
   "hash": "e7370f93d1d0cde622a1f8e1c04877d8463912d04d973331ad4851f04de6915a"
  },
  "kernelspec": {
   "display_name": "Python 3.10.4 64-bit",
   "language": "python",
   "name": "python3"
  },
  "language_info": {
   "codemirror_mode": {
    "name": "ipython",
    "version": 3
   },
   "file_extension": ".py",
   "mimetype": "text/x-python",
   "name": "python",
   "nbconvert_exporter": "python",
   "pygments_lexer": "ipython3",
   "version": "3.10.4"
  },
  "orig_nbformat": 4
 },
 "nbformat": 4,
 "nbformat_minor": 2
}
