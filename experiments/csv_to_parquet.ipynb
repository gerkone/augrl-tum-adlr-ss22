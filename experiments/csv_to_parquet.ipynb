{
 "cells": [
  {
   "cell_type": "code",
   "execution_count": 12,
   "metadata": {
    "pycharm": {
     "name": "#%%\n"
    }
   },
   "outputs": [],
   "source": [
    "%%capture stored_output\n",
    "%load_ext autoreload\n",
    "%autoreload 2"
   ]
  },
  {
   "cell_type": "markdown",
   "metadata": {
    "pycharm": {
     "name": "#%% md\n"
    }
   },
   "source": [
    "\n",
    "# Convert CSV to Parquet\n",
    "Convert files in the d3rlpy folder, to parquet. Create a different parquet per each environment"
   ]
  },
  {
   "cell_type": "code",
   "execution_count": 3,
   "metadata": {
    "pycharm": {
     "name": "#%%\n"
    }
   },
   "outputs": [],
   "source": [
    "import pandas as pd\n",
    "import seaborn as sns\n",
    "import numpy as np\n",
    "import datetime \n",
    "\n",
    "\n",
    "FILES = [\n",
    "    'halfcheetah-expert-v0/1.0_BCQ_28072022_1409'\n",
    "]\n",
    "\n",
    "SCORERS = [\n",
    "    'evaluate_on_environment',\n",
    "    'td_error_scorer',\n",
    "]\n",
    "\n",
    "\n",
    "frames = []\n",
    "for file in FILES:\n",
    "\n",
    "    for scorer in SCORERS:\n",
    "        df = pd.read_csv('d3rlpy_logs/{}/{}.csv'.format(file, scorer))\n",
    "        df.columns = ['epoch', 'steps', 'value']\n",
    "        df = df.drop(columns = ['steps'])\n",
    "        df['metric'] = scorer\n",
    "        path_list = file.split('/')[1].split('_')\n",
    "        df['algo'] = '{} {}'.format(path_list[0], path_list[1])\n",
    "        df['env'] = file.split('/')[0]\n",
    "        df['date-time'] = datetime.datetime.now().strftime(\"%d%%m%Y_%H%M\") #TODO: Change with SEED (also in run_training.py)\n",
    "        frames.append(df)\n",
    "\n",
    "results_df = pd.concat(frames)\n",
    "if (len(np.unique(df.env))==1):\n",
    "    file_name = df['env'][0]\n",
    "    results_df.to_parquet('results/{}.parquet'.format(df['env'][0]))\n",
    "else:\n",
    "    #different environment. not implemented\n",
    "    pass\n",
    "\n"
   ]
  },
  {
   "cell_type": "code",
   "execution_count": null,
   "metadata": {},
   "outputs": [],
   "source": []
  }
 ],
 "metadata": {
  "kernelspec": {
   "display_name": "Python 3 (ipykernel)",
   "language": "python",
   "name": "python3"
  },
  "language_info": {
   "codemirror_mode": {
    "name": "ipython",
    "version": 3
   },
   "file_extension": ".py",
   "mimetype": "text/x-python",
   "name": "python",
   "nbconvert_exporter": "python",
   "pygments_lexer": "ipython3",
   "version": "3.10.4"
  },
  "vscode": {
   "interpreter": {
    "hash": "e7370f93d1d0cde622a1f8e1c04877d8463912d04d973331ad4851f04de6915a"
   }
  }
 },
 "nbformat": 4,
 "nbformat_minor": 2
}
