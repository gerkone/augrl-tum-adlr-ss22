{
 "cells": [
  {
   "cell_type": "code",
   "execution_count": 2,
   "metadata": {},
   "outputs": [],
   "source": [
    "%load_ext autoreload\n",
    "%autoreload 2"
   ]
  },
  {
   "cell_type": "code",
   "execution_count": 3,
   "metadata": {},
   "outputs": [],
   "source": [
    "import os\n",
    "os.chdir(\"..\")"
   ]
  },
  {
   "cell_type": "code",
   "execution_count": 4,
   "metadata": {},
   "outputs": [],
   "source": [
    "import d3rlpy\n",
    "from d3rlpy.metrics.scorer import average_value_estimation_scorer, td_error_scorer, evaluate_on_environment\n",
    "\n",
    "import warnings\n",
    "warnings.filterwarnings(\"ignore\")\n",
    "\n",
    "from augmentation.augmented_dataset import MDPDatasetAugmented\n"
   ]
  },
  {
   "cell_type": "code",
   "execution_count": 5,
   "metadata": {},
   "outputs": [],
   "source": [
    "dataset, env = d3rlpy.datasets.get_cartpole()"
   ]
  },
  {
   "cell_type": "code",
   "execution_count": 6,
   "metadata": {},
   "outputs": [],
   "source": [
    "AUGMENTATIONS = [\"gaussian\", \"mixup\"]"
   ]
  },
  {
   "cell_type": "code",
   "execution_count": 7,
   "metadata": {},
   "outputs": [],
   "source": [
    "augmented_dataset = MDPDatasetAugmented.from_mdpdataset(dataset, augmentations=AUGMENTATIONS)"
   ]
  },
  {
   "cell_type": "code",
   "execution_count": 8,
   "metadata": {},
   "outputs": [],
   "source": [
    "assert augmented_dataset.observations.shape[0] == dataset.observations.shape[0] * (1 + len(AUGMENTATIONS))"
   ]
  },
  {
   "cell_type": "code",
   "execution_count": 9,
   "metadata": {},
   "outputs": [
    {
     "name": "stdout",
     "output_type": "stream",
     "text": [
      "2022-05-21 20:00.37 [debug    ] RoundIterator is selected.\n",
      "2022-05-21 20:00.37 [info     ] Directory is created at d3rlpy_logs/DiscreteCQL_20220521200037\n",
      "2022-05-21 20:00.37 [debug    ] Building models...\n",
      "2022-05-21 20:00.37 [debug    ] Models have been built.\n",
      "2022-05-21 20:00.37 [info     ] Parameters are saved to d3rlpy_logs/DiscreteCQL_20220521200037/params.json params={'action_scaler': None, 'alpha': 1.0, 'batch_size': 32, 'encoder_factory': {'type': 'default', 'params': {'activation': 'relu', 'use_batch_norm': False, 'dropout_rate': None}}, 'gamma': 0.99, 'generated_maxlen': 100000, 'learning_rate': 6.25e-05, 'n_critics': 1, 'n_frames': 1, 'n_steps': 1, 'optim_factory': {'optim_cls': 'Adam', 'betas': (0.9, 0.999), 'eps': 1e-08, 'weight_decay': 0, 'amsgrad': False}, 'q_func_factory': {'type': 'mean', 'params': {'share_encoder': False}}, 'real_ratio': 1.0, 'reward_scaler': None, 'scaler': None, 'target_update_interval': 8000, 'use_gpu': None, 'algorithm': 'DiscreteCQL', 'observation_shape': (4,), 'action_size': 2}\n"
     ]
    },
    {
     "data": {
      "application/vnd.jupyter.widget-view+json": {
       "model_id": "26d14fa928d64c939eef98a5be01eaea",
       "version_major": 2,
       "version_minor": 0
      },
      "text/plain": [
       "Epoch 1/2:   0%|          | 0/3116 [00:00<?, ?it/s]"
      ]
     },
     "metadata": {},
     "output_type": "display_data"
    },
    {
     "name": "stdout",
     "output_type": "stream",
     "text": [
      "2022-05-21 20:01.03 [info     ] DiscreteCQL_20220521200037: epoch=1 step=3116 epoch=1 metrics={'time_sample_batch': 0.00013498233126737035, 'time_algorithm_update': 0.005683536783568513, 'loss': 0.6817524252753508, 'time_step': 0.005947953164194913, 'td_error': 1.188272377368648, 'value_scale': 1.0975938445805873, 'environment': 181.3} step=3116\n",
      "2022-05-21 20:01.03 [info     ] Model parameters are saved to d3rlpy_logs/DiscreteCQL_20220521200037/model_3116.pt\n"
     ]
    },
    {
     "data": {
      "application/vnd.jupyter.widget-view+json": {
       "model_id": "1722000924864510b07a838765cd56f9",
       "version_major": 2,
       "version_minor": 0
      },
      "text/plain": [
       "Epoch 2/2:   0%|          | 0/3116 [00:00<?, ?it/s]"
      ]
     },
     "metadata": {},
     "output_type": "display_data"
    },
    {
     "name": "stdout",
     "output_type": "stream",
     "text": [
      "2022-05-21 20:01.29 [info     ] DiscreteCQL_20220521200037: epoch=2 step=6232 epoch=2 metrics={'time_sample_batch': 0.00013021533694285636, 'time_algorithm_update': 0.005531626962727852, 'loss': 0.6656075393893446, 'time_step': 0.005779766531443565, 'td_error': 1.165678379460701, 'value_scale': 1.0862695665836037, 'environment': 200.0} step=6232\n",
      "2022-05-21 20:01.29 [info     ] Model parameters are saved to d3rlpy_logs/DiscreteCQL_20220521200037/model_6232.pt\n"
     ]
    },
    {
     "data": {
      "text/plain": [
       "[(1,\n",
       "  {'time_sample_batch': 0.00013498233126737035,\n",
       "   'time_algorithm_update': 0.005683536783568513,\n",
       "   'loss': 0.6817524252753508,\n",
       "   'time_step': 0.005947953164194913,\n",
       "   'td_error': 1.188272377368648,\n",
       "   'value_scale': 1.0975938445805873,\n",
       "   'environment': 181.3}),\n",
       " (2,\n",
       "  {'time_sample_batch': 0.00013021533694285636,\n",
       "   'time_algorithm_update': 0.005531626962727852,\n",
       "   'loss': 0.6656075393893446,\n",
       "   'time_step': 0.005779766531443565,\n",
       "   'td_error': 1.165678379460701,\n",
       "   'value_scale': 1.0862695665836037,\n",
       "   'environment': 200.0})]"
      ]
     },
     "execution_count": 9,
     "metadata": {},
     "output_type": "execute_result"
    }
   ],
   "source": [
    "agent = d3rlpy.algos.DiscreteCQL(use_gpu=False)\n",
    "\n",
    "agent.fit(\n",
    "    dataset,\n",
    "    eval_episodes=dataset,\n",
    "    n_epochs=2,\n",
    "    scorers={\n",
    "        'td_error': td_error_scorer,\n",
    "        'value_scale': average_value_estimation_scorer,\n",
    "        'environment': evaluate_on_environment(env)\n",
    "    }\n",
    ")"
   ]
  },
  {
   "cell_type": "code",
   "execution_count": 10,
   "metadata": {},
   "outputs": [
    {
     "name": "stdout",
     "output_type": "stream",
     "text": [
      "2022-05-21 20:01.30 [debug    ] RoundIterator is selected.\n",
      "2022-05-21 20:01.30 [info     ] Directory is created at d3rlpy_logs/DiscreteCQL_20220521200130\n",
      "2022-05-21 20:01.30 [debug    ] Building models...\n",
      "2022-05-21 20:01.30 [debug    ] Models have been built.\n",
      "2022-05-21 20:01.30 [info     ] Parameters are saved to d3rlpy_logs/DiscreteCQL_20220521200130/params.json params={'action_scaler': None, 'alpha': 1.0, 'batch_size': 32, 'encoder_factory': {'type': 'default', 'params': {'activation': 'relu', 'use_batch_norm': False, 'dropout_rate': None}}, 'gamma': 0.99, 'generated_maxlen': 100000, 'learning_rate': 6.25e-05, 'n_critics': 1, 'n_frames': 1, 'n_steps': 1, 'optim_factory': {'optim_cls': 'Adam', 'betas': (0.9, 0.999), 'eps': 1e-08, 'weight_decay': 0, 'amsgrad': False}, 'q_func_factory': {'type': 'mean', 'params': {'share_encoder': False}}, 'real_ratio': 1.0, 'reward_scaler': None, 'scaler': None, 'target_update_interval': 8000, 'use_gpu': None, 'algorithm': 'DiscreteCQL', 'observation_shape': (4,), 'action_size': 2}\n"
     ]
    },
    {
     "data": {
      "application/vnd.jupyter.widget-view+json": {
       "model_id": "e09ab9d3853c46e58491101b6ba9c70a",
       "version_major": 2,
       "version_minor": 0
      },
      "text/plain": [
       "Epoch 1/2:   0%|          | 0/9349 [00:00<?, ?it/s]"
      ]
     },
     "metadata": {},
     "output_type": "display_data"
    },
    {
     "name": "stdout",
     "output_type": "stream",
     "text": [
      "2022-05-21 20:02.50 [info     ] DiscreteCQL_20220521200130: epoch=1 step=9349 epoch=1 metrics={'time_sample_batch': 0.00013286542836351566, 'time_algorithm_update': 0.005554967008691279, 'loss': 0.6820018052710533, 'time_step': 0.0059076453392640045, 'td_error': 1.103101697128133, 'value_scale': 2.043517615620176, 'environment': 200.0} step=9349\n",
      "2022-05-21 20:02.51 [info     ] Model parameters are saved to d3rlpy_logs/DiscreteCQL_20220521200130/model_9349.pt\n"
     ]
    },
    {
     "data": {
      "application/vnd.jupyter.widget-view+json": {
       "model_id": "7109d71e111a408482e63684a6a13b59",
       "version_major": 2,
       "version_minor": 0
      },
      "text/plain": [
       "Epoch 2/2:   0%|          | 0/9349 [00:00<?, ?it/s]"
      ]
     },
     "metadata": {},
     "output_type": "display_data"
    },
    {
     "name": "stdout",
     "output_type": "stream",
     "text": [
      "2022-05-21 20:04.32 [info     ] DiscreteCQL_20220521200130: epoch=2 step=18698 epoch=2 metrics={'time_sample_batch': 0.00015564132647178226, 'time_algorithm_update': 0.007047073919386236, 'loss': 0.688243582951524, 'time_step': 0.007468992432804334, 'td_error': 1.1286719410555313, 'value_scale': 3.09165765321609, 'environment': 200.0} step=18698\n",
      "2022-05-21 20:04.32 [info     ] Model parameters are saved to d3rlpy_logs/DiscreteCQL_20220521200130/model_18698.pt\n"
     ]
    },
    {
     "data": {
      "text/plain": [
       "[(1,\n",
       "  {'time_sample_batch': 0.00013286542836351566,\n",
       "   'time_algorithm_update': 0.005554967008691279,\n",
       "   'loss': 0.6820018052710533,\n",
       "   'time_step': 0.0059076453392640045,\n",
       "   'td_error': 1.103101697128133,\n",
       "   'value_scale': 2.043517615620176,\n",
       "   'environment': 200.0}),\n",
       " (2,\n",
       "  {'time_sample_batch': 0.00015564132647178226,\n",
       "   'time_algorithm_update': 0.007047073919386236,\n",
       "   'loss': 0.688243582951524,\n",
       "   'time_step': 0.007468992432804334,\n",
       "   'td_error': 1.1286719410555313,\n",
       "   'value_scale': 3.09165765321609,\n",
       "   'environment': 200.0})]"
      ]
     },
     "execution_count": 10,
     "metadata": {},
     "output_type": "execute_result"
    }
   ],
   "source": [
    "augmented_agent = d3rlpy.algos.DiscreteCQL(use_gpu=False)\n",
    "\n",
    "augmented_agent.fit(\n",
    "    augmented_dataset,\n",
    "    eval_episodes=augmented_dataset,\n",
    "    n_epochs=2,\n",
    "    scorers={\n",
    "        'td_error': td_error_scorer,\n",
    "        'value_scale': average_value_estimation_scorer,\n",
    "        'environment': evaluate_on_environment(env)\n",
    "    }\n",
    ")"
   ]
  },
  {
   "cell_type": "code",
   "execution_count": null,
   "metadata": {},
   "outputs": [],
   "source": []
  }
 ],
 "metadata": {
  "kernelspec": {
   "display_name": "Python 3.10.4 64-bit",
   "language": "python",
   "name": "python3"
  },
  "language_info": {
   "codemirror_mode": {
    "name": "ipython",
    "version": 3
   },
   "file_extension": ".py",
   "mimetype": "text/x-python",
   "name": "python",
   "nbconvert_exporter": "python",
   "pygments_lexer": "ipython3",
   "version": "3.10.4"
  },
  "orig_nbformat": 4,
  "vscode": {
   "interpreter": {
    "hash": "e7370f93d1d0cde622a1f8e1c04877d8463912d04d973331ad4851f04de6915a"
   }
  }
 },
 "nbformat": 4,
 "nbformat_minor": 2
}
