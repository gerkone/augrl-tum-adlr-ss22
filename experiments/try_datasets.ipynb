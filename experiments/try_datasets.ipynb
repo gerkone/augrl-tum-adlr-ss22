{
 "cells": [
  {
   "cell_type": "code",
   "execution_count": 12,
   "metadata": {},
   "outputs": [],
   "source": [
    "import d3rlpy\n",
    "from d3rlpy.metrics.scorer import average_value_estimation_scorer, td_error_scorer, evaluate_on_environment\n",
    "\n",
    "import numpy as np"
   ]
  },
  {
   "cell_type": "code",
   "execution_count": 13,
   "metadata": {},
   "outputs": [],
   "source": [
    "def augment_gaussian(dataset: d3rlpy.dataset.MDPDataset, w: float = 1e-3):\n",
    "    observations = dataset.observations.copy()\n",
    "    actions = dataset.actions.copy()\n",
    "    rewards = dataset.rewards.copy()\n",
    "    terminals = dataset.terminals.copy()\n",
    "    observations = observations + w * np.random.normal(loc=0, scale=1, size=observations.shape)\n",
    "    return observations, actions, rewards, terminals\n"
   ]
  },
  {
   "cell_type": "code",
   "execution_count": 18,
   "metadata": {},
   "outputs": [
    {
     "name": "stderr",
     "output_type": "stream",
     "text": [
      "/home/gerkone/.local/lib/python3.10/site-packages/gym/envs/registration.py:505: UserWarning: \u001b[33mWARN: The environment CartPole-v0 is out of date. You should consider upgrading to version `v1` with the environment ID `CartPole-v1`.\u001b[0m\n",
      "  logger.warn(\n"
     ]
    }
   ],
   "source": [
    "dataset, env = d3rlpy.datasets.get_cartpole()"
   ]
  },
  {
   "cell_type": "code",
   "execution_count": 19,
   "metadata": {},
   "outputs": [],
   "source": [
    "aug_observations, aug_actions, aug_rewards, aug_terminals = augment_gaussian(dataset)\n",
    "augmented_dataset = d3rlpy.dataset.MDPDataset(\n",
    "    observations=np.concatenate((dataset.observations, aug_observations)),\n",
    "    actions=np.concatenate((dataset.actions, aug_actions)),\n",
    "    rewards=np.concatenate((dataset.rewards, aug_rewards)),\n",
    "    terminals=np.concatenate((dataset.terminals, aug_terminals))\n",
    ")"
   ]
  },
  {
   "cell_type": "code",
   "execution_count": 20,
   "metadata": {},
   "outputs": [],
   "source": [
    "assert augmented_dataset.observations.shape[0] == dataset.observations.shape[0] * 2"
   ]
  },
  {
   "cell_type": "code",
   "execution_count": 21,
   "metadata": {},
   "outputs": [
    {
     "name": "stdout",
     "output_type": "stream",
     "text": [
      "2022-05-21 12:33.25 [debug    ] RoundIterator is selected.\n",
      "2022-05-21 12:33.25 [info     ] Directory is created at d3rlpy_logs/DiscreteCQL_20220521123325\n",
      "2022-05-21 12:33.25 [debug    ] Building models...\n",
      "2022-05-21 12:33.25 [debug    ] Models have been built.\n",
      "2022-05-21 12:33.25 [info     ] Parameters are saved to d3rlpy_logs/DiscreteCQL_20220521123325/params.json params={'action_scaler': None, 'alpha': 1.0, 'batch_size': 32, 'encoder_factory': {'type': 'default', 'params': {'activation': 'relu', 'use_batch_norm': False, 'dropout_rate': None}}, 'gamma': 0.99, 'generated_maxlen': 100000, 'learning_rate': 6.25e-05, 'n_critics': 1, 'n_frames': 1, 'n_steps': 1, 'optim_factory': {'optim_cls': 'Adam', 'betas': (0.9, 0.999), 'eps': 1e-08, 'weight_decay': 0, 'amsgrad': False}, 'q_func_factory': {'type': 'mean', 'params': {'share_encoder': False}}, 'real_ratio': 1.0, 'reward_scaler': None, 'scaler': None, 'target_update_interval': 8000, 'use_gpu': None, 'algorithm': 'DiscreteCQL', 'observation_shape': (4,), 'action_size': 2}\n"
     ]
    },
    {
     "data": {
      "application/vnd.jupyter.widget-view+json": {
       "model_id": "42ba3c9a690d4d2ba1f56ef88de18c37",
       "version_major": 2,
       "version_minor": 0
      },
      "text/plain": [
       "Epoch 1/2:   0%|          | 0/3116 [00:00<?, ?it/s]"
      ]
     },
     "metadata": {},
     "output_type": "display_data"
    },
    {
     "name": "stdout",
     "output_type": "stream",
     "text": [
      "2022-05-21 12:33.53 [info     ] DiscreteCQL_20220521123325: epoch=1 step=3116 epoch=1 metrics={'time_sample_batch': 0.0001411322451678412, 'time_algorithm_update': 0.005896328961589064, 'loss': 0.6818271728665287, 'time_step': 0.006170943628073657, 'td_error': 1.1299342395104832, 'value_scale': 1.069986070418159, 'environment': 200.0} step=3116\n",
      "2022-05-21 12:33.53 [info     ] Model parameters are saved to d3rlpy_logs/DiscreteCQL_20220521123325/model_3116.pt\n"
     ]
    },
    {
     "data": {
      "application/vnd.jupyter.widget-view+json": {
       "model_id": "60b8455a4ccf409383eda3e916c63863",
       "version_major": 2,
       "version_minor": 0
      },
      "text/plain": [
       "Epoch 2/2:   0%|          | 0/3116 [00:00<?, ?it/s]"
      ]
     },
     "metadata": {},
     "output_type": "display_data"
    },
    {
     "name": "stdout",
     "output_type": "stream",
     "text": [
      "2022-05-21 12:34.26 [info     ] DiscreteCQL_20220521123325: epoch=2 step=6232 epoch=2 metrics={'time_sample_batch': 0.0001548657215299594, 'time_algorithm_update': 0.006787309291580063, 'loss': 0.6655730586379422, 'time_step': 0.0070816638840025285, 'td_error': 1.189717296936811, 'value_scale': 1.0655549142033225, 'environment': 200.0} step=6232\n",
      "2022-05-21 12:34.26 [info     ] Model parameters are saved to d3rlpy_logs/DiscreteCQL_20220521123325/model_6232.pt\n"
     ]
    },
    {
     "data": {
      "text/plain": [
       "[(1,\n",
       "  {'time_sample_batch': 0.0001411322451678412,\n",
       "   'time_algorithm_update': 0.005896328961589064,\n",
       "   'loss': 0.6818271728665287,\n",
       "   'time_step': 0.006170943628073657,\n",
       "   'td_error': 1.1299342395104832,\n",
       "   'value_scale': 1.069986070418159,\n",
       "   'environment': 200.0}),\n",
       " (2,\n",
       "  {'time_sample_batch': 0.0001548657215299594,\n",
       "   'time_algorithm_update': 0.006787309291580063,\n",
       "   'loss': 0.6655730586379422,\n",
       "   'time_step': 0.0070816638840025285,\n",
       "   'td_error': 1.189717296936811,\n",
       "   'value_scale': 1.0655549142033225,\n",
       "   'environment': 200.0})]"
      ]
     },
     "execution_count": 21,
     "metadata": {},
     "output_type": "execute_result"
    }
   ],
   "source": [
    "agent = d3rlpy.algos.DiscreteCQL(use_gpu=False)\n",
    "\n",
    "agent.fit(\n",
    "    dataset,\n",
    "    eval_episodes=dataset,\n",
    "    n_epochs=2,\n",
    "    scorers={\n",
    "        'td_error': td_error_scorer,\n",
    "        'value_scale': average_value_estimation_scorer,\n",
    "        'environment': evaluate_on_environment(env)\n",
    "    }\n",
    ")"
   ]
  },
  {
   "cell_type": "code",
   "execution_count": 23,
   "metadata": {},
   "outputs": [
    {
     "name": "stdout",
     "output_type": "stream",
     "text": [
      "2022-05-21 12:34.34 [debug    ] RoundIterator is selected.\n",
      "2022-05-21 12:34.34 [info     ] Directory is created at d3rlpy_logs/DiscreteCQL_20220521123434\n",
      "2022-05-21 12:34.34 [debug    ] Building models...\n",
      "2022-05-21 12:34.34 [debug    ] Models have been built.\n",
      "2022-05-21 12:34.34 [info     ] Parameters are saved to d3rlpy_logs/DiscreteCQL_20220521123434/params.json params={'action_scaler': None, 'alpha': 1.0, 'batch_size': 32, 'encoder_factory': {'type': 'default', 'params': {'activation': 'relu', 'use_batch_norm': False, 'dropout_rate': None}}, 'gamma': 0.99, 'generated_maxlen': 100000, 'learning_rate': 6.25e-05, 'n_critics': 1, 'n_frames': 1, 'n_steps': 1, 'optim_factory': {'optim_cls': 'Adam', 'betas': (0.9, 0.999), 'eps': 1e-08, 'weight_decay': 0, 'amsgrad': False}, 'q_func_factory': {'type': 'mean', 'params': {'share_encoder': False}}, 'real_ratio': 1.0, 'reward_scaler': None, 'scaler': None, 'target_update_interval': 8000, 'use_gpu': None, 'algorithm': 'DiscreteCQL', 'observation_shape': (4,), 'action_size': 2}\n"
     ]
    },
    {
     "data": {
      "application/vnd.jupyter.widget-view+json": {
       "model_id": "ed03f2f1f80742e1ad7aa64450022058",
       "version_major": 2,
       "version_minor": 0
      },
      "text/plain": [
       "Epoch 1/2:   0%|          | 0/6239 [00:00<?, ?it/s]"
      ]
     },
     "metadata": {},
     "output_type": "display_data"
    },
    {
     "name": "stdout",
     "output_type": "stream",
     "text": [
      "2022-05-21 12:35.46 [info     ] DiscreteCQL_20220521123434: epoch=1 step=6239 epoch=1 metrics={'time_sample_batch': 0.00015931290719615744, 'time_algorithm_update': 0.00712032928778625, 'loss': 0.6923326315893579, 'time_step': 0.007490009274844234, 'td_error': 1.0970204699222579, 'value_scale': 0.9978815486136756, 'environment': 147.7} step=6239\n",
      "2022-05-21 12:35.46 [info     ] Model parameters are saved to d3rlpy_logs/DiscreteCQL_20220521123434/model_6239.pt\n"
     ]
    },
    {
     "data": {
      "application/vnd.jupyter.widget-view+json": {
       "model_id": "204283f3d7044a798535b7cf07b23fb9",
       "version_major": 2,
       "version_minor": 0
      },
      "text/plain": [
       "Epoch 2/2:   0%|          | 0/6239 [00:00<?, ?it/s]"
      ]
     },
     "metadata": {},
     "output_type": "display_data"
    },
    {
     "name": "stdout",
     "output_type": "stream",
     "text": [
      "2022-05-21 12:37.04 [info     ] DiscreteCQL_20220521123434: epoch=2 step=12478 epoch=2 metrics={'time_sample_batch': 0.00016153418572595972, 'time_algorithm_update': 0.007489290388755107, 'loss': 0.6966589711323479, 'time_step': 0.007864303553710096, 'td_error': 1.0851963977693706, 'value_scale': 2.019121061657534, 'environment': 200.0} step=12478\n",
      "2022-05-21 12:37.04 [info     ] Model parameters are saved to d3rlpy_logs/DiscreteCQL_20220521123434/model_12478.pt\n"
     ]
    },
    {
     "data": {
      "text/plain": [
       "[(1,\n",
       "  {'time_sample_batch': 0.00015931290719615744,\n",
       "   'time_algorithm_update': 0.00712032928778625,\n",
       "   'loss': 0.6923326315893579,\n",
       "   'time_step': 0.007490009274844234,\n",
       "   'td_error': 1.0970204699222579,\n",
       "   'value_scale': 0.9978815486136756,\n",
       "   'environment': 147.7}),\n",
       " (2,\n",
       "  {'time_sample_batch': 0.00016153418572595972,\n",
       "   'time_algorithm_update': 0.007489290388755107,\n",
       "   'loss': 0.6966589711323479,\n",
       "   'time_step': 0.007864303553710096,\n",
       "   'td_error': 1.0851963977693706,\n",
       "   'value_scale': 2.019121061657534,\n",
       "   'environment': 200.0})]"
      ]
     },
     "execution_count": 23,
     "metadata": {},
     "output_type": "execute_result"
    }
   ],
   "source": [
    "augmented_agent = d3rlpy.algos.DiscreteCQL(use_gpu=False)\n",
    "\n",
    "augmented_agent.fit(\n",
    "    augmented_dataset,\n",
    "    eval_episodes=augmented_dataset,\n",
    "    n_epochs=2,\n",
    "    scorers={\n",
    "        'td_error': td_error_scorer,\n",
    "        'value_scale': average_value_estimation_scorer,\n",
    "        'environment': evaluate_on_environment(env)\n",
    "    }\n",
    ")"
   ]
  },
  {
   "cell_type": "code",
   "execution_count": null,
   "metadata": {},
   "outputs": [],
   "source": []
  }
 ],
 "metadata": {
  "kernelspec": {
   "display_name": "Python 3.10.4 64-bit",
   "language": "python",
   "name": "python3"
  },
  "language_info": {
   "codemirror_mode": {
    "name": "ipython",
    "version": 3
   },
   "file_extension": ".py",
   "mimetype": "text/x-python",
   "name": "python",
   "nbconvert_exporter": "python",
   "pygments_lexer": "ipython3",
   "version": "3.10.4"
  },
  "orig_nbformat": 4,
  "vscode": {
   "interpreter": {
    "hash": "e7370f93d1d0cde622a1f8e1c04877d8463912d04d973331ad4851f04de6915a"
   }
  }
 },
 "nbformat": 4,
 "nbformat_minor": 2
}
