{
 "cells": [
  {
   "cell_type": "code",
   "execution_count": 1,
   "metadata": {},
   "outputs": [],
   "source": [
    "%load_ext autoreload\n",
    "%autoreload 2"
   ]
  },
  {
   "cell_type": "code",
   "execution_count": 2,
   "metadata": {},
   "outputs": [],
   "source": [
    "import d3rlpy\n",
    "from d3rlpy.metrics.scorer import average_value_estimation_scorer, td_error_scorer, evaluate_on_environment\n",
    "\n",
    "import warnings\n",
    "warnings.filterwarnings(\"ignore\")\n",
    "\n",
    "import os\n",
    "os.chdir(\"..\")\n",
    "\n",
    "from augmentation.augmented_dataset import MDPDatasetAugmented\n"
   ]
  },
  {
   "cell_type": "code",
   "execution_count": 9,
   "metadata": {},
   "outputs": [
    {
     "name": "stdout",
     "output_type": "stream",
     "text": [
      "Downloading dataset: http://rail.eecs.berkeley.edu/datasets/offline_rl/hand_dapg/door-v0_demos_clipped.hdf5 to /home/gerkone/.d4rl/datasets/door-v0_demos_clipped.hdf5\n"
     ]
    },
    {
     "name": "stderr",
     "output_type": "stream",
     "text": [
      "load datafile: 100%|██████████| 7/7 [00:00<00:00, 119.96it/s]\n"
     ]
    }
   ],
   "source": [
    "os.environ[\"D4RL_SUPPRESS_IMPORT_ERROR\"] = \"1\"\n",
    "dataset, env = d3rlpy.datasets.get_d4rl(\"door-human-v0\")"
   ]
  },
  {
   "cell_type": "code",
   "execution_count": 10,
   "metadata": {},
   "outputs": [],
   "source": [
    "AUGMENTATIONS = [\"gaussian\", \"mixup\"]"
   ]
  },
  {
   "cell_type": "code",
   "execution_count": 11,
   "metadata": {},
   "outputs": [],
   "source": [
    "augmented_dataset = MDPDatasetAugmented.from_mdpdataset(dataset, augmentations=AUGMENTATIONS)"
   ]
  },
  {
   "cell_type": "code",
   "execution_count": 12,
   "metadata": {},
   "outputs": [],
   "source": [
    "assert augmented_dataset.observations.shape[0] == dataset.observations.shape[0] * (1 + len(AUGMENTATIONS))"
   ]
  },
  {
   "cell_type": "code",
   "execution_count": 13,
   "metadata": {},
   "outputs": [
    {
     "name": "stdout",
     "output_type": "stream",
     "text": [
      "2022-05-22 15:40.50 [debug    ] RoundIterator is selected.\n",
      "2022-05-22 15:40.50 [info     ] Directory is created at d3rlpy_logs/CQL_20220522154050\n",
      "2022-05-22 15:40.50 [debug    ] Building models...\n",
      "2022-05-22 15:40.50 [debug    ] Models have been built.\n",
      "2022-05-22 15:40.50 [info     ] Parameters are saved to d3rlpy_logs/CQL_20220522154050/params.json params={'action_scaler': None, 'actor_encoder_factory': {'type': 'default', 'params': {'activation': 'relu', 'use_batch_norm': False, 'dropout_rate': None}}, 'actor_learning_rate': 0.0001, 'actor_optim_factory': {'optim_cls': 'Adam', 'betas': (0.9, 0.999), 'eps': 1e-08, 'weight_decay': 0, 'amsgrad': False}, 'alpha_learning_rate': 0.0001, 'alpha_optim_factory': {'optim_cls': 'Adam', 'betas': (0.9, 0.999), 'eps': 1e-08, 'weight_decay': 0, 'amsgrad': False}, 'alpha_threshold': 10.0, 'batch_size': 256, 'conservative_weight': 5.0, 'critic_encoder_factory': {'type': 'default', 'params': {'activation': 'relu', 'use_batch_norm': False, 'dropout_rate': None}}, 'critic_learning_rate': 0.0003, 'critic_optim_factory': {'optim_cls': 'Adam', 'betas': (0.9, 0.999), 'eps': 1e-08, 'weight_decay': 0, 'amsgrad': False}, 'gamma': 0.99, 'generated_maxlen': 100000, 'initial_alpha': 1.0, 'initial_temperature': 1.0, 'n_action_samples': 10, 'n_critics': 2, 'n_frames': 1, 'n_steps': 1, 'q_func_factory': {'type': 'mean', 'params': {'share_encoder': False}}, 'real_ratio': 1.0, 'reward_scaler': None, 'scaler': None, 'soft_q_backup': False, 'tau': 0.005, 'temp_learning_rate': 0.0001, 'temp_optim_factory': {'optim_cls': 'Adam', 'betas': (0.9, 0.999), 'eps': 1e-08, 'weight_decay': 0, 'amsgrad': False}, 'use_gpu': None, 'algorithm': 'CQL', 'observation_shape': (39,), 'action_size': 28}\n"
     ]
    },
    {
     "data": {
      "application/vnd.jupyter.widget-view+json": {
       "model_id": "1b66c1de8c9244ed98dd2ea8815c89f2",
       "version_major": 2,
       "version_minor": 0
      },
      "text/plain": [
       "Epoch 1/6:   0%|          | 0/26 [00:00<?, ?it/s]"
      ]
     },
     "metadata": {},
     "output_type": "display_data"
    },
    {
     "name": "stdout",
     "output_type": "stream",
     "text": [
      "2022-05-22 15:41.15 [info     ] CQL_20220522154050: epoch=1 step=26 epoch=1 metrics={'time_sample_batch': 0.0009445043710561899, 'time_algorithm_update': 0.7118320373388437, 'temp_loss': 46.71723659221943, 'temp': 0.998650835110591, 'alpha_loss': -102.42353615394005, 'alpha': 1.0013495683670044, 'critic_loss': 175.02379256028397, 'actor_loss': -18.812982999361477, 'time_step': 0.713067889213562, 'td_error': 35.472251812045, 'value_scale': 0.3178841885438229, 'environment': -53.841486284439476} step=26\n",
      "2022-05-22 15:41.15 [info     ] Model parameters are saved to d3rlpy_logs/CQL_20220522154050/model_26.pt\n"
     ]
    },
    {
     "data": {
      "application/vnd.jupyter.widget-view+json": {
       "model_id": "ea28f5e5a4274c208696a2f708b2c326",
       "version_major": 2,
       "version_minor": 0
      },
      "text/plain": [
       "Epoch 2/6:   0%|          | 0/26 [00:00<?, ?it/s]"
      ]
     },
     "metadata": {},
     "output_type": "display_data"
    },
    {
     "name": "stdout",
     "output_type": "stream",
     "text": [
      "2022-05-22 15:41.41 [info     ] CQL_20220522154050: epoch=2 step=52 epoch=2 metrics={'time_sample_batch': 0.0009436699060293344, 'time_algorithm_update': 0.7203797652171209, 'temp_loss': 46.82242833651029, 'temp': 0.9960554769405952, 'alpha_loss': -94.40246992844801, 'alpha': 1.0039218939267671, 'critic_loss': 144.78933803851788, 'actor_loss': -18.712352605966423, 'time_step': 0.7216175886300894, 'td_error': 26.477559076208458, 'value_scale': -0.05474662210687835, 'environment': -54.2223686593714} step=52\n",
      "2022-05-22 15:41.41 [info     ] Model parameters are saved to d3rlpy_logs/CQL_20220522154050/model_52.pt\n"
     ]
    },
    {
     "data": {
      "application/vnd.jupyter.widget-view+json": {
       "model_id": "833f2bf63fd34cc89e955ece5e6be082",
       "version_major": 2,
       "version_minor": 0
      },
      "text/plain": [
       "Epoch 3/6:   0%|          | 0/26 [00:00<?, ?it/s]"
      ]
     },
     "metadata": {},
     "output_type": "display_data"
    },
    {
     "name": "stdout",
     "output_type": "stream",
     "text": [
      "2022-05-22 15:42.03 [info     ] CQL_20220522154050: epoch=3 step=78 epoch=3 metrics={'time_sample_batch': 0.0008252400618333083, 'time_algorithm_update': 0.6149879327187171, 'temp_loss': 46.452384361853966, 'temp': 0.9934693047633538, 'alpha_loss': -80.12102068387546, 'alpha': 1.006357376392071, 'critic_loss': 100.80487676767203, 'actor_loss': -16.39248569195087, 'time_step': 0.6160286664962769, 'td_error': 25.697336406817406, 'value_scale': -0.5923816384115537, 'environment': -57.62098748037359} step=78\n",
      "2022-05-22 15:42.03 [info     ] Model parameters are saved to d3rlpy_logs/CQL_20220522154050/model_78.pt\n"
     ]
    },
    {
     "data": {
      "application/vnd.jupyter.widget-view+json": {
       "model_id": "71bd8c5c5cd04711be25c3825eb724ac",
       "version_major": 2,
       "version_minor": 0
      },
      "text/plain": [
       "Epoch 4/6:   0%|          | 0/26 [00:00<?, ?it/s]"
      ]
     },
     "metadata": {},
     "output_type": "display_data"
    },
    {
     "name": "stdout",
     "output_type": "stream",
     "text": [
      "2022-05-22 15:42.26 [info     ] CQL_20220522154050: epoch=4 step=104 epoch=4 metrics={'time_sample_batch': 0.0009518770071176382, 'time_algorithm_update': 0.6013142053897564, 'temp_loss': 44.77232889028696, 'temp': 0.9909158990933344, 'alpha_loss': -63.35229829641489, 'alpha': 1.0085399013299208, 'critic_loss': 74.43186305119441, 'actor_loss': -13.12734343455388, 'time_step': 0.602516586963947, 'td_error': 31.7959023079784, 'value_scale': 1.1777528064872242, 'environment': -57.25170885213329} step=104\n",
      "2022-05-22 15:42.26 [info     ] Model parameters are saved to d3rlpy_logs/CQL_20220522154050/model_104.pt\n"
     ]
    },
    {
     "data": {
      "application/vnd.jupyter.widget-view+json": {
       "model_id": "0d657f7f28df4ec390190188d34122a3",
       "version_major": 2,
       "version_minor": 0
      },
      "text/plain": [
       "Epoch 5/6:   0%|          | 0/26 [00:00<?, ?it/s]"
      ]
     },
     "metadata": {},
     "output_type": "display_data"
    },
    {
     "name": "stdout",
     "output_type": "stream",
     "text": [
      "2022-05-22 15:42.48 [info     ] CQL_20220522154050: epoch=5 step=130 epoch=5 metrics={'time_sample_batch': 0.0008440292798555815, 'time_algorithm_update': 0.6020467373041006, 'temp_loss': 42.34855431776781, 'temp': 0.9884487207119281, 'alpha_loss': -48.96703485342172, 'alpha': 1.0103995891717763, 'critic_loss': 58.9422784952017, 'actor_loss': -10.712369038508488, 'time_step': 0.6031304322756253, 'td_error': 31.70658615559485, 'value_scale': 2.720891158987111, 'environment': -52.99139326943612} step=130\n",
      "2022-05-22 15:42.48 [info     ] Model parameters are saved to d3rlpy_logs/CQL_20220522154050/model_130.pt\n"
     ]
    },
    {
     "data": {
      "application/vnd.jupyter.widget-view+json": {
       "model_id": "d748d84631814d61a7df95f86c0a5694",
       "version_major": 2,
       "version_minor": 0
      },
      "text/plain": [
       "Epoch 6/6:   0%|          | 0/26 [00:00<?, ?it/s]"
      ]
     },
     "metadata": {},
     "output_type": "display_data"
    },
    {
     "name": "stdout",
     "output_type": "stream",
     "text": [
      "2022-05-22 15:43.12 [info     ] CQL_20220522154050: epoch=6 step=156 epoch=6 metrics={'time_sample_batch': 0.0008664314563457782, 'time_algorithm_update': 0.6509894316013043, 'temp_loss': 41.18097921518179, 'temp': 0.986058411689905, 'alpha_loss': -34.56473497244028, 'alpha': 1.0119349681414092, 'critic_loss': 44.56248298058143, 'actor_loss': -8.016905711247372, 'time_step': 0.6521049646230844, 'td_error': 33.805772095196, 'value_scale': 2.6485470197200196, 'environment': -53.03238902781733} step=156\n",
      "2022-05-22 15:43.12 [info     ] Model parameters are saved to d3rlpy_logs/CQL_20220522154050/model_156.pt\n"
     ]
    },
    {
     "data": {
      "text/plain": [
       "[(1,\n",
       "  {'time_sample_batch': 0.0009445043710561899,\n",
       "   'time_algorithm_update': 0.7118320373388437,\n",
       "   'temp_loss': 46.71723659221943,\n",
       "   'temp': 0.998650835110591,\n",
       "   'alpha_loss': -102.42353615394005,\n",
       "   'alpha': 1.0013495683670044,\n",
       "   'critic_loss': 175.02379256028397,\n",
       "   'actor_loss': -18.812982999361477,\n",
       "   'time_step': 0.713067889213562,\n",
       "   'td_error': 35.472251812045,\n",
       "   'value_scale': 0.3178841885438229,\n",
       "   'environment': -53.841486284439476}),\n",
       " (2,\n",
       "  {'time_sample_batch': 0.0009436699060293344,\n",
       "   'time_algorithm_update': 0.7203797652171209,\n",
       "   'temp_loss': 46.82242833651029,\n",
       "   'temp': 0.9960554769405952,\n",
       "   'alpha_loss': -94.40246992844801,\n",
       "   'alpha': 1.0039218939267671,\n",
       "   'critic_loss': 144.78933803851788,\n",
       "   'actor_loss': -18.712352605966423,\n",
       "   'time_step': 0.7216175886300894,\n",
       "   'td_error': 26.477559076208458,\n",
       "   'value_scale': -0.05474662210687835,\n",
       "   'environment': -54.2223686593714}),\n",
       " (3,\n",
       "  {'time_sample_batch': 0.0008252400618333083,\n",
       "   'time_algorithm_update': 0.6149879327187171,\n",
       "   'temp_loss': 46.452384361853966,\n",
       "   'temp': 0.9934693047633538,\n",
       "   'alpha_loss': -80.12102068387546,\n",
       "   'alpha': 1.006357376392071,\n",
       "   'critic_loss': 100.80487676767203,\n",
       "   'actor_loss': -16.39248569195087,\n",
       "   'time_step': 0.6160286664962769,\n",
       "   'td_error': 25.697336406817406,\n",
       "   'value_scale': -0.5923816384115537,\n",
       "   'environment': -57.62098748037359}),\n",
       " (4,\n",
       "  {'time_sample_batch': 0.0009518770071176382,\n",
       "   'time_algorithm_update': 0.6013142053897564,\n",
       "   'temp_loss': 44.77232889028696,\n",
       "   'temp': 0.9909158990933344,\n",
       "   'alpha_loss': -63.35229829641489,\n",
       "   'alpha': 1.0085399013299208,\n",
       "   'critic_loss': 74.43186305119441,\n",
       "   'actor_loss': -13.12734343455388,\n",
       "   'time_step': 0.602516586963947,\n",
       "   'td_error': 31.7959023079784,\n",
       "   'value_scale': 1.1777528064872242,\n",
       "   'environment': -57.25170885213329}),\n",
       " (5,\n",
       "  {'time_sample_batch': 0.0008440292798555815,\n",
       "   'time_algorithm_update': 0.6020467373041006,\n",
       "   'temp_loss': 42.34855431776781,\n",
       "   'temp': 0.9884487207119281,\n",
       "   'alpha_loss': -48.96703485342172,\n",
       "   'alpha': 1.0103995891717763,\n",
       "   'critic_loss': 58.9422784952017,\n",
       "   'actor_loss': -10.712369038508488,\n",
       "   'time_step': 0.6031304322756253,\n",
       "   'td_error': 31.70658615559485,\n",
       "   'value_scale': 2.720891158987111,\n",
       "   'environment': -52.99139326943612}),\n",
       " (6,\n",
       "  {'time_sample_batch': 0.0008664314563457782,\n",
       "   'time_algorithm_update': 0.6509894316013043,\n",
       "   'temp_loss': 41.18097921518179,\n",
       "   'temp': 0.986058411689905,\n",
       "   'alpha_loss': -34.56473497244028,\n",
       "   'alpha': 1.0119349681414092,\n",
       "   'critic_loss': 44.56248298058143,\n",
       "   'actor_loss': -8.016905711247372,\n",
       "   'time_step': 0.6521049646230844,\n",
       "   'td_error': 33.805772095196,\n",
       "   'value_scale': 2.6485470197200196,\n",
       "   'environment': -53.03238902781733})]"
      ]
     },
     "execution_count": 13,
     "metadata": {},
     "output_type": "execute_result"
    }
   ],
   "source": [
    "agent = d3rlpy.algos.CQL(use_gpu=False)\n",
    "\n",
    "agent.fit(\n",
    "    dataset,\n",
    "    eval_episodes=dataset,\n",
    "    n_epochs=2 * (1 + len(AUGMENTATIONS)),\n",
    "    scorers={\n",
    "        'td_error': td_error_scorer,\n",
    "        'value_scale': average_value_estimation_scorer,\n",
    "        'environment': evaluate_on_environment(env)\n",
    "    }\n",
    ")"
   ]
  },
  {
   "cell_type": "code",
   "execution_count": 14,
   "metadata": {},
   "outputs": [
    {
     "name": "stdout",
     "output_type": "stream",
     "text": [
      "2022-05-22 15:43.13 [debug    ] RoundIterator is selected.\n",
      "2022-05-22 15:43.13 [info     ] Directory is created at d3rlpy_logs/CQL_20220522154313\n",
      "2022-05-22 15:43.13 [debug    ] Building models...\n",
      "2022-05-22 15:43.13 [debug    ] Models have been built.\n",
      "2022-05-22 15:43.13 [info     ] Parameters are saved to d3rlpy_logs/CQL_20220522154313/params.json params={'action_scaler': None, 'actor_encoder_factory': {'type': 'default', 'params': {'activation': 'relu', 'use_batch_norm': False, 'dropout_rate': None}}, 'actor_learning_rate': 0.0001, 'actor_optim_factory': {'optim_cls': 'Adam', 'betas': (0.9, 0.999), 'eps': 1e-08, 'weight_decay': 0, 'amsgrad': False}, 'alpha_learning_rate': 0.0001, 'alpha_optim_factory': {'optim_cls': 'Adam', 'betas': (0.9, 0.999), 'eps': 1e-08, 'weight_decay': 0, 'amsgrad': False}, 'alpha_threshold': 10.0, 'batch_size': 256, 'conservative_weight': 5.0, 'critic_encoder_factory': {'type': 'default', 'params': {'activation': 'relu', 'use_batch_norm': False, 'dropout_rate': None}}, 'critic_learning_rate': 0.0003, 'critic_optim_factory': {'optim_cls': 'Adam', 'betas': (0.9, 0.999), 'eps': 1e-08, 'weight_decay': 0, 'amsgrad': False}, 'gamma': 0.99, 'generated_maxlen': 100000, 'initial_alpha': 1.0, 'initial_temperature': 1.0, 'n_action_samples': 10, 'n_critics': 2, 'n_frames': 1, 'n_steps': 1, 'q_func_factory': {'type': 'mean', 'params': {'share_encoder': False}}, 'real_ratio': 1.0, 'reward_scaler': None, 'scaler': None, 'soft_q_backup': False, 'tau': 0.005, 'temp_learning_rate': 0.0001, 'temp_optim_factory': {'optim_cls': 'Adam', 'betas': (0.9, 0.999), 'eps': 1e-08, 'weight_decay': 0, 'amsgrad': False}, 'use_gpu': None, 'algorithm': 'CQL', 'observation_shape': (39,), 'action_size': 28}\n"
     ]
    },
    {
     "data": {
      "application/vnd.jupyter.widget-view+json": {
       "model_id": "6a27852ef2554b8f9f8ea29a5ef36558",
       "version_major": 2,
       "version_minor": 0
      },
      "text/plain": [
       "Epoch 1/2:   0%|          | 0/78 [00:00<?, ?it/s]"
      ]
     },
     "metadata": {},
     "output_type": "display_data"
    },
    {
     "name": "stdout",
     "output_type": "stream",
     "text": [
      "2022-05-22 15:44.11 [info     ] CQL_20220522154313: epoch=1 step=78 epoch=1 metrics={'time_sample_batch': 0.0010720338576879257, 'time_algorithm_update': 0.6404838531445234, 'temp_loss': 46.7459525572948, 'temp': 0.996059829607988, 'alpha_loss': -92.82213993561574, 'alpha': 1.003877138480162, 'critic_loss': 144.71215927906525, 'actor_loss': -18.432279317806927, 'time_step': 0.6417846801953438, 'td_error': 25.180772176780298, 'value_scale': -0.18643188069034783, 'environment': -54.66997082253339} step=78\n",
      "2022-05-22 15:44.12 [info     ] Model parameters are saved to d3rlpy_logs/CQL_20220522154313/model_78.pt\n"
     ]
    },
    {
     "data": {
      "application/vnd.jupyter.widget-view+json": {
       "model_id": "df057d11ac514427ae9103c1ab1d8860",
       "version_major": 2,
       "version_minor": 0
      },
      "text/plain": [
       "Epoch 2/2:   0%|          | 0/78 [00:00<?, ?it/s]"
      ]
     },
     "metadata": {},
     "output_type": "display_data"
    },
    {
     "name": "stdout",
     "output_type": "stream",
     "text": [
      "2022-05-22 15:45.07 [info     ] CQL_20220522154313: epoch=2 step=156 epoch=2 metrics={'time_sample_batch': 0.0009337938748873197, 'time_algorithm_update': 0.5982088278501462, 'temp_loss': 44.17121359018179, 'temp': 0.9884171944398147, 'alpha_loss': -59.23591589316344, 'alpha': 1.0106247235567143, 'critic_loss': 80.67120483594063, 'actor_loss': -12.796754641410631, 'time_step': 0.5993590477185372, 'td_error': 27.855670217993087, 'value_scale': 2.626322401517001, 'environment': -53.631392006400134} step=156\n",
      "2022-05-22 15:45.07 [info     ] Model parameters are saved to d3rlpy_logs/CQL_20220522154313/model_156.pt\n"
     ]
    },
    {
     "data": {
      "text/plain": [
       "[(1,\n",
       "  {'time_sample_batch': 0.0010720338576879257,\n",
       "   'time_algorithm_update': 0.6404838531445234,\n",
       "   'temp_loss': 46.7459525572948,\n",
       "   'temp': 0.996059829607988,\n",
       "   'alpha_loss': -92.82213993561574,\n",
       "   'alpha': 1.003877138480162,\n",
       "   'critic_loss': 144.71215927906525,\n",
       "   'actor_loss': -18.432279317806927,\n",
       "   'time_step': 0.6417846801953438,\n",
       "   'td_error': 25.180772176780298,\n",
       "   'value_scale': -0.18643188069034783,\n",
       "   'environment': -54.66997082253339}),\n",
       " (2,\n",
       "  {'time_sample_batch': 0.0009337938748873197,\n",
       "   'time_algorithm_update': 0.5982088278501462,\n",
       "   'temp_loss': 44.17121359018179,\n",
       "   'temp': 0.9884171944398147,\n",
       "   'alpha_loss': -59.23591589316344,\n",
       "   'alpha': 1.0106247235567143,\n",
       "   'critic_loss': 80.67120483594063,\n",
       "   'actor_loss': -12.796754641410631,\n",
       "   'time_step': 0.5993590477185372,\n",
       "   'td_error': 27.855670217993087,\n",
       "   'value_scale': 2.626322401517001,\n",
       "   'environment': -53.631392006400134})]"
      ]
     },
     "execution_count": 14,
     "metadata": {},
     "output_type": "execute_result"
    }
   ],
   "source": [
    "augmented_agent = d3rlpy.algos.CQL(use_gpu=False)\n",
    "\n",
    "augmented_agent.fit(\n",
    "    augmented_dataset,\n",
    "    eval_episodes=augmented_dataset,\n",
    "    n_epochs=2,\n",
    "    scorers={\n",
    "        'td_error': td_error_scorer,\n",
    "        'value_scale': average_value_estimation_scorer,\n",
    "        'environment': evaluate_on_environment(env)\n",
    "    }\n",
    ")"
   ]
  },
  {
   "cell_type": "code",
   "execution_count": null,
   "metadata": {},
   "outputs": [],
   "source": []
  }
 ],
 "metadata": {
  "kernelspec": {
   "display_name": "Python 3.10.4 64-bit",
   "language": "python",
   "name": "python3"
  },
  "language_info": {
   "codemirror_mode": {
    "name": "ipython",
    "version": 3
   },
   "file_extension": ".py",
   "mimetype": "text/x-python",
   "name": "python",
   "nbconvert_exporter": "python",
   "pygments_lexer": "ipython3",
   "version": "3.10.4"
  },
  "orig_nbformat": 4,
  "vscode": {
   "interpreter": {
    "hash": "e7370f93d1d0cde622a1f8e1c04877d8463912d04d973331ad4851f04de6915a"
   }
  }
 },
 "nbformat": 4,
 "nbformat_minor": 2
}
