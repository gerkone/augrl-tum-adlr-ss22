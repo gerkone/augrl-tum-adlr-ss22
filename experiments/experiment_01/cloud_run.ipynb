{
 "cells": [
  {
   "cell_type": "code",
   "execution_count": 1,
   "metadata": {
    "pycharm": {
     "name": "#%%\n"
    }
   },
   "outputs": [],
   "source": [
    "%%capture stored_output\n",
    "%load_ext autoreload\n",
    "%autoreload 2"
   ]
  },
  {
   "cell_type": "code",
   "execution_count": 11,
   "metadata": {
    "pycharm": {
     "name": "#%%\n"
    }
   },
   "outputs": [],
   "source": [
    "import os\n",
    "os.environ[\"D4RL_SUPPRESS_IMPORT_ERROR\"] = \"1\"\n",
    "import yaml\n",
    "import pprint as pp\n",
    "from run_training import run"
   ]
  },
  {
   "cell_type": "markdown",
   "metadata": {
    "pycharm": {
     "name": "#%% md\n"
    }
   },
   "source": [
    "## Open configuration file"
   ]
  },
  {
   "cell_type": "code",
   "execution_count": 12,
   "metadata": {
    "pycharm": {
     "name": "#%%\n"
    }
   },
   "outputs": [
    {
     "name": "stdout",
     "output_type": "stream",
     "text": [
      "{'algorithms': [{'name': 'augmentedcql'},\n",
      "                {'name': 'augmentedbcq'},\n",
      "                {'name': 'bcq'},\n",
      "                {'name': 'cql'}],\n",
      " 'augmentations': {'adversarial': {'eps': 0.001, 'norm': 2},\n",
      "                   'gaussian': {'sigma': 0.003},\n",
      "                   'mixup': {'eps': 0.4}},\n",
      " 'cuda': True,\n",
      " 'data_ratio': [1.0, 0.1],\n",
      " 'env_evaluation_trials': 10,\n",
      " 'environments': ['door-human-v1'],\n",
      " 'epochs': 100,\n",
      " 'generated_maxlen': 200000,\n",
      " 'real_ratio': 0.5,\n",
      " 'save_interval': 5,\n",
      " 'scaler': 'min_max',\n",
      " 'scorers': ['evaluate_on_environment',\n",
      "             'discounted_sum_of_advantage_scorer',\n",
      "             'td_error_scorer',\n",
      "             'average_value_estimation_scorer'],\n",
      " 'show_progress': True,\n",
      " 'test_size': 0.2,\n",
      " 'verbose': True}\n"
     ]
    }
   ],
   "source": [
    "with open(\"config.yaml\", \"r\") as file:\n",
    "    config = yaml.safe_load(file)\n",
    "pp.pprint(config)"
   ]
  },
  {
   "cell_type": "markdown",
   "metadata": {
    "pycharm": {
     "name": "#%% md\n"
    }
   },
   "source": [
    "## Run training"
   ]
  },
  {
   "cell_type": "code",
   "execution_count": null,
   "metadata": {
    "pycharm": {
     "name": "#%%\n"
    },
    "scrolled": false
   },
   "outputs": [],
   "source": [
    "seeds = [10, 20, 30]\n",
    "for seed in seeds:\n",
    "    print(f\"INFO: using seed {seed}\")\n",
    "    errors = run(config, seed)"
   ]
  }
 ],
 "metadata": {
  "kernelspec": {
   "display_name": "Python 3 (ipykernel)",
   "language": "python",
   "name": "python3"
  },
  "language_info": {
   "codemirror_mode": {
    "name": "ipython",
    "version": 3
   },
   "file_extension": ".py",
   "mimetype": "text/x-python",
   "name": "python",
   "nbconvert_exporter": "python",
   "pygments_lexer": "ipython3",
   "version": "3.10.4"
  },
  "vscode": {
   "interpreter": {
    "hash": "e7370f93d1d0cde622a1f8e1c04877d8463912d04d973331ad4851f04de6915a"
   }
  }
 },
 "nbformat": 4,
 "nbformat_minor": 2
}