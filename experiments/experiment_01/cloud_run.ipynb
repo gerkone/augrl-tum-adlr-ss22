{
 "cells": [
  {
   "cell_type": "code",
   "execution_count": 1,
   "metadata": {
    "pycharm": {
     "name": "#%%\n"
    }
   },
   "outputs": [],
   "source": [
    "%%capture stored_output\n",
    "%load_ext autoreload\n",
    "%autoreload 2"
   ]
  },
  {
   "cell_type": "code",
   "execution_count": 2,
   "metadata": {
    "pycharm": {
     "name": "#%%\n"
    }
   },
   "outputs": [
    {
     "name": "stderr",
     "output_type": "stream",
     "text": [
      "/home/hamzahaddaoui_h/.local/lib/python3.10/site-packages/glfw/__init__.py:906: GLFWError: (65544) b'X11: The DISPLAY environment variable is missing'\n",
      "  warnings.warn(message, GLFWError)\n",
      "pybullet build time: Jul 20 2022 07:43:23\n"
     ]
    }
   ],
   "source": [
    "import os\n",
    "os.environ[\"D4RL_SUPPRESS_IMPORT_ERROR\"] = \"1\"\n",
    "import yaml\n",
    "import pprint as pp\n",
    "from run_training import run"
   ]
  },
  {
   "cell_type": "markdown",
   "metadata": {
    "pycharm": {
     "name": "#%% md\n"
    }
   },
   "source": [
    "## Open configuration file"
   ]
  },
  {
   "cell_type": "code",
   "execution_count": 14,
   "metadata": {
    "pycharm": {
     "name": "#%%\n"
    }
   },
   "outputs": [
    {
     "name": "stdout",
     "output_type": "stream",
     "text": [
      "{'algorithms': [{'name': 'augmentedcql'}, {'name': 'cql'}],\n",
      " 'augmentations': {'adversarial': {'eps': 0.0001, 'norm': 2},\n",
      "                   'gaussian': {'sigma': 0.0001}},\n",
      " 'cuda': True,\n",
      " 'data_ratio': [0.5],\n",
      " 'dataset': 'walker2d-medium-expert-v2',\n",
      " 'env_evaluation_trials': 10,\n",
      " 'environment': 'Walker2d-v2',\n",
      " 'epochs': 100,\n",
      " 'generated_maxlen': 200000,\n",
      " 'real_ratio': 0,\n",
      " 'save_interval': 10,\n",
      " 'scaler': 'min_max',\n",
      " 'steps': 200000,\n",
      " 'test_size': 0.2}\n"
     ]
    }
   ],
   "source": [
    "with open(\"config.yaml\", \"r\") as file:\n",
    "    config = yaml.safe_load(file)\n",
    "pp.pprint(config)"
   ]
  },
  {
   "cell_type": "markdown",
   "metadata": {
    "pycharm": {
     "name": "#%% md\n"
    }
   },
   "source": [
    "## Run training"
   ]
  },
  {
   "cell_type": "code",
   "execution_count": null,
   "metadata": {
    "pycharm": {
     "name": "#%%\n"
    },
    "scrolled": false
   },
   "outputs": [
    {
     "name": "stderr",
     "output_type": "stream",
     "text": [
      "/home/hamzahaddaoui_h/.local/lib/python3.10/site-packages/gym/logger.py:30: UserWarning: \u001B[33mWARN: Box bound precision lowered by casting to float32\u001B[0m\n",
      "  warnings.warn(colorize('%s: %s'%('WARN', msg % args), 'yellow'))\n"
     ]
    },
    {
     "name": "stdout",
     "output_type": "stream",
     "text": [
      "INFO: using seed 10\n"
     ]
    },
    {
     "name": "stderr",
     "output_type": "stream",
     "text": [
      "load datafile: 100%|██████████| 9/9 [00:04<00:00,  2.10it/s]\n"
     ]
    },
    {
     "name": "stdout",
     "output_type": "stream",
     "text": [
      "[INFO]:  Loaded walker2d-medium-expert-v2 on environment Walker2d-v2: discrete=False, #tot_observation=1999995\n",
      "Generated datasets: \n",
      "Data ratio 0.5: #observations = 999997\n",
      "2022-08-03 07:50.27 [warning  ] Unused arguments are passed.   action_flexibility=0.05 imitator_learning_rate=0.001 lam=0.75\n",
      "[INFO]: Starting training with AugmentedCQL with data_ratio: 0.5 (#samples = 999997)\n"
     ]
    },
    {
     "name": "stderr",
     "output_type": "stream",
     "text": [
      "Epoch 1/100: 100%|██████████| 2000/2000 [00:50<00:00, 39.88it/s, temp_loss=5.91, temp=0.92, critic_loss=27, actor_loss=-19.6]   \n"
     ]
    },
    {
     "name": "stdout",
     "output_type": "stream",
     "text": [
      "[INFO]: Evaluation started\n",
      "[INFO]: Algorithm: 0.5_AugmentedCQL, Epoch: 1, td_error: 26.93650598059656, environment_reward: 348.178621782772\n"
     ]
    },
    {
     "name": "stderr",
     "output_type": "stream",
     "text": [
      "Epoch 2/100: 100%|██████████| 2000/2000 [00:50<00:00, 39.47it/s, temp_loss=3.34, temp=0.786, critic_loss=15.4, actor_loss=-60.9]\n"
     ]
    },
    {
     "name": "stdout",
     "output_type": "stream",
     "text": [
      "[INFO]: Evaluation started\n",
      "[INFO]: Algorithm: 0.5_AugmentedCQL, Epoch: 2, td_error: 27.636381270323195, environment_reward: 559.7188064819138\n"
     ]
    },
    {
     "name": "stderr",
     "output_type": "stream",
     "text": [
      "Epoch 3/100: 100%|██████████| 2000/2000 [00:50<00:00, 39.83it/s, temp_loss=2.16, temp=0.674, critic_loss=16.4, actor_loss=-102] \n"
     ]
    },
    {
     "name": "stdout",
     "output_type": "stream",
     "text": [
      "[INFO]: Evaluation started\n",
      "[INFO]: Algorithm: 0.5_AugmentedCQL, Epoch: 3, td_error: 26.128115432727824, environment_reward: 505.694136238386\n"
     ]
    },
    {
     "name": "stderr",
     "output_type": "stream",
     "text": [
      "Epoch 4/100: 100%|██████████| 2000/2000 [00:50<00:00, 39.66it/s, temp_loss=1.39, temp=0.58, critic_loss=19.2, actor_loss=-142] \n"
     ]
    },
    {
     "name": "stdout",
     "output_type": "stream",
     "text": [
      "[INFO]: Evaluation started\n",
      "[INFO]: Algorithm: 0.5_AugmentedCQL, Epoch: 4, td_error: 26.656899014598675, environment_reward: 499.14862402087766\n"
     ]
    },
    {
     "name": "stderr",
     "output_type": "stream",
     "text": [
      "Epoch 5/100: 100%|██████████| 2000/2000 [00:50<00:00, 39.28it/s, temp_loss=0.835, temp=0.501, critic_loss=23.9, actor_loss=-178]\n"
     ]
    },
    {
     "name": "stdout",
     "output_type": "stream",
     "text": [
      "[INFO]: Evaluation started\n",
      "[INFO]: Algorithm: 0.5_AugmentedCQL, Epoch: 5, td_error: 25.459213376863524, environment_reward: 702.4544866099293\n"
     ]
    },
    {
     "name": "stderr",
     "output_type": "stream",
     "text": [
      "Epoch 6/100: 100%|██████████| 2000/2000 [00:50<00:00, 39.43it/s, temp_loss=0.465, temp=0.438, critic_loss=27.7, actor_loss=-212]\n"
     ]
    },
    {
     "name": "stdout",
     "output_type": "stream",
     "text": [
      "[INFO]: Evaluation started\n",
      "[INFO]: Algorithm: 0.5_AugmentedCQL, Epoch: 6, td_error: 29.830591390823418, environment_reward: -11.768439421355849\n"
     ]
    },
    {
     "name": "stderr",
     "output_type": "stream",
     "text": [
      "Epoch 7/100: 100%|██████████| 2000/2000 [00:50<00:00, 39.31it/s, temp_loss=0.231, temp=0.389, critic_loss=30.8, actor_loss=-243]\n"
     ]
    },
    {
     "name": "stdout",
     "output_type": "stream",
     "text": [
      "[INFO]: Evaluation started\n",
      "[INFO]: Algorithm: 0.5_AugmentedCQL, Epoch: 7, td_error: 27.163820923585043, environment_reward: -20.52474260633281\n"
     ]
    },
    {
     "name": "stderr",
     "output_type": "stream",
     "text": [
      "Epoch 8/100: 100%|██████████| 2000/2000 [00:51<00:00, 39.16it/s, temp_loss=0.0879, temp=0.355, critic_loss=35.9, actor_loss=-270]\n"
     ]
    },
    {
     "name": "stdout",
     "output_type": "stream",
     "text": [
      "[INFO]: Evaluation started\n",
      "[INFO]: Algorithm: 0.5_AugmentedCQL, Epoch: 8, td_error: 29.66700944052274, environment_reward: -15.501401938833425\n"
     ]
    },
    {
     "name": "stderr",
     "output_type": "stream",
     "text": [
      "Epoch 9/100: 100%|██████████| 2000/2000 [00:50<00:00, 39.66it/s, temp_loss=0.0251, temp=0.338, critic_loss=49.3, actor_loss=-295]\n"
     ]
    },
    {
     "name": "stdout",
     "output_type": "stream",
     "text": [
      "[INFO]: Evaluation started\n",
      "[INFO]: Algorithm: 0.5_AugmentedCQL, Epoch: 9, td_error: 30.63725391689669, environment_reward: -12.230966073511084\n"
     ]
    },
    {
     "name": "stderr",
     "output_type": "stream",
     "text": [
      "Epoch 10/100: 100%|██████████| 2000/2000 [00:50<00:00, 39.76it/s, temp_loss=0.00198, temp=0.333, critic_loss=56.9, actor_loss=-318]\n"
     ]
    },
    {
     "name": "stdout",
     "output_type": "stream",
     "text": [
      "[INFO]: Evaluation started\n",
      "Recorded video will be saved in ./results/Walker2d-v2/seed_10/0.5_AugmentedCQL_10/video\n",
      "[INFO]: Algorithm: 0.5_AugmentedCQL, Epoch: 10, td_error: 32.66058188046314, environment_reward: -14.548977091937337\n"
     ]
    },
    {
     "name": "stderr",
     "output_type": "stream",
     "text": [
      "Epoch 11/100: 100%|██████████| 2000/2000 [00:51<00:00, 38.71it/s, temp_loss=-.00313, temp=0.333, critic_loss=59.3, actor_loss=-338] \n"
     ]
    },
    {
     "name": "stdout",
     "output_type": "stream",
     "text": [
      "[INFO]: Evaluation started\n",
      "[INFO]: Algorithm: 0.5_AugmentedCQL, Epoch: 11, td_error: 34.37152024210491, environment_reward: -9.0872340163775\n"
     ]
    },
    {
     "name": "stderr",
     "output_type": "stream",
     "text": [
      "Epoch 12/100: 100%|██████████| 2000/2000 [00:50<00:00, 39.25it/s, temp_loss=0.00265, temp=0.333, critic_loss=64.9, actor_loss=-356]\n"
     ]
    },
    {
     "name": "stdout",
     "output_type": "stream",
     "text": [
      "[INFO]: Evaluation started\n",
      "[INFO]: Algorithm: 0.5_AugmentedCQL, Epoch: 12, td_error: 35.78855494953858, environment_reward: -19.466847194501103\n"
     ]
    },
    {
     "name": "stderr",
     "output_type": "stream",
     "text": [
      "Epoch 13/100:  85%|████████▍ | 1695/2000 [00:43<00:07, 38.75it/s, temp_loss=0.00211, temp=0.332, critic_loss=68.1, actor_loss=-371] "
     ]
    }
   ],
   "source": [
    "seeds = [10, 20]\n",
    "for seed in seeds:\n",
    "    print(f\"INFO: using seed {seed}\")\n",
    "    errors = run(config, seed)"
   ]
  },
  {
   "cell_type": "code",
   "execution_count": null,
   "metadata": {
    "pycharm": {
     "name": "#%%\n"
    }
   },
   "outputs": [],
   "source": []
  }
 ],
 "metadata": {
  "kernelspec": {
   "display_name": "Python 3 (ipykernel)",
   "language": "python",
   "name": "python3"
  },
  "language_info": {
   "codemirror_mode": {
    "name": "ipython",
    "version": 3
   },
   "file_extension": ".py",
   "mimetype": "text/x-python",
   "name": "python",
   "nbconvert_exporter": "python",
   "pygments_lexer": "ipython3",
   "version": "3.10.4"
  },
  "vscode": {
   "interpreter": {
    "hash": "e7370f93d1d0cde622a1f8e1c04877d8463912d04d973331ad4851f04de6915a"
   }
  }
 },
 "nbformat": 4,
 "nbformat_minor": 2
}