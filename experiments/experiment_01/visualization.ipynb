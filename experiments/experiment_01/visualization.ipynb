{
 "cells": [
  {
   "cell_type": "code",
   "execution_count": 51,
   "metadata": {
    "pycharm": {
     "name": "#%%\n"
    }
   },
   "outputs": [],
   "source": [
    "%%capture stored_output\n",
    "%load_ext autoreload\n",
    "%autoreload 2"
   ]
  },
  {
   "cell_type": "markdown",
   "metadata": {
    "pycharm": {
     "name": "#%% md\n"
    }
   },
   "source": [
    "\n",
    "# Visualize results"
   ]
  },
  {
   "cell_type": "code",
   "execution_count": 52,
   "metadata": {},
   "outputs": [],
   "source": [
    "import os\n",
    "import pandas as pd\n",
    "import seaborn as sns\n",
    "import datetime\n",
    "from ipywidgets import interact, widgets\n",
    "from IPython.display import display, clear_output\n",
    "from typing import List\n",
    "\n",
    "global tables, algos, palette_dict, metrics\n",
    "global plot_output, load_output, env_w, algo_w, scorers_w, aggregate_w, save_w\n",
    "tables = {}\n",
    "algos = []\n",
    "metrics = []\n",
    "palette_dict = {}\n"
   ]
  },
  {
   "cell_type": "code",
   "execution_count": 53,
   "metadata": {
    "pycharm": {
     "name": "#%%\n"
    }
   },
   "outputs": [],
   "source": [
    "def plot_df(b):\n",
    "    with plot_output:\n",
    "        try:\n",
    "            env_name = env_w.value\n",
    "            algo_list = algo_w.value\n",
    "            scorers_list = scorers_w.value\n",
    "            aggregate = aggregate_w.value\n",
    "            save = save_w.value\n",
    "            \n",
    "            df = tables[env_name]\n",
    "            df = df.drop(columns =['env'], errors='ignore') \n",
    "            df = df.loc[df['algo'].isin(algo_list)]\n",
    "            df = df.loc[df['metric'].isin(scorers_list)]\n",
    "            df = df.reset_index()\n",
    "\n",
    "            print(\"Plotting {} with {} and {}, aggregate: {}\".format(env_name, algo_list, scorers_list, aggregate))\n",
    "\n",
    "            if (aggregate):\n",
    "                df = df.drop(columns =['date-time'], errors='ignore')\n",
    "\n",
    "                plot = sns.relplot(\n",
    "                    data=df,\n",
    "                    x = \"epoch\",\n",
    "                    y = \"value\",\n",
    "                    col=\"metric\",\n",
    "                    hue=\"algo\",\n",
    "                    style=\"algo\", \n",
    "                    kind=\"line\",\n",
    "                    height=5,\n",
    "                    aspect=1.7,\n",
    "                    dashes = False,\n",
    "                    palette=palette_dict,\n",
    "                )\n",
    "\n",
    "            else:\n",
    "\n",
    "                plot = sns.FacetGrid(\n",
    "                    data=df,\n",
    "                    col=\"metric\",\n",
    "                    hue=\"algo\",\n",
    "                    row=\"date-time\",   \n",
    "                    height=5,\n",
    "                    aspect=1.7,\n",
    "                    legend_out=True,\n",
    "                    sharey=False,\n",
    "                    sharex=False,\n",
    "                    palette=palette_dict,\n",
    "                )\n",
    "                plot.map_dataframe(sns.lineplot, \"epoch\", \"value\")\n",
    "                plot.add_legend()\n",
    "            \n",
    "            if save:\n",
    "                plot.savefig(\"{}_{}.png\".format(env_name,datetime.datetime.now().strftime(\"%d%m%Y_%H%M\")))\n",
    "            print(\"Done!\")\n",
    "        except ValueError:\n",
    "                print(\"It was not possible to plot the requested data\")\n",
    "    return"
   ]
  },
  {
   "cell_type": "code",
   "execution_count": 54,
   "metadata": {},
   "outputs": [],
   "source": [
    "def load_data(b):\n",
    "    global tables, algos, palette_dict, metrics\n",
    "    clear_output(wait=False)\n",
    "    with load_output:\n",
    "        \n",
    "        for filename in os.scandir(\"results\"):\n",
    "            if filename.name.endswith('.parquet'):\n",
    "                env = filename.name.split('.')[0]      #get name of the environment\n",
    "                df = pd.read_parquet(filename.path)    #get dataframe from parquet\n",
    "                tables[env] = df\n",
    "\n",
    "        #get list of used algorithms\n",
    "        algos = [algo for table in tables.values() for algo in table[\"algo\"].unique()]\n",
    "        algos = list(dict.fromkeys(algos))\n",
    "        algos.sort()\n",
    "        \n",
    "        #get list of used scorers\n",
    "        metrics = [scorer for table in tables.values() for scorer in table[\"metric\"].unique()]\n",
    "        metrics = list(dict.fromkeys(metrics))\n",
    "        metrics.sort()\n",
    "        print(metrics)\n",
    "\n",
    "        #construct colors palette (fix color for each algo)\n",
    "        palette_dict = {\n",
    "            continent: color\n",
    "            for continent, color in zip(algos, sns.color_palette(\"tab10\"))\n",
    "        }\n",
    "    run_visualizer()\n",
    "    return"
   ]
  },
  {
   "cell_type": "code",
   "execution_count": null,
   "outputs": [],
   "source": [
    "def run_visualizer():\n",
    "    global plot_output, load_output, env_w, algo_w, scorers_w, aggregate_w, save_w\n",
    "    \n",
    "    load_butt = widgets.Button(\n",
    "        description=\"Refresh\",\n",
    "        button_style='warning',\n",
    "        icon='fa-refresh'#'check',\n",
    "    )\n",
    "    load_output = widgets.Output()\n",
    "    load_butt.on_click(load_data)\n",
    "\n",
    "    plot_butt = widgets.Button(\n",
    "        description=\"Show results\",\n",
    "        button_style='success',\n",
    "        icon='fa-line-chart',\n",
    "    )\n",
    "    plot_output = widgets.Output()\n",
    "    plot_butt.on_click(plot_df)\n",
    "\n",
    "    env_w = widgets.ToggleButtons(\n",
    "        options=list(tables.keys()),\n",
    "        description='Environment: ',\n",
    "        disabled=False,\n",
    "        button_style='info', # 'success', 'info', 'warning', 'danger' or ''\n",
    "        continuous_update=True\n",
    "    )\n",
    "\n",
    "    algo_w = widgets.SelectMultiple(\n",
    "        options=algos,\n",
    "        description='Algorithms: ',\n",
    "        layout={'width': 'max-content'},\n",
    "        disabled=False,\n",
    "        rows=10,\n",
    "        continuous_update=True\n",
    "    )\n",
    "    \n",
    "    scorers_w = widgets.SelectMultiple(\n",
    "        options=metrics,\n",
    "        description='Scorers: ',\n",
    "        layout={'width': 'max-content'},\n",
    "        disabled=False,\n",
    "        rows=6,\n",
    "        continuous_update=True\n",
    "    )\n",
    "\n",
    "    aggregate_w = widgets.Checkbox(\n",
    "        value=False,\n",
    "        description='Aggregate trials? ',\n",
    "        disabled=False,\n",
    "        indent=False\n",
    "\n",
    "    )\n",
    "    \n",
    "    save_w = widgets.Checkbox(\n",
    "        value=False,\n",
    "        description='Save graph? ',\n",
    "        disabled=False,\n",
    "        indent=False\n",
    "\n",
    "    )\n",
    "    \n",
    "    display(load_butt, load_output)\n",
    "    display(env_w)\n",
    "    display(algo_w)\n",
    "    display(scorers_w)\n",
    "    display(aggregate_w)\n",
    "    display(save_w)\n",
    "    display(plot_butt, plot_output)\n",
    "    "
   ],
   "metadata": {
    "collapsed": false,
    "pycharm": {
     "name": "#%%\n"
    }
   }
  },
  {
   "cell_type": "code",
   "execution_count": null,
   "outputs": [],
   "source": [
    "run_visualizer()"
   ],
   "metadata": {
    "collapsed": false,
    "pycharm": {
     "name": "#%%\n"
    }
   }
  }
 ],
 "metadata": {
  "kernelspec": {
   "display_name": "Python 3 (ipykernel)",
   "language": "python",
   "name": "python3"
  },
  "language_info": {
   "codemirror_mode": {
    "name": "ipython",
    "version": 3
   },
   "file_extension": ".py",
   "mimetype": "text/x-python",
   "name": "python",
   "nbconvert_exporter": "python",
   "pygments_lexer": "ipython3",
   "version": "3.10.4"
  },
  "vscode": {
   "interpreter": {
    "hash": "e7370f93d1d0cde622a1f8e1c04877d8463912d04d973331ad4851f04de6915a"
   }
  }
 },
 "nbformat": 4,
 "nbformat_minor": 2
}